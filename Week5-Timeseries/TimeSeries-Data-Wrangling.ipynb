{
 "cells": [
  {
   "cell_type": "markdown",
   "metadata": {},
   "source": [
    "<img style=\"float: left;\" src=\"pic2.png\">"
   ]
  },
  {
   "cell_type": "code",
   "execution_count": 125,
   "metadata": {},
   "outputs": [
    {
     "data": {
      "text/plain": [
       "'0.23.4'"
      ]
     },
     "execution_count": 125,
     "metadata": {},
     "output_type": "execute_result"
    }
   ],
   "source": [
    "pd.__version__"
   ]
  },
  {
   "cell_type": "markdown",
   "metadata": {},
   "source": [
    "### Sridhar Palle, Ph.D, spalle@emory.edu (Applied ML & DS with Python Program)"
   ]
  },
  {
   "cell_type": "markdown",
   "metadata": {},
   "source": [
    "# TimeSeries Data Wrangling"
   ]
  },
  {
   "cell_type": "markdown",
   "metadata": {},
   "source": [
    "**We can work with time series in different ways**\n",
    "* datetime, dateutil modules from native python\n",
    "* np.datetime64 dtype\n",
    "* pandas timestamp, period, and timedelta types (datetimeindex, periodindex, and timedelta index)\n",
    "* pytz contain tools with most migrane inducing piece of time series data: time zones"
   ]
  },
  {
   "cell_type": "markdown",
   "metadata": {},
   "source": [
    "### Native Python date time objects\n",
    "* datetime\n",
    "* dateutil"
   ]
  },
  {
   "cell_type": "markdown",
   "metadata": {},
   "source": [
    "**datetime**"
   ]
  },
  {
   "cell_type": "code",
   "execution_count": 1,
   "metadata": {},
   "outputs": [],
   "source": [
    "import numpy as np\n",
    "import pandas as pd\n",
    "import matplotlib.pyplot as plt\n",
    "import seaborn as sns\n",
    "%matplotlib inline"
   ]
  },
  {
   "cell_type": "code",
   "execution_count": 2,
   "metadata": {},
   "outputs": [],
   "source": [
    "from datetime import datetime"
   ]
  },
  {
   "cell_type": "code",
   "execution_count": 3,
   "metadata": {},
   "outputs": [
    {
     "data": {
      "text/plain": [
       "datetime.datetime(2019, 7, 4, 0, 0)"
      ]
     },
     "execution_count": 3,
     "metadata": {},
     "output_type": "execute_result"
    }
   ],
   "source": [
    "datetime(year=2019, month=7, day = 4)"
   ]
  },
  {
   "cell_type": "code",
   "execution_count": 4,
   "metadata": {},
   "outputs": [
    {
     "data": {
      "text/plain": [
       "datetime.datetime(2018, 12, 3, 0, 0)"
      ]
     },
     "execution_count": 4,
     "metadata": {},
     "output_type": "execute_result"
    }
   ],
   "source": [
    "datetime(2018, 12, 3)"
   ]
  },
  {
   "cell_type": "code",
   "execution_count": 5,
   "metadata": {},
   "outputs": [
    {
     "ename": "ValueError",
     "evalue": "day is out of range for month",
     "output_type": "error",
     "traceback": [
      "\u001b[1;31m---------------------------------------------------------------------------\u001b[0m",
      "\u001b[1;31mValueError\u001b[0m                                Traceback (most recent call last)",
      "\u001b[1;32m<ipython-input-5-d4c4109402fa>\u001b[0m in \u001b[0;36m<module>\u001b[1;34m\u001b[0m\n\u001b[1;32m----> 1\u001b[1;33m \u001b[0mdatetime\u001b[0m\u001b[1;33m(\u001b[0m\u001b[1;36m12\u001b[0m\u001b[1;33m,\u001b[0m \u001b[1;36m3\u001b[0m\u001b[1;33m,\u001b[0m \u001b[1;36m2019\u001b[0m\u001b[1;33m)\u001b[0m \u001b[1;31m# order of arguments is important\u001b[0m\u001b[1;33m\u001b[0m\u001b[1;33m\u001b[0m\u001b[0m\n\u001b[0m",
      "\u001b[1;31mValueError\u001b[0m: day is out of range for month"
     ]
    }
   ],
   "source": [
    "datetime(12, 3, 2019) # order of arguments is important"
   ]
  },
  {
   "cell_type": "code",
   "execution_count": 6,
   "metadata": {},
   "outputs": [
    {
     "data": {
      "text/plain": [
       "datetime.datetime(2019, 6, 1, 10, 40, 5, 894460)"
      ]
     },
     "execution_count": 6,
     "metadata": {},
     "output_type": "execute_result"
    }
   ],
   "source": [
    "datetime.now() # current day and time"
   ]
  },
  {
   "cell_type": "code",
   "execution_count": 7,
   "metadata": {},
   "outputs": [
    {
     "data": {
      "text/plain": [
       "datetime.timedelta(days=3, seconds=30630)"
      ]
     },
     "execution_count": 7,
     "metadata": {},
     "output_type": "execute_result"
    }
   ],
   "source": [
    "d1 = datetime(2019, 5, 13)\n",
    "d2 = datetime(2019, 5, 16, 8, 30, 30)\n",
    "delta = d2-d1\n",
    "delta"
   ]
  },
  {
   "cell_type": "code",
   "execution_count": 8,
   "metadata": {},
   "outputs": [
    {
     "data": {
      "text/plain": [
       "30630"
      ]
     },
     "execution_count": 8,
     "metadata": {},
     "output_type": "execute_result"
    }
   ],
   "source": [
    "delta.seconds"
   ]
  },
  {
   "cell_type": "markdown",
   "metadata": {},
   "source": [
    "**dateutil**"
   ]
  },
  {
   "cell_type": "code",
   "execution_count": 9,
   "metadata": {},
   "outputs": [
    {
     "data": {
      "text/plain": [
       "datetime.datetime(2019, 7, 4, 0, 0)"
      ]
     },
     "execution_count": 9,
     "metadata": {},
     "output_type": "execute_result"
    }
   ],
   "source": [
    "from dateutil import parser\n",
    "date = parser.parse('4th july 2019') # dateutil you can parse dates from a variety of string formats.\n",
    "date"
   ]
  },
  {
   "cell_type": "code",
   "execution_count": 10,
   "metadata": {},
   "outputs": [
    {
     "data": {
      "text/plain": [
       "datetime.datetime(2019, 7, 10, 0, 0)"
      ]
     },
     "execution_count": 10,
     "metadata": {},
     "output_type": "execute_result"
    }
   ],
   "source": [
    "parser.parse('july 10, 2019')"
   ]
  },
  {
   "cell_type": "code",
   "execution_count": 11,
   "metadata": {},
   "outputs": [
    {
     "data": {
      "text/plain": [
       "datetime.datetime(2019, 1, 15, 0, 0)"
      ]
     },
     "execution_count": 11,
     "metadata": {},
     "output_type": "execute_result"
    }
   ],
   "source": [
    "parser.parse('2019 jan 15th')"
   ]
  },
  {
   "cell_type": "code",
   "execution_count": 12,
   "metadata": {},
   "outputs": [
    {
     "data": {
      "text/plain": [
       "datetime.timedelta(days=176)"
      ]
     },
     "execution_count": 12,
     "metadata": {},
     "output_type": "execute_result"
    }
   ],
   "source": [
    "parser.parse('july 10, 2019') - parser.parse('2019 jan 15th')"
   ]
  },
  {
   "cell_type": "code",
   "execution_count": 13,
   "metadata": {},
   "outputs": [
    {
     "data": {
      "text/plain": [
       "datetime.datetime(2019, 7, 4, 0, 0)"
      ]
     },
     "execution_count": 13,
     "metadata": {},
     "output_type": "execute_result"
    }
   ],
   "source": [
    "date = parser.parse('4th july 2019')\n",
    "date"
   ]
  },
  {
   "cell_type": "code",
   "execution_count": 14,
   "metadata": {},
   "outputs": [
    {
     "data": {
      "text/plain": [
       "'Thursday'"
      ]
     },
     "execution_count": 14,
     "metadata": {},
     "output_type": "execute_result"
    }
   ],
   "source": [
    "date.strftime('%A') # Once we have a datetime object, then we can do things like getting the day."
   ]
  },
  {
   "cell_type": "code",
   "execution_count": 15,
   "metadata": {},
   "outputs": [
    {
     "data": {
      "text/plain": [
       "'19'"
      ]
     },
     "execution_count": 15,
     "metadata": {},
     "output_type": "execute_result"
    }
   ],
   "source": [
    "date.strftime('%y')"
   ]
  },
  {
   "cell_type": "code",
   "execution_count": 16,
   "metadata": {},
   "outputs": [
    {
     "data": {
      "text/plain": [
       "'04'"
      ]
     },
     "execution_count": 16,
     "metadata": {},
     "output_type": "execute_result"
    }
   ],
   "source": [
    "date.strftime('%d')"
   ]
  },
  {
   "cell_type": "code",
   "execution_count": 17,
   "metadata": {},
   "outputs": [
    {
     "data": {
      "text/plain": [
       "'07'"
      ]
     },
     "execution_count": 17,
     "metadata": {},
     "output_type": "execute_result"
    }
   ],
   "source": [
    "date.strftime('%m')"
   ]
  },
  {
   "cell_type": "code",
   "execution_count": 18,
   "metadata": {},
   "outputs": [
    {
     "data": {
      "text/plain": [
       "datetime.timedelta(days=176, seconds=15007)"
      ]
     },
     "execution_count": 18,
     "metadata": {},
     "output_type": "execute_result"
    }
   ],
   "source": [
    "parser.parse('july 10, 2019 8:30:30') - parser.parse('2019 jan 15th 4:20:23')"
   ]
  },
  {
   "cell_type": "code",
   "execution_count": 19,
   "metadata": {},
   "outputs": [],
   "source": [
    "#datetime and dateutil are pretty powerful because of their flexibility and easy syntax. But they fall \n",
    "#short in situations where we want to deal with an array of dates and times"
   ]
  },
  {
   "cell_type": "markdown",
   "metadata": {},
   "source": [
    "### Numpy np.datetime64 "
   ]
  },
  {
   "cell_type": "code",
   "execution_count": 20,
   "metadata": {},
   "outputs": [],
   "source": [
    "#numpy team tried to overcome some of the deficiencies of datetime and dateutil with a native time series data type in numpy\n",
    "# datetime64 which requires a very specific input format"
   ]
  },
  {
   "cell_type": "code",
   "execution_count": 21,
   "metadata": {},
   "outputs": [
    {
     "data": {
      "text/plain": [
       "numpy.datetime64('2019-07-04')"
      ]
     },
     "execution_count": 21,
     "metadata": {},
     "output_type": "execute_result"
    }
   ],
   "source": [
    "date = np.datetime64('2019-07-04') # for single date\n",
    "date"
   ]
  },
  {
   "cell_type": "code",
   "execution_count": 22,
   "metadata": {},
   "outputs": [
    {
     "data": {
      "text/plain": [
       "array(['2019-07-04', '2019-07-05', '2019-07-06', '2019-07-07',\n",
       "       '2019-07-08'], dtype='datetime64[D]')"
      ]
     },
     "execution_count": 22,
     "metadata": {},
     "output_type": "execute_result"
    }
   ],
   "source": [
    "date + np.arange(5) # power of numpy, we can do vectorized operations on dates"
   ]
  },
  {
   "cell_type": "code",
   "execution_count": 23,
   "metadata": {},
   "outputs": [],
   "source": [
    "# the default fundamental time unit is 'D'. It can be changed to Y,M,W,h, m, s, ms, ns"
   ]
  },
  {
   "cell_type": "code",
   "execution_count": 24,
   "metadata": {},
   "outputs": [
    {
     "data": {
      "text/plain": [
       "numpy.datetime64('2019-07-04T00:00:00')"
      ]
     },
     "execution_count": 24,
     "metadata": {},
     "output_type": "execute_result"
    }
   ],
   "source": [
    "date = np.datetime64('2019-07-04', 's')\n",
    "date"
   ]
  },
  {
   "cell_type": "code",
   "execution_count": 25,
   "metadata": {},
   "outputs": [
    {
     "data": {
      "text/plain": [
       "array(['2019-07-04T00:00:00', '2019-07-04T00:00:01',\n",
       "       '2019-07-04T00:00:02', '2019-07-04T00:00:03',\n",
       "       '2019-07-04T00:00:04'], dtype='datetime64[s]')"
      ]
     },
     "execution_count": 25,
     "metadata": {},
     "output_type": "execute_result"
    }
   ],
   "source": [
    "date + np.arange(5) # now the vectorized operation is on seconds"
   ]
  },
  {
   "cell_type": "code",
   "execution_count": 26,
   "metadata": {},
   "outputs": [],
   "source": [
    "# for more than one date, we can use np.array with dtype - np.datetime64"
   ]
  },
  {
   "cell_type": "code",
   "execution_count": 27,
   "metadata": {},
   "outputs": [
    {
     "data": {
      "text/plain": [
       "array(['2019-07-04'], dtype='datetime64[D]')"
      ]
     },
     "execution_count": 27,
     "metadata": {},
     "output_type": "execute_result"
    }
   ],
   "source": [
    "date = np.array(['2019-07-04'], dtype=np.datetime64)\n",
    "date\n",
    "# this is a numpy array with 1 element whose type is datetime64"
   ]
  },
  {
   "cell_type": "code",
   "execution_count": 28,
   "metadata": {},
   "outputs": [
    {
     "data": {
      "text/plain": [
       "array(['2019-07-04', '2019-07-05', '2019-07-06'], dtype='datetime64[D]')"
      ]
     },
     "execution_count": 28,
     "metadata": {},
     "output_type": "execute_result"
    }
   ],
   "source": [
    "dates = np.array(['2019-07-04', '2019-07-05', '2019-07-06'],dtype=np.datetime64)\n",
    "dates"
   ]
  },
  {
   "cell_type": "code",
   "execution_count": 29,
   "metadata": {},
   "outputs": [
    {
     "data": {
      "text/plain": [
       "array('2019-05-24T08:20:30', dtype='datetime64[s]')"
      ]
     },
     "execution_count": 29,
     "metadata": {},
     "output_type": "execute_result"
    }
   ],
   "source": [
    "np.array('2019-05-24T08:20:30', dtype=np.datetime64) # we can also include time information"
   ]
  },
  {
   "cell_type": "code",
   "execution_count": 30,
   "metadata": {},
   "outputs": [
    {
     "ename": "ValueError",
     "evalue": "Cannot create a NumPy datetime other than NaT with generic units",
     "output_type": "error",
     "traceback": [
      "\u001b[1;31m---------------------------------------------------------------------------\u001b[0m",
      "\u001b[1;31mValueError\u001b[0m                                Traceback (most recent call last)",
      "\u001b[1;32m<ipython-input-30-55445ca9814b>\u001b[0m in \u001b[0;36m<module>\u001b[1;34m\u001b[0m\n\u001b[1;32m----> 1\u001b[1;33m \u001b[0mnp\u001b[0m\u001b[1;33m.\u001b[0m\u001b[0marray\u001b[0m\u001b[1;33m(\u001b[0m\u001b[1;34m'2019-13-04'\u001b[0m\u001b[1;33m,\u001b[0m \u001b[0mdtype\u001b[0m\u001b[1;33m=\u001b[0m\u001b[0mnp\u001b[0m\u001b[1;33m.\u001b[0m\u001b[0mdatetime64\u001b[0m\u001b[1;33m)\u001b[0m \u001b[1;31m# But numpy requires specific format y-m-d, otherwise error\u001b[0m\u001b[1;33m\u001b[0m\u001b[1;33m\u001b[0m\u001b[0m\n\u001b[0m",
      "\u001b[1;31mValueError\u001b[0m: Cannot create a NumPy datetime other than NaT with generic units"
     ]
    }
   ],
   "source": [
    "np.array('2019-13-04', dtype=np.datetime64) # But numpy requires specific format y-m-d, otherwise error"
   ]
  },
  {
   "cell_type": "markdown",
   "metadata": {},
   "source": [
    "## 1. Pandas: Best of both worlds"
   ]
  },
  {
   "cell_type": "markdown",
   "metadata": {},
   "source": [
    "* Timestamp type. replacement for python's native datetime, but based on more efficient numpy.datetime64. Associated index structure is DatetimeIndex.\n",
    "    - For single date object, we can use Timestamp, \n",
    "    - for multiple dates,  DatetimeIndex.\n",
    "    - But with pd.to_datetime, we can initiate both single dates or an array of dates\n",
    "* Period type. Associated index structure is PeriodIndex.\n",
    "* Timedelta type. For timedeltas or durations. TimedeltaIndex. Replacement for python's native datetime.timedelta type"
   ]
  },
  {
   "cell_type": "markdown",
   "metadata": {},
   "source": [
    "### 1.1 Creating date time objects"
   ]
  },
  {
   "cell_type": "markdown",
   "metadata": {},
   "source": [
    "**pd.to_datetime()**"
   ]
  },
  {
   "cell_type": "code",
   "execution_count": 31,
   "metadata": {},
   "outputs": [],
   "source": [
    "#It combines the flexibility of native python dataetime and dateutil objects, \n",
    "# with the efficient storage and vectorized interface of numpy datetime64 object."
   ]
  },
  {
   "cell_type": "code",
   "execution_count": 32,
   "metadata": {},
   "outputs": [
    {
     "data": {
      "text/plain": [
       "Timestamp('1978-03-04 00:00:00')"
      ]
     },
     "execution_count": 32,
     "metadata": {},
     "output_type": "execute_result"
    }
   ],
   "source": [
    "pd.Timestamp('4th march 1978') # timestamp for single date object"
   ]
  },
  {
   "cell_type": "code",
   "execution_count": 33,
   "metadata": {},
   "outputs": [
    {
     "data": {
      "text/plain": [
       "Timestamp('1977-03-04 00:00:00')"
      ]
     },
     "execution_count": 33,
     "metadata": {},
     "output_type": "execute_result"
    }
   ],
   "source": [
    "pd.to_datetime('4th march 1977') # it also returns a timestamp object which is a replacement for pythons native datetime"
   ]
  },
  {
   "cell_type": "code",
   "execution_count": 129,
   "metadata": {},
   "outputs": [
    {
     "data": {
      "text/plain": [
       "Timestamp('2012-08-01 07:20:30')"
      ]
     },
     "execution_count": 129,
     "metadata": {},
     "output_type": "execute_result"
    }
   ],
   "source": [
    "date = pd.to_datetime('Aug2012 1 T07:20:30') # very flexible, order of month, year not important\n",
    "date"
   ]
  },
  {
   "cell_type": "markdown",
   "metadata": {},
   "source": [
    "**.strftime**"
   ]
  },
  {
   "cell_type": "code",
   "execution_count": 39,
   "metadata": {},
   "outputs": [
    {
     "data": {
      "text/plain": [
       "Timestamp('2019-05-29 00:00:00')"
      ]
     },
     "execution_count": 39,
     "metadata": {},
     "output_type": "execute_result"
    }
   ],
   "source": [
    "date = pd.to_datetime('May 29, 2019')\n",
    "date"
   ]
  },
  {
   "cell_type": "code",
   "execution_count": 36,
   "metadata": {},
   "outputs": [
    {
     "data": {
      "text/plain": [
       "'29'"
      ]
     },
     "execution_count": 36,
     "metadata": {},
     "output_type": "execute_result"
    }
   ],
   "source": [
    "date.strftime('%d')"
   ]
  },
  {
   "cell_type": "code",
   "execution_count": 37,
   "metadata": {},
   "outputs": [
    {
     "data": {
      "text/plain": [
       "'05'"
      ]
     },
     "execution_count": 37,
     "metadata": {},
     "output_type": "execute_result"
    }
   ],
   "source": [
    "date.strftime('%m')"
   ]
  },
  {
   "cell_type": "code",
   "execution_count": 38,
   "metadata": {},
   "outputs": [
    {
     "data": {
      "text/plain": [
       "'00'"
      ]
     },
     "execution_count": 38,
     "metadata": {},
     "output_type": "execute_result"
    }
   ],
   "source": [
    "date.strftime('%H')"
   ]
  },
  {
   "cell_type": "code",
   "execution_count": 40,
   "metadata": {},
   "outputs": [],
   "source": [
    "#Fore more info on codes, please see below"
   ]
  },
  {
   "cell_type": "markdown",
   "metadata": {},
   "source": [
    "<img style=\"float: left;\" src=\"datetime.png\">"
   ]
  },
  {
   "cell_type": "code",
   "execution_count": 41,
   "metadata": {},
   "outputs": [],
   "source": [
    "#passing a single date to pd.to_datetime() function yields a Timestamp, passing a series of dates yields DatetimeIndex**"
   ]
  },
  {
   "cell_type": "code",
   "execution_count": 42,
   "metadata": {},
   "outputs": [
    {
     "data": {
      "text/plain": [
       "Timestamp('1955-06-20 00:00:00')"
      ]
     },
     "execution_count": 42,
     "metadata": {},
     "output_type": "execute_result"
    }
   ],
   "source": [
    "pd.to_datetime('20th June 1955') # for a single object we get Timestamp"
   ]
  },
  {
   "cell_type": "code",
   "execution_count": 43,
   "metadata": {},
   "outputs": [
    {
     "data": {
      "text/plain": [
       "DatetimeIndex(['1955-06-20'], dtype='datetime64[ns]', freq=None)"
      ]
     },
     "execution_count": 43,
     "metadata": {},
     "output_type": "execute_result"
    }
   ],
   "source": [
    "pd.to_datetime(['20th June 1955']) \n",
    "# for more than one datetime object or as an array we get DateTimeIndex object"
   ]
  },
  {
   "cell_type": "code",
   "execution_count": 44,
   "metadata": {},
   "outputs": [
    {
     "data": {
      "text/plain": [
       "DatetimeIndex(['2019-04-03', '2019-07-04', '2019-07-05', '2019-07-09',\n",
       "               '2019-02-05'],\n",
       "              dtype='datetime64[ns]', freq=None)"
      ]
     },
     "execution_count": 44,
     "metadata": {},
     "output_type": "execute_result"
    }
   ],
   "source": [
    "dates = pd.to_datetime([datetime(2019, 4,3), '4th july 2019', '05-july-2019', '07-09-2019','2019-02-05'])\n",
    "dates"
   ]
  },
  {
   "cell_type": "code",
   "execution_count": 45,
   "metadata": {},
   "outputs": [
    {
     "data": {
      "text/plain": [
       "DatetimeIndex(['1955-06-20', '1929-03-30', '1911-01-01', '2011-07-15',\n",
       "               '2019-05-20'],\n",
       "              dtype='datetime64[ns]', freq=None)"
      ]
     },
     "execution_count": 45,
     "metadata": {},
     "output_type": "execute_result"
    }
   ],
   "source": [
    "pd.DatetimeIndex(['20th June 1955', '30th march 1929', 'Jan 1911, 1', 'july 15 2011', '2019 May 20']) \n",
    "# We can also directly use DatetimeIndex methods for multiple dates"
   ]
  },
  {
   "cell_type": "code",
   "execution_count": 46,
   "metadata": {},
   "outputs": [
    {
     "data": {
      "text/plain": [
       "Timestamp('2019-05-29 00:00:00')"
      ]
     },
     "execution_count": 46,
     "metadata": {},
     "output_type": "execute_result"
    }
   ],
   "source": [
    "date"
   ]
  },
  {
   "cell_type": "code",
   "execution_count": 47,
   "metadata": {},
   "outputs": [
    {
     "data": {
      "text/plain": [
       "DatetimeIndex(['2019-05-29', '2019-05-30', '2019-05-31', '2019-06-01',\n",
       "               '2019-06-02'],\n",
       "              dtype='datetime64[ns]', freq=None)"
      ]
     },
     "execution_count": 47,
     "metadata": {},
     "output_type": "execute_result"
    }
   ],
   "source": [
    "date + pd.to_timedelta(np.arange(5), 'D') \n",
    "# we can also do vectorized operations like with numpy datetime64"
   ]
  },
  {
   "cell_type": "code",
   "execution_count": 48,
   "metadata": {},
   "outputs": [
    {
     "data": {
      "text/plain": [
       "DatetimeIndex(['2019-05-29 00:00:00', '2019-05-29 00:00:01',\n",
       "               '2019-05-29 00:00:02', '2019-05-29 00:00:03',\n",
       "               '2019-05-29 00:00:04'],\n",
       "              dtype='datetime64[ns]', freq=None)"
      ]
     },
     "execution_count": 48,
     "metadata": {},
     "output_type": "execute_result"
    }
   ],
   "source": [
    "date + pd.to_timedelta(np.arange(5), 's') # secoNd based"
   ]
  },
  {
   "cell_type": "markdown",
   "metadata": {},
   "source": [
    "**Extracting day, month etc.. from datetime index**"
   ]
  },
  {
   "cell_type": "code",
   "execution_count": 49,
   "metadata": {},
   "outputs": [],
   "source": [
    "dti = pd.to_datetime(['July 11, 1977', 'aug 1 2019', 'april 3, 1980', '1981 oct 1'])"
   ]
  },
  {
   "cell_type": "code",
   "execution_count": 50,
   "metadata": {},
   "outputs": [
    {
     "data": {
      "text/plain": [
       "DatetimeIndex(['1977-07-11', '2019-08-01', '1980-04-03', '1981-10-01'], dtype='datetime64[ns]', freq=None)"
      ]
     },
     "execution_count": 50,
     "metadata": {},
     "output_type": "execute_result"
    }
   ],
   "source": [
    "dti"
   ]
  },
  {
   "cell_type": "code",
   "execution_count": 51,
   "metadata": {},
   "outputs": [
    {
     "data": {
      "text/plain": [
       "Int64Index([11, 1, 3, 1], dtype='int64')"
      ]
     },
     "execution_count": 51,
     "metadata": {},
     "output_type": "execute_result"
    }
   ],
   "source": [
    "dti.day"
   ]
  },
  {
   "cell_type": "code",
   "execution_count": 52,
   "metadata": {},
   "outputs": [
    {
     "data": {
      "text/plain": [
       "Int64Index([0, 3, 3, 3], dtype='int64')"
      ]
     },
     "execution_count": 52,
     "metadata": {},
     "output_type": "execute_result"
    }
   ],
   "source": [
    "dti.dayofweek"
   ]
  },
  {
   "cell_type": "code",
   "execution_count": 53,
   "metadata": {},
   "outputs": [
    {
     "data": {
      "text/plain": [
       "Int64Index([1977, 2019, 1980, 1981], dtype='int64')"
      ]
     },
     "execution_count": 53,
     "metadata": {},
     "output_type": "execute_result"
    }
   ],
   "source": [
    "dti.year"
   ]
  },
  {
   "cell_type": "code",
   "execution_count": 54,
   "metadata": {},
   "outputs": [
    {
     "data": {
      "text/plain": [
       "Int64Index([7, 8, 4, 10], dtype='int64')"
      ]
     },
     "execution_count": 54,
     "metadata": {},
     "output_type": "execute_result"
    }
   ],
   "source": [
    "dti.month"
   ]
  },
  {
   "cell_type": "markdown",
   "metadata": {},
   "source": [
    "**.to_period()**"
   ]
  },
  {
   "cell_type": "code",
   "execution_count": 55,
   "metadata": {},
   "outputs": [],
   "source": [
    "#Any DatetimeIndex can be converted to a PeriodIndex with to_period()"
   ]
  },
  {
   "cell_type": "code",
   "execution_count": 56,
   "metadata": {},
   "outputs": [
    {
     "data": {
      "text/plain": [
       "DatetimeIndex(['2019-04-03 00:00:00', '2019-07-04 08:30:20',\n",
       "               '2019-07-05 00:00:00', '2019-07-09 00:00:00',\n",
       "               '2019-02-05 00:00:00'],\n",
       "              dtype='datetime64[ns]', freq=None)"
      ]
     },
     "execution_count": 56,
     "metadata": {},
     "output_type": "execute_result"
    }
   ],
   "source": [
    "dates = pd.to_datetime([datetime(2019, 4,3), '4th july 2019 8:30:20', '05-july-2019', '07-09-2019','2019-02-05'])\n",
    "dates"
   ]
  },
  {
   "cell_type": "code",
   "execution_count": 57,
   "metadata": {},
   "outputs": [
    {
     "data": {
      "text/plain": [
       "PeriodIndex(['2019', '2019', '2019', '2019', '2019'], dtype='period[A-DEC]', freq='A-DEC')"
      ]
     },
     "execution_count": 57,
     "metadata": {},
     "output_type": "execute_result"
    }
   ],
   "source": [
    "dates.to_period('Y')"
   ]
  },
  {
   "cell_type": "code",
   "execution_count": 58,
   "metadata": {},
   "outputs": [
    {
     "data": {
      "text/plain": [
       "PeriodIndex(['2019-04', '2019-07', '2019-07', '2019-07', '2019-02'], dtype='period[M]', freq='M')"
      ]
     },
     "execution_count": 58,
     "metadata": {},
     "output_type": "execute_result"
    }
   ],
   "source": [
    "dates.to_period('M')"
   ]
  },
  {
   "cell_type": "code",
   "execution_count": 59,
   "metadata": {},
   "outputs": [
    {
     "data": {
      "text/plain": [
       "PeriodIndex(['2019-04-03', '2019-07-04', '2019-07-05', '2019-07-09',\n",
       "             '2019-02-05'],\n",
       "            dtype='period[D]', freq='D')"
      ]
     },
     "execution_count": 59,
     "metadata": {},
     "output_type": "execute_result"
    }
   ],
   "source": [
    "dates.to_period('D')"
   ]
  },
  {
   "cell_type": "markdown",
   "metadata": {},
   "source": [
    "**pd.to_timedelta()**"
   ]
  },
  {
   "cell_type": "code",
   "execution_count": 60,
   "metadata": {},
   "outputs": [
    {
     "data": {
      "text/plain": [
       "TimedeltaIndex(['00:00:00', '00:01:00', '00:02:00', '00:03:00', '00:04:00'], dtype='timedelta64[ns]', freq=None)"
      ]
     },
     "execution_count": 60,
     "metadata": {},
     "output_type": "execute_result"
    }
   ],
   "source": [
    "pd.to_timedelta(np.arange(5), 'm') # this is a timedeltaindex"
   ]
  },
  {
   "cell_type": "code",
   "execution_count": 61,
   "metadata": {},
   "outputs": [],
   "source": [
    "# A Timedelta Index is also created when one date is substracted from another"
   ]
  },
  {
   "cell_type": "code",
   "execution_count": 62,
   "metadata": {},
   "outputs": [
    {
     "data": {
      "text/plain": [
       "DatetimeIndex(['2019-04-03 00:00:00', '2019-07-04 08:30:20',\n",
       "               '2019-07-05 00:00:00', '2019-07-09 00:00:00',\n",
       "               '2019-02-05 00:00:00'],\n",
       "              dtype='datetime64[ns]', freq=None)"
      ]
     },
     "execution_count": 62,
     "metadata": {},
     "output_type": "execute_result"
    }
   ],
   "source": [
    "dates"
   ]
  },
  {
   "cell_type": "code",
   "execution_count": 63,
   "metadata": {},
   "outputs": [
    {
     "data": {
      "text/plain": [
       "TimedeltaIndex([   '0 days 00:00:00',   '92 days 08:30:20',\n",
       "                  '93 days 00:00:00',   '97 days 00:00:00',\n",
       "                '-57 days +00:00:00'],\n",
       "               dtype='timedelta64[ns]', freq=None)"
      ]
     },
     "execution_count": 63,
     "metadata": {},
     "output_type": "execute_result"
    }
   ],
   "source": [
    "dates - dates[0] # for substracting with prior dates"
   ]
  },
  {
   "cell_type": "code",
   "execution_count": 64,
   "metadata": {},
   "outputs": [
    {
     "data": {
      "text/plain": [
       "DatetimeIndex(['2019-04-23 00:00:00', '2019-07-24 08:30:20',\n",
       "               '2019-07-25 00:00:00', '2019-07-29 00:00:00',\n",
       "               '2019-02-25 00:00:00'],\n",
       "              dtype='datetime64[ns]', freq=None)"
      ]
     },
     "execution_count": 64,
     "metadata": {},
     "output_type": "execute_result"
    }
   ],
   "source": [
    "dates + pd.to_timedelta(20, 'd') # for adding to dates"
   ]
  },
  {
   "cell_type": "markdown",
   "metadata": {},
   "source": [
    "**Sequences with dates and times**"
   ]
  },
  {
   "cell_type": "markdown",
   "metadata": {},
   "source": [
    "* pd.date_range()\n",
    "* pd.period_range()\n",
    "* pd.timedelta_range()"
   ]
  },
  {
   "cell_type": "markdown",
   "metadata": {},
   "source": [
    "**pd.date_range()**"
   ]
  },
  {
   "cell_type": "code",
   "execution_count": 72,
   "metadata": {},
   "outputs": [
    {
     "data": {
      "text/plain": [
       "DatetimeIndex(['2015-04-05', '2015-04-06', '2015-04-07', '2015-04-08',\n",
       "               '2015-04-09', '2015-04-10'],\n",
       "              dtype='datetime64[ns]', freq='D')"
      ]
     },
     "execution_count": 72,
     "metadata": {},
     "output_type": "execute_result"
    }
   ],
   "source": [
    "pd.date_range('2015-04-05', '2015-04-10')"
   ]
  },
  {
   "cell_type": "code",
   "execution_count": 66,
   "metadata": {},
   "outputs": [
    {
     "data": {
      "text/plain": [
       "DatetimeIndex(['2018-05-15', '2018-05-16', '2018-05-17', '2018-05-18',\n",
       "               '2018-05-19', '2018-05-20', '2018-05-21', '2018-05-22',\n",
       "               '2018-05-23', '2018-05-24'],\n",
       "              dtype='datetime64[ns]', freq='D')"
      ]
     },
     "execution_count": 66,
     "metadata": {},
     "output_type": "execute_result"
    }
   ],
   "source": [
    "pd.date_range('may 15 2018', periods=10, freq='d') # date doesnt need to follow a particular format"
   ]
  },
  {
   "cell_type": "code",
   "execution_count": 68,
   "metadata": {},
   "outputs": [
    {
     "data": {
      "text/plain": [
       "DatetimeIndex(['2015-04-01', '2015-05-01', '2015-06-01', '2015-07-01',\n",
       "               '2015-08-01', '2015-09-01', '2015-10-01', '2015-11-01',\n",
       "               '2015-12-01', '2016-01-01'],\n",
       "              dtype='datetime64[ns]', freq='MS')"
      ]
     },
     "execution_count": 68,
     "metadata": {},
     "output_type": "execute_result"
    }
   ],
   "source": [
    "pd.date_range('2015-04', periods=10, freq='MS')"
   ]
  },
  {
   "cell_type": "code",
   "execution_count": 73,
   "metadata": {},
   "outputs": [
    {
     "data": {
      "text/plain": [
       "DatetimeIndex(['2015-04-05 01:30:20', '2015-04-05 02:30:20',\n",
       "               '2015-04-05 03:30:20', '2015-04-05 04:30:20',\n",
       "               '2015-04-05 05:30:20', '2015-04-05 06:30:20',\n",
       "               '2015-04-05 07:30:20', '2015-04-05 08:30:20',\n",
       "               '2015-04-05 09:30:20', '2015-04-05 10:30:20'],\n",
       "              dtype='datetime64[ns]', freq='H')"
      ]
     },
     "execution_count": 73,
     "metadata": {},
     "output_type": "execute_result"
    }
   ],
   "source": [
    "pd.date_range('2015-04-05 01:30:20', periods=10, freq='H')"
   ]
  },
  {
   "cell_type": "markdown",
   "metadata": {},
   "source": [
    "**pd.period_range()**"
   ]
  },
  {
   "cell_type": "code",
   "execution_count": 74,
   "metadata": {},
   "outputs": [
    {
     "data": {
      "text/plain": [
       "PeriodIndex(['2015-04', '2015-05', '2015-06', '2015-07', '2015-08', '2015-09',\n",
       "             '2015-10', '2015-11'],\n",
       "            dtype='period[M]', freq='M')"
      ]
     },
     "execution_count": 74,
     "metadata": {},
     "output_type": "execute_result"
    }
   ],
   "source": [
    "pd.period_range('2015-04', periods = 8, freq='M')"
   ]
  },
  {
   "cell_type": "markdown",
   "metadata": {},
   "source": [
    "**pd.timedelta_range()**"
   ]
  },
  {
   "cell_type": "code",
   "execution_count": 75,
   "metadata": {},
   "outputs": [
    {
     "data": {
      "text/plain": [
       "TimedeltaIndex(['0 days', '1 days', '2 days', '3 days', '4 days'], dtype='timedelta64[ns]', freq='D')"
      ]
     },
     "execution_count": 75,
     "metadata": {},
     "output_type": "execute_result"
    }
   ],
   "source": [
    "pd.timedelta_range(0, periods=5, freq='D')"
   ]
  },
  {
   "cell_type": "code",
   "execution_count": 76,
   "metadata": {},
   "outputs": [
    {
     "data": {
      "text/plain": [
       "TimedeltaIndex(['01:20:30', '02:20:30', '03:20:30', '04:20:30', '05:20:30',\n",
       "                '06:20:30', '07:20:30', '08:20:30'],\n",
       "               dtype='timedelta64[ns]', freq='H')"
      ]
     },
     "execution_count": 76,
     "metadata": {},
     "output_type": "execute_result"
    }
   ],
   "source": [
    "pd.timedelta_range('01:20:30','08:20:30',freq='H') # four hourly "
   ]
  },
  {
   "cell_type": "code",
   "execution_count": 77,
   "metadata": {},
   "outputs": [
    {
     "data": {
      "text/plain": [
       "TimedeltaIndex(['01:20:30', '01:21:30', '01:22:30', '01:23:30', '01:24:30',\n",
       "                '01:25:30', '01:26:30', '01:27:30', '01:28:30', '01:29:30',\n",
       "                ...\n",
       "                '08:11:30', '08:12:30', '08:13:30', '08:14:30', '08:15:30',\n",
       "                '08:16:30', '08:17:30', '08:18:30', '08:19:30', '08:20:30'],\n",
       "               dtype='timedelta64[ns]', length=421, freq='T')"
      ]
     },
     "execution_count": 77,
     "metadata": {},
     "output_type": "execute_result"
    }
   ],
   "source": [
    "pd.timedelta_range('01:20:30','08:20:30',freq='T') # by minutes"
   ]
  },
  {
   "cell_type": "code",
   "execution_count": 78,
   "metadata": {},
   "outputs": [
    {
     "data": {
      "text/plain": [
       "TimedeltaIndex(['00:00:01', '00:00:02', '00:00:03', '00:00:04', '00:00:05',\n",
       "                '00:00:06'],\n",
       "               dtype='timedelta64[ns]', freq='S')"
      ]
     },
     "execution_count": 78,
     "metadata": {},
     "output_type": "execute_result"
    }
   ],
   "source": [
    "pd.timedelta_range('0:0:1', '0:0:6', freq='S') # by seconds"
   ]
  },
  {
   "cell_type": "markdown",
   "metadata": {},
   "source": [
    "**Pandas Time Series Frequency Codes**"
   ]
  },
  {
   "cell_type": "markdown",
   "metadata": {},
   "source": [
    "* D  - Calendar day\n",
    "* W - Weekly\n",
    "* M - Month end\n",
    "* Q - Quarter end\n",
    "* A - Year end\n",
    "* H - Hours\n",
    "* T - Minutes\n",
    "* S - Seconds\n",
    "* L - Milliseconds\n",
    "* U - Microseconds\n",
    "* N - Nanoseconds\n",
    "\n",
    "* B - Business day\n",
    "* BM - Business month end\n",
    "* BQ - Business quarter end\n",
    "* BA - Business year end\n",
    "* BH -  Business hours\n",
    "* adding an S to any of these will conver it to the begninng instead of end. Ex: MS - Month start\n",
    "* we can also change the month or day of a week by Q-JAN, W-SUN etc.\n"
   ]
  },
  {
   "cell_type": "code",
   "execution_count": 79,
   "metadata": {},
   "outputs": [
    {
     "data": {
      "text/plain": [
       "DatetimeIndex(['2019-07-10', '2019-07-11', '2019-07-12', '2019-07-15',\n",
       "               '2019-07-16', '2019-07-17', '2019-07-18', '2019-07-19',\n",
       "               '2019-07-22', '2019-07-23'],\n",
       "              dtype='datetime64[ns]', freq='B')"
      ]
     },
     "execution_count": 79,
     "metadata": {},
     "output_type": "execute_result"
    }
   ],
   "source": [
    "pd.date_range('july 10, 2019', periods=10, freq='B')"
   ]
  },
  {
   "cell_type": "code",
   "execution_count": 80,
   "metadata": {},
   "outputs": [],
   "source": [
    "# codes can also be combined for different frequencies"
   ]
  },
  {
   "cell_type": "code",
   "execution_count": 81,
   "metadata": {},
   "outputs": [
    {
     "data": {
      "text/plain": [
       "DatetimeIndex(['2019-07-10 00:00:00', '2019-07-10 02:30:00',\n",
       "               '2019-07-10 05:00:00', '2019-07-10 07:30:00',\n",
       "               '2019-07-10 10:00:00', '2019-07-10 12:30:00',\n",
       "               '2019-07-10 15:00:00', '2019-07-10 17:30:00',\n",
       "               '2019-07-10 20:00:00', '2019-07-10 22:30:00'],\n",
       "              dtype='datetime64[ns]', freq='150T')"
      ]
     },
     "execution_count": 81,
     "metadata": {},
     "output_type": "execute_result"
    }
   ],
   "source": [
    "pd.date_range('july 10, 2019', periods=10, freq='2H30T')"
   ]
  },
  {
   "cell_type": "code",
   "execution_count": 83,
   "metadata": {},
   "outputs": [
    {
     "data": {
      "text/plain": [
       "DatetimeIndex(['2019-07-19', '2019-08-16', '2019-09-20', '2019-10-18',\n",
       "               '2019-11-15', '2019-12-20', '2020-01-17', '2020-02-21',\n",
       "               '2020-03-20', '2020-04-17'],\n",
       "              dtype='datetime64[ns]', freq='WOM-3FRI')"
      ]
     },
     "execution_count": 83,
     "metadata": {},
     "output_type": "execute_result"
    }
   ],
   "source": [
    "pd.date_range('july 10, 2019', periods=10, freq='WOM-3FRI') # 3rd friday in a month"
   ]
  },
  {
   "cell_type": "markdown",
   "metadata": {},
   "source": [
    "### 1.2 Pandas Time Series and Indexing"
   ]
  },
  {
   "cell_type": "markdown",
   "metadata": {},
   "source": [
    "**Power of Pandas can be seen more clearly when we index with dates for a series**"
   ]
  },
  {
   "cell_type": "code",
   "execution_count": 84,
   "metadata": {},
   "outputs": [
    {
     "data": {
      "text/plain": [
       "DatetimeIndex(['1955-06-20', '1929-03-30', '1911-04-02', '1911-04-03',\n",
       "               '1911-01-01', '2011-07-15', '2019-05-20'],\n",
       "              dtype='datetime64[ns]', freq=None)"
      ]
     },
     "execution_count": 84,
     "metadata": {},
     "output_type": "execute_result"
    }
   ],
   "source": [
    "dindex = pd.DatetimeIndex(['20th June 1955', '30th march 1929', 'april 2 1911', 'april 3, 1911', 'Jan 1911, 1', 'july 15 2011', '2019 May 20']) \n",
    "dindex"
   ]
  },
  {
   "cell_type": "code",
   "execution_count": 85,
   "metadata": {},
   "outputs": [
    {
     "data": {
      "text/plain": [
       "1955-06-20    1\n",
       "1929-03-30    2\n",
       "1911-04-02    3\n",
       "1911-04-03    4\n",
       "1911-01-01    5\n",
       "2011-07-15    6\n",
       "2019-05-20    7\n",
       "dtype: int64"
      ]
     },
     "execution_count": 85,
     "metadata": {},
     "output_type": "execute_result"
    }
   ],
   "source": [
    "dseries = pd.Series([1,2,3, 4, 5, 6, 7], index = dindex)\n",
    "dseries"
   ]
  },
  {
   "cell_type": "code",
   "execution_count": 86,
   "metadata": {},
   "outputs": [],
   "source": [
    "# once we have a series indexed by day-time, we can do normal indexing operations"
   ]
  },
  {
   "cell_type": "code",
   "execution_count": 88,
   "metadata": {},
   "outputs": [
    {
     "data": {
      "text/plain": [
       "1955-06-20    1\n",
       "2011-07-15    6\n",
       "dtype: int64"
      ]
     },
     "execution_count": 88,
     "metadata": {},
     "output_type": "execute_result"
    }
   ],
   "source": [
    "dseries.loc['1955-06-20':'2011-07-15'] # explicit indexing works based on dates in ascending order"
   ]
  },
  {
   "cell_type": "code",
   "execution_count": 89,
   "metadata": {},
   "outputs": [
    {
     "data": {
      "text/plain": [
       "1955-06-20    1\n",
       "1929-03-30    2\n",
       "1911-04-02    3\n",
       "1911-04-03    4\n",
       "1911-01-01    5\n",
       "2011-07-15    6\n",
       "2019-05-20    7\n",
       "dtype: int64"
      ]
     },
     "execution_count": 89,
     "metadata": {},
     "output_type": "execute_result"
    }
   ],
   "source": [
    "dseries.loc['1911-01-01':'2019-07-15']"
   ]
  },
  {
   "cell_type": "code",
   "execution_count": 90,
   "metadata": {},
   "outputs": [
    {
     "data": {
      "text/plain": [
       "1955-06-20    1\n",
       "1929-03-30    2\n",
       "2011-07-15    6\n",
       "dtype: int64"
      ]
     },
     "execution_count": 90,
     "metadata": {},
     "output_type": "execute_result"
    }
   ],
   "source": [
    "dseries['1929-03-30':'2011-07-15'] \n",
    "#without .loc also works with explicit indexing. But better to use .loc"
   ]
  },
  {
   "cell_type": "code",
   "execution_count": 91,
   "metadata": {},
   "outputs": [
    {
     "data": {
      "text/plain": [
       "1955-06-20    1\n",
       "1929-03-30    2\n",
       "1911-04-02    3\n",
       "1911-04-03    4\n",
       "1911-01-01    5\n",
       "2011-07-15    6\n",
       "2019-05-20    7\n",
       "dtype: int64"
      ]
     },
     "execution_count": 91,
     "metadata": {},
     "output_type": "execute_result"
    }
   ],
   "source": [
    "dseries"
   ]
  },
  {
   "cell_type": "code",
   "execution_count": 92,
   "metadata": {},
   "outputs": [
    {
     "data": {
      "text/plain": [
       "1955-06-20    1\n",
       "1929-03-30    2\n",
       "dtype: int64"
      ]
     },
     "execution_count": 92,
     "metadata": {},
     "output_type": "execute_result"
    }
   ],
   "source": [
    "dseries.iloc[0:2] # implicit indexing"
   ]
  },
  {
   "cell_type": "code",
   "execution_count": 93,
   "metadata": {},
   "outputs": [
    {
     "data": {
      "text/plain": [
       "1911-04-02    3\n",
       "1911-04-03    4\n",
       "1911-01-01    5\n",
       "dtype: int64"
      ]
     },
     "execution_count": 93,
     "metadata": {},
     "output_type": "execute_result"
    }
   ],
   "source": [
    "dseries['1911'] #special additional date only indexing operations such as passing the year"
   ]
  },
  {
   "cell_type": "code",
   "execution_count": 94,
   "metadata": {},
   "outputs": [
    {
     "data": {
      "text/plain": [
       "1955-06-20    1\n",
       "1929-03-30    2\n",
       "1911-04-02    3\n",
       "1911-04-03    4\n",
       "1911-01-01    5\n",
       "2011-07-15    6\n",
       "dtype: int64"
      ]
     },
     "execution_count": 94,
     "metadata": {},
     "output_type": "execute_result"
    }
   ],
   "source": [
    "dseries['1910':'2011'] "
   ]
  },
  {
   "cell_type": "code",
   "execution_count": 95,
   "metadata": {},
   "outputs": [
    {
     "data": {
      "text/plain": [
       "1911-04-02    3\n",
       "1911-04-03    4\n",
       "dtype: int64"
      ]
     },
     "execution_count": 95,
     "metadata": {},
     "output_type": "execute_result"
    }
   ],
   "source": [
    "dseries['1911-04'] # year and month"
   ]
  },
  {
   "cell_type": "code",
   "execution_count": 98,
   "metadata": {},
   "outputs": [
    {
     "data": {
      "text/plain": [
       "2019-05-01    0\n",
       "2019-05-02    1\n",
       "2019-05-03    2\n",
       "2019-05-04    3\n",
       "2019-05-05    4\n",
       "2019-05-06    5\n",
       "2019-05-07    6\n",
       "2019-05-08    7\n",
       "Freq: D, dtype: int64"
      ]
     },
     "execution_count": 98,
     "metadata": {},
     "output_type": "execute_result"
    }
   ],
   "source": [
    "dseries2 = pd.Series(range(8), pd.date_range('may 01, 2019', periods = 8, freq='d'))\n",
    "dseries2"
   ]
  },
  {
   "cell_type": "code",
   "execution_count": 99,
   "metadata": {},
   "outputs": [
    {
     "data": {
      "text/plain": [
       "2019-05-03    2\n",
       "2019-05-04    3\n",
       "2019-05-05    4\n",
       "2019-05-06    5\n",
       "2019-05-07    6\n",
       "Freq: D, dtype: int64"
      ]
     },
     "execution_count": 99,
     "metadata": {},
     "output_type": "execute_result"
    }
   ],
   "source": [
    "dseries2['2019-05-03':'2019-05-07']"
   ]
  },
  {
   "cell_type": "code",
   "execution_count": 102,
   "metadata": {},
   "outputs": [],
   "source": [
    "# all the above indexing will work for dataframes as well with index as dates"
   ]
  },
  {
   "cell_type": "code",
   "execution_count": 103,
   "metadata": {},
   "outputs": [],
   "source": [
    "# indexing dates in a time series is slightly different from general series"
   ]
  },
  {
   "cell_type": "code",
   "execution_count": 104,
   "metadata": {},
   "outputs": [
    {
     "data": {
      "text/plain": [
       "e    1\n",
       "a    2\n",
       "c    3\n",
       "b    4\n",
       "d    5\n",
       "dtype: int64"
      ]
     },
     "execution_count": 104,
     "metadata": {},
     "output_type": "execute_result"
    }
   ],
   "source": [
    "cseries = pd.Series([1,2,3,4, 5], index = ['e', 'a', 'c', 'b', 'd'])\n",
    "cseries"
   ]
  },
  {
   "cell_type": "code",
   "execution_count": 105,
   "metadata": {},
   "outputs": [
    {
     "data": {
      "text/plain": [
       "e    1\n",
       "a    2\n",
       "c    3\n",
       "b    4\n",
       "d    5\n",
       "dtype: int64"
      ]
     },
     "execution_count": 105,
     "metadata": {},
     "output_type": "execute_result"
    }
   ],
   "source": [
    "cseries['e':'d']"
   ]
  },
  {
   "cell_type": "code",
   "execution_count": 106,
   "metadata": {},
   "outputs": [
    {
     "data": {
      "text/plain": [
       "Series([], dtype: int64)"
      ]
     },
     "execution_count": 106,
     "metadata": {},
     "output_type": "execute_result"
    }
   ],
   "source": [
    "cseries['a':'e'] # indexing is not ascending for general series\n",
    "# But for datetimeindex, explicit indexing works in ascending order"
   ]
  },
  {
   "cell_type": "markdown",
   "metadata": {},
   "source": [
    "**Operations on series**"
   ]
  },
  {
   "cell_type": "code",
   "execution_count": 107,
   "metadata": {},
   "outputs": [
    {
     "data": {
      "text/plain": [
       "2018-06-20    1\n",
       "2018-06-21    2\n",
       "2018-06-22    3\n",
       "dtype: int64"
      ]
     },
     "execution_count": 107,
     "metadata": {},
     "output_type": "execute_result"
    }
   ],
   "source": [
    "s1 = pd.Series([1,2,3], index = pd.DatetimeIndex(['June 20, 2018', 'June 21, 2018', 'June 22, 2018']))\n",
    "s1"
   ]
  },
  {
   "cell_type": "code",
   "execution_count": 108,
   "metadata": {},
   "outputs": [
    {
     "data": {
      "text/plain": [
       "2018-06-20    2\n",
       "2018-06-21    4\n",
       "2018-06-22    6\n",
       "dtype: int64"
      ]
     },
     "execution_count": 108,
     "metadata": {},
     "output_type": "execute_result"
    }
   ],
   "source": [
    "s1 + s1"
   ]
  },
  {
   "cell_type": "markdown",
   "metadata": {},
   "source": [
    "### 1.3 Few important methods for series indexed with dates"
   ]
  },
  {
   "cell_type": "markdown",
   "metadata": {},
   "source": [
    "**Combining series based on dates**"
   ]
  },
  {
   "cell_type": "markdown",
   "metadata": {},
   "source": [
    "**.append()**"
   ]
  },
  {
   "cell_type": "code",
   "execution_count": 109,
   "metadata": {},
   "outputs": [
    {
     "data": {
      "text/plain": [
       "2019-07-04    1\n",
       "2019-07-05    2\n",
       "2019-07-06    3\n",
       "dtype: int64"
      ]
     },
     "execution_count": 109,
     "metadata": {},
     "output_type": "execute_result"
    }
   ],
   "source": [
    "s1 = pd.Series([1,2,3], index = pd.to_datetime(['4th july 2019', '05-july-2019', '07-06-2019']))\n",
    "s1"
   ]
  },
  {
   "cell_type": "code",
   "execution_count": 112,
   "metadata": {},
   "outputs": [
    {
     "data": {
      "text/plain": [
       "2019-07-08    1\n",
       "2019-07-09    2\n",
       "2019-07-10    3\n",
       "dtype: int64"
      ]
     },
     "execution_count": 112,
     "metadata": {},
     "output_type": "execute_result"
    }
   ],
   "source": [
    "s2 = pd.Series([1,2,3], index = pd.to_datetime(['8th july 2019', '09-july-2019', '07-10-2019']))\n",
    "s2"
   ]
  },
  {
   "cell_type": "code",
   "execution_count": 113,
   "metadata": {},
   "outputs": [
    {
     "data": {
      "text/plain": [
       "2019-07-04    1\n",
       "2019-07-05    2\n",
       "2019-07-06    3\n",
       "2019-07-08    1\n",
       "2019-07-09    2\n",
       "2019-07-10    3\n",
       "dtype: int64"
      ]
     },
     "execution_count": 113,
     "metadata": {},
     "output_type": "execute_result"
    }
   ],
   "source": [
    "s3 = s1.append(s2) \n",
    "s3"
   ]
  },
  {
   "cell_type": "markdown",
   "metadata": {},
   "source": [
    "**.truncate**"
   ]
  },
  {
   "cell_type": "code",
   "execution_count": 114,
   "metadata": {},
   "outputs": [
    {
     "data": {
      "text/plain": [
       "2019-07-06    3\n",
       "2019-07-08    1\n",
       "2019-07-09    2\n",
       "2019-07-10    3\n",
       "dtype: int64"
      ]
     },
     "execution_count": 114,
     "metadata": {},
     "output_type": "execute_result"
    }
   ],
   "source": [
    "s3.truncate('2019-07-06')"
   ]
  },
  {
   "cell_type": "markdown",
   "metadata": {},
   "source": [
    "### PANDAS was developed largely with finance context in mind"
   ]
  },
  {
   "cell_type": "markdown",
   "metadata": {},
   "source": [
    "### 1.4 Few Time Series techniques"
   ]
  },
  {
   "cell_type": "markdown",
   "metadata": {},
   "source": [
    "**We can read financial data from a number of sources such as yahoo through pandas datareader**"
   ]
  },
  {
   "cell_type": "code",
   "execution_count": 117,
   "metadata": {},
   "outputs": [],
   "source": [
    "from pandas_datareader import data # need to pip install pandas-datareader"
   ]
  },
  {
   "cell_type": "code",
   "execution_count": 118,
   "metadata": {},
   "outputs": [],
   "source": [
    "nvidia_stock = data.DataReader('NVDA', start='2005-01-02', end='2019-05-24', data_source='yahoo')"
   ]
  },
  {
   "cell_type": "code",
   "execution_count": 119,
   "metadata": {},
   "outputs": [
    {
     "data": {
      "text/html": [
       "<div>\n",
       "<style scoped>\n",
       "    .dataframe tbody tr th:only-of-type {\n",
       "        vertical-align: middle;\n",
       "    }\n",
       "\n",
       "    .dataframe tbody tr th {\n",
       "        vertical-align: top;\n",
       "    }\n",
       "\n",
       "    .dataframe thead th {\n",
       "        text-align: right;\n",
       "    }\n",
       "</style>\n",
       "<table border=\"1\" class=\"dataframe\">\n",
       "  <thead>\n",
       "    <tr style=\"text-align: right;\">\n",
       "      <th></th>\n",
       "      <th>High</th>\n",
       "      <th>Low</th>\n",
       "      <th>Open</th>\n",
       "      <th>Close</th>\n",
       "      <th>Volume</th>\n",
       "      <th>Adj Close</th>\n",
       "    </tr>\n",
       "    <tr>\n",
       "      <th>Date</th>\n",
       "      <th></th>\n",
       "      <th></th>\n",
       "      <th></th>\n",
       "      <th></th>\n",
       "      <th></th>\n",
       "      <th></th>\n",
       "    </tr>\n",
       "  </thead>\n",
       "  <tbody>\n",
       "    <tr>\n",
       "      <th>2005-01-03</th>\n",
       "      <td>8.24</td>\n",
       "      <td>7.826667</td>\n",
       "      <td>8.126667</td>\n",
       "      <td>7.86</td>\n",
       "      <td>26667900.0</td>\n",
       "      <td>7.251520</td>\n",
       "    </tr>\n",
       "    <tr>\n",
       "      <th>2005-01-04</th>\n",
       "      <td>7.93</td>\n",
       "      <td>7.370000</td>\n",
       "      <td>7.916667</td>\n",
       "      <td>7.49</td>\n",
       "      <td>19755600.0</td>\n",
       "      <td>6.910161</td>\n",
       "    </tr>\n",
       "    <tr>\n",
       "      <th>2005-01-05</th>\n",
       "      <td>7.65</td>\n",
       "      <td>7.370000</td>\n",
       "      <td>7.410000</td>\n",
       "      <td>7.56</td>\n",
       "      <td>18120300.0</td>\n",
       "      <td>6.974743</td>\n",
       "    </tr>\n",
       "  </tbody>\n",
       "</table>\n",
       "</div>"
      ],
      "text/plain": [
       "            High       Low      Open  Close      Volume  Adj Close\n",
       "Date                                                              \n",
       "2005-01-03  8.24  7.826667  8.126667   7.86  26667900.0   7.251520\n",
       "2005-01-04  7.93  7.370000  7.916667   7.49  19755600.0   6.910161\n",
       "2005-01-05  7.65  7.370000  7.410000   7.56  18120300.0   6.974743"
      ]
     },
     "execution_count": 119,
     "metadata": {},
     "output_type": "execute_result"
    }
   ],
   "source": [
    "nvidia_stock.head(3)"
   ]
  },
  {
   "cell_type": "code",
   "execution_count": 120,
   "metadata": {},
   "outputs": [
    {
     "data": {
      "text/plain": [
       "DatetimeIndex(['2005-01-03', '2005-01-04', '2005-01-05', '2005-01-06',\n",
       "               '2005-01-07', '2005-01-10', '2005-01-11', '2005-01-12',\n",
       "               '2005-01-13', '2005-01-14',\n",
       "               ...\n",
       "               '2019-05-13', '2019-05-14', '2019-05-15', '2019-05-16',\n",
       "               '2019-05-17', '2019-05-20', '2019-05-21', '2019-05-22',\n",
       "               '2019-05-23', '2019-05-24'],\n",
       "              dtype='datetime64[ns]', name='Date', length=3623, freq=None)"
      ]
     },
     "execution_count": 120,
     "metadata": {},
     "output_type": "execute_result"
    }
   ],
   "source": [
    "nvidia_stock.index"
   ]
  },
  {
   "cell_type": "code",
   "execution_count": 121,
   "metadata": {},
   "outputs": [
    {
     "data": {
      "text/plain": [
       "(3623, 6)"
      ]
     },
     "execution_count": 121,
     "metadata": {},
     "output_type": "execute_result"
    }
   ],
   "source": [
    "nvidia_stock.shape"
   ]
  },
  {
   "cell_type": "code",
   "execution_count": 122,
   "metadata": {},
   "outputs": [
    {
     "data": {
      "text/plain": [
       "Date\n",
       "2005-01-03    7.86\n",
       "2005-01-04    7.49\n",
       "2005-01-05    7.56\n",
       "Name: Close, dtype: float64"
      ]
     },
     "execution_count": 122,
     "metadata": {},
     "output_type": "execute_result"
    }
   ],
   "source": [
    "nvidia = nvidia_stock['Close']\n",
    "nvidia.head(3)"
   ]
  },
  {
   "cell_type": "code",
   "execution_count": 123,
   "metadata": {},
   "outputs": [
    {
     "data": {
      "text/plain": [
       "(3623,)"
      ]
     },
     "execution_count": 123,
     "metadata": {},
     "output_type": "execute_result"
    }
   ],
   "source": [
    "nvidia.shape"
   ]
  },
  {
   "cell_type": "code",
   "execution_count": 131,
   "metadata": {},
   "outputs": [
    {
     "data": {
      "text/plain": [
       "Date\n",
       "2005-01-03    7.860000\n",
       "2005-01-04    7.490000\n",
       "2005-01-05    7.560000\n",
       "2005-01-06    7.486667\n",
       "2005-01-07    7.343333\n",
       "2005-01-10    7.360000\n",
       "2005-01-11    7.133333\n",
       "2005-01-12    7.073333\n",
       "2005-01-13    7.146667\n",
       "2005-01-14    7.170000\n",
       "Name: Close, dtype: float64"
      ]
     },
     "execution_count": 131,
     "metadata": {},
     "output_type": "execute_result"
    }
   ],
   "source": [
    "nvidia.head(10)"
   ]
  },
  {
   "cell_type": "code",
   "execution_count": 124,
   "metadata": {},
   "outputs": [
    {
     "data": {
      "image/png": "[encoded data removed]",
      "text/plain": [
       "<Figure size 432x288 with 1 Axes>"
      ]
     },
     "metadata": {
      "needs_background": "light"
     },
     "output_type": "display_data"
    }
   ],
   "source": [
    "nvidia.plot()\n",
    "plt.ylabel('NVIDIA')\n",
    "plt.show()"
   ]
  },
  {
   "cell_type": "markdown",
   "metadata": {},
   "source": [
    "**.resample()**"
   ]
  },
  {
   "cell_type": "code",
   "execution_count": 132,
   "metadata": {},
   "outputs": [
    {
     "name": "stdout",
     "output_type": "stream",
     "text": [
      "(15,)\n"
     ]
    },
    {
     "data": {
      "text/plain": [
       "Date\n",
       "2005-12-30      9.513823\n",
       "2006-12-29     18.095963\n",
       "2007-12-31     27.724542\n",
       "2008-12-31     15.945613\n",
       "2009-12-31     11.850873\n",
       "2010-12-31     13.563175\n",
       "2011-12-30     16.887540\n",
       "2012-12-31     13.507880\n",
       "2013-12-31     14.189127\n",
       "2014-12-31     18.547064\n",
       "2015-12-31     23.718254\n",
       "2016-12-30     53.761190\n",
       "2017-12-29    149.783705\n",
       "2018-12-31    232.384143\n",
       "2019-12-31    163.598899\n",
       "Freq: BA-DEC, Name: Close, dtype: float64"
      ]
     },
     "execution_count": 132,
     "metadata": {},
     "output_type": "execute_result"
    }
   ],
   "source": [
    "print (nvidia.resample('BA').mean().shape)\n",
    "nvidia.resample('BA').mean() # takes the average over the year. Its an aggregation "
   ]
  },
  {
   "cell_type": "markdown",
   "metadata": {},
   "source": [
    "**.asfreq()**"
   ]
  },
  {
   "cell_type": "code",
   "execution_count": 133,
   "metadata": {},
   "outputs": [
    {
     "name": "stdout",
     "output_type": "stream",
     "text": [
      "(14,)\n"
     ]
    },
    {
     "data": {
      "text/plain": [
       "Date\n",
       "2005-12-30     12.186666\n",
       "2006-12-29     24.673334\n",
       "2007-12-31     34.020000\n",
       "2008-12-31      8.070000\n",
       "2009-12-31     18.680000\n",
       "2010-12-31     15.400000\n",
       "2011-12-30     13.860000\n",
       "2012-12-31     12.260000\n",
       "2013-12-31     16.020000\n",
       "2014-12-31     20.049999\n",
       "2015-12-31     32.959999\n",
       "2016-12-30    106.739998\n",
       "2017-12-29    193.500000\n",
       "2018-12-31    133.500000\n",
       "Freq: BA-DEC, Name: Close, dtype: float64"
      ]
     },
     "execution_count": 133,
     "metadata": {},
     "output_type": "execute_result"
    }
   ],
   "source": [
    "print (nvidia.asfreq('BA').shape)\n",
    "nvidia.asfreq('BA') # takes the year end value"
   ]
  },
  {
   "cell_type": "code",
   "execution_count": 134,
   "metadata": {},
   "outputs": [
    {
     "name": "stdout",
     "output_type": "stream",
     "text": [
      "(5255,)\n"
     ]
    },
    {
     "data": {
      "text/plain": [
       "Date\n",
       "2005-01-03    7.860000\n",
       "2005-01-04    7.490000\n",
       "2005-01-05    7.560000\n",
       "2005-01-06    7.486667\n",
       "2005-01-07    7.343333\n",
       "2005-01-08         NaN\n",
       "2005-01-09         NaN\n",
       "2005-01-10    7.360000\n",
       "2005-01-11    7.133333\n",
       "2005-01-12    7.073333\n",
       "Freq: D, Name: Close, dtype: float64"
      ]
     },
     "execution_count": 134,
     "metadata": {},
     "output_type": "execute_result"
    }
   ],
   "source": [
    "print (nvidia.asfreq('D').shape)\n",
    "nvidia.asfreq('D')[0:10] \n",
    "# when we specify D, it takes the end of day value even for the holidays and puts missing values \n",
    "# ..where values are not present"
   ]
  },
  {
   "cell_type": "code",
   "execution_count": 135,
   "metadata": {},
   "outputs": [
    {
     "data": {
      "text/plain": [
       "Date\n",
       "2005-01-03    7.860000\n",
       "2005-01-04    7.490000\n",
       "2005-01-05    7.560000\n",
       "2005-01-06    7.486667\n",
       "2005-01-07    7.343333\n",
       "2005-01-08    7.343333\n",
       "2005-01-09    7.343333\n",
       "2005-01-10    7.360000\n",
       "2005-01-11    7.133333\n",
       "2005-01-12    7.073333\n",
       "Freq: D, Name: Close, dtype: float64"
      ]
     },
     "execution_count": 135,
     "metadata": {},
     "output_type": "execute_result"
    }
   ],
   "source": [
    "nvidia.asfreq('D', method = 'pad')[0:10] # with pad, it forward fills the values.\n",
    "# .asfreq() accepts a method argument as to how to fill values instead of leaving as NA the up-sampled points."
   ]
  },
  {
   "cell_type": "code",
   "execution_count": 136,
   "metadata": {},
   "outputs": [
    {
     "data": {
      "image/png": "[encoded data removed]",
      "text/plain": [
       "<Figure size 432x288 with 1 Axes>"
      ]
     },
     "metadata": {
      "needs_background": "light"
     },
     "output_type": "display_data"
    }
   ],
   "source": [
    "nvidia.plot(style='-')\n",
    "nvidia.resample('BA').mean().plot(style=':') # data aggregation\n",
    "nvidia.asfreq('BA').plot(style='--') # just reports the value at the end of the year. data selection\n",
    "plt.show()"
   ]
  },
  {
   "cell_type": "markdown",
   "metadata": {},
   "source": [
    "**Time-shifts**"
   ]
  },
  {
   "cell_type": "code",
   "execution_count": 137,
   "metadata": {},
   "outputs": [
    {
     "name": "stdout",
     "output_type": "stream",
     "text": [
      "(5255,)\n"
     ]
    },
    {
     "data": {
      "text/plain": [
       "Date\n",
       "2005-01-03    7.860000\n",
       "2005-01-04    7.490000\n",
       "2005-01-05    7.560000\n",
       "2005-01-06    7.486667\n",
       "2005-01-07    7.343333\n",
       "Freq: D, Name: Close, dtype: float64"
      ]
     },
     "execution_count": 137,
     "metadata": {},
     "output_type": "execute_result"
    }
   ],
   "source": [
    "nvidia_d = nvidia.asfreq('D', method='pad')\n",
    "print (nvidia_d.shape)\n",
    "nvidia_d.head()\n",
    "# here we just upsampled nvidia closing price data with a daily frequency and imputed missed\n",
    "# values with forward fill"
   ]
  },
  {
   "cell_type": "markdown",
   "metadata": {},
   "source": [
    "**.shift()** - to shift data"
   ]
  },
  {
   "cell_type": "code",
   "execution_count": 138,
   "metadata": {},
   "outputs": [
    {
     "name": "stdout",
     "output_type": "stream",
     "text": [
      "(5255,)\n"
     ]
    },
    {
     "data": {
      "text/plain": [
       "Date\n",
       "2005-01-03   NaN\n",
       "2005-01-04   NaN\n",
       "2005-01-05   NaN\n",
       "2005-01-06   NaN\n",
       "2005-01-07   NaN\n",
       "Freq: D, Name: Close, dtype: float64"
      ]
     },
     "execution_count": 138,
     "metadata": {},
     "output_type": "execute_result"
    }
   ],
   "source": [
    "nvidia_s = nvidia_d.shift(300)\n",
    "print (nvidia_s.shape)\n",
    "nvidia_s.head() # Data has been shifted by 300 days. FIRST 300 Values will be NaN. "
   ]
  },
  {
   "cell_type": "code",
   "execution_count": 139,
   "metadata": {},
   "outputs": [
    {
     "data": {
      "text/plain": [
       "300"
      ]
     },
     "execution_count": 139,
     "metadata": {},
     "output_type": "execute_result"
    }
   ],
   "source": [
    "nvidia_s.isnull().sum(0) # "
   ]
  },
  {
   "cell_type": "code",
   "execution_count": 140,
   "metadata": {},
   "outputs": [],
   "source": [
    "# the shifts above can also take freq argument based on which the data can be shifted."
   ]
  },
  {
   "cell_type": "markdown",
   "metadata": {},
   "source": [
    "**.tshift()** - to shift the index"
   ]
  },
  {
   "cell_type": "code",
   "execution_count": 141,
   "metadata": {},
   "outputs": [
    {
     "data": {
      "text/plain": [
       "(5255,)"
      ]
     },
     "execution_count": 141,
     "metadata": {},
     "output_type": "execute_result"
    }
   ],
   "source": [
    "nvidia_t = nvidia_d.tshift(300)\n",
    "nvidia_t.shape"
   ]
  },
  {
   "cell_type": "code",
   "execution_count": 142,
   "metadata": {},
   "outputs": [
    {
     "data": {
      "text/plain": [
       "Date\n",
       "2005-01-03    7.860000\n",
       "2005-01-04    7.490000\n",
       "2005-01-05    7.560000\n",
       "2005-01-06    7.486667\n",
       "2005-01-07    7.343333\n",
       "Freq: D, Name: Close, dtype: float64"
      ]
     },
     "execution_count": 142,
     "metadata": {},
     "output_type": "execute_result"
    }
   ],
   "source": [
    "nvidia_d.head(5)"
   ]
  },
  {
   "cell_type": "code",
   "execution_count": 143,
   "metadata": {},
   "outputs": [
    {
     "data": {
      "text/plain": [
       "Date\n",
       "2005-10-30    7.860000\n",
       "2005-10-31    7.490000\n",
       "2005-11-01    7.560000\n",
       "2005-11-02    7.486667\n",
       "2005-11-03    7.343333\n",
       "Freq: D, Name: Close, dtype: float64"
      ]
     },
     "execution_count": 143,
     "metadata": {},
     "output_type": "execute_result"
    }
   ],
   "source": [
    "nvidia_t.head() # here index has shifted. Beginning index is moved by 300 days.."
   ]
  },
  {
   "cell_type": "markdown",
   "metadata": {},
   "source": [
    "**1 Year ROI for investing in Nvidia stock**"
   ]
  },
  {
   "cell_type": "code",
   "execution_count": 144,
   "metadata": {},
   "outputs": [
    {
     "data": {
      "text/plain": [
       "Date\n",
       "2005-01-03    7.86\n",
       "2005-01-04    7.49\n",
       "2005-01-05    7.56\n",
       "Freq: D, Name: Close, dtype: float64"
      ]
     },
     "execution_count": 144,
     "metadata": {},
     "output_type": "execute_result"
    }
   ],
   "source": [
    "nvidia_d.head(3)"
   ]
  },
  {
   "cell_type": "code",
   "execution_count": 145,
   "metadata": {},
   "outputs": [
    {
     "data": {
      "text/plain": [
       "Date\n",
       "2004-01-04    7.86\n",
       "2004-01-05    7.49\n",
       "2004-01-06    7.56\n",
       "Freq: D, Name: Close, dtype: float64"
      ]
     },
     "execution_count": 145,
     "metadata": {},
     "output_type": "execute_result"
    }
   ],
   "source": [
    "nvidia_t = nvidia_d.tshift(-365)\n",
    "nvidia_t.head(3)"
   ]
  },
  {
   "cell_type": "code",
   "execution_count": 146,
   "metadata": {},
   "outputs": [
    {
     "data": {
      "text/plain": [
       "Date\n",
       "2005-01-03    12.740000\n",
       "2005-01-04    13.096666\n",
       "2005-01-05    13.393333\n",
       "Freq: D, Name: Close, dtype: float64"
      ]
     },
     "execution_count": 146,
     "metadata": {},
     "output_type": "execute_result"
    }
   ],
   "source": [
    "nvidia_t[365:].head(3)"
   ]
  },
  {
   "cell_type": "code",
   "execution_count": 147,
   "metadata": {},
   "outputs": [
    {
     "data": {
      "text/plain": [
       "Date\n",
       "2004-01-04   NaN\n",
       "2004-01-05   NaN\n",
       "2004-01-06   NaN\n",
       "2004-01-07   NaN\n",
       "2004-01-08   NaN\n",
       "Freq: D, Name: Close, dtype: float64"
      ]
     },
     "execution_count": 147,
     "metadata": {},
     "output_type": "execute_result"
    }
   ],
   "source": [
    "(nvidia_t-nvidia_d).head(5)"
   ]
  },
  {
   "cell_type": "code",
   "execution_count": 148,
   "metadata": {},
   "outputs": [
    {
     "data": {
      "text/plain": [
       "Date\n",
       "2004-01-04   NaN\n",
       "2004-01-05   NaN\n",
       "2004-01-06   NaN\n",
       "2004-01-07   NaN\n",
       "2004-01-08   NaN\n",
       "Freq: D, Name: Close, dtype: float64"
      ]
     },
     "execution_count": 148,
     "metadata": {},
     "output_type": "execute_result"
    }
   ],
   "source": [
    "pdiff_1y = nvidia_t-nvidia_d\n",
    "pdiff_1y.head() # some values will be NaNs because index was shifted earlier"
   ]
  },
  {
   "cell_type": "code",
   "execution_count": 149,
   "metadata": {},
   "outputs": [
    {
     "data": {
      "text/plain": [
       "Date\n",
       "2005-01-03    4.880000\n",
       "2005-01-04    5.606667\n",
       "2005-01-05    5.833333\n",
       "2005-01-06    6.126667\n",
       "2005-01-07    6.270000\n",
       "Freq: D, Name: Close, dtype: float64"
      ]
     },
     "execution_count": 149,
     "metadata": {},
     "output_type": "execute_result"
    }
   ],
   "source": [
    "pdiff_1y[pdiff_1y.notnull()].head()"
   ]
  },
  {
   "cell_type": "code",
   "execution_count": 150,
   "metadata": {},
   "outputs": [
    {
     "data": {
      "image/png": "[encoded data removed]",
      "text/plain": [
       "<Figure size 432x288 with 1 Axes>"
      ]
     },
     "metadata": {
      "needs_background": "light"
     },
     "output_type": "display_data"
    }
   ],
   "source": [
    "roi_1y = 100*(nvidia_t/nvidia_d-1)\n",
    "roi_1y.plot()\n",
    "plt.ylabel('% Return on investment')\n",
    "plt.show()"
   ]
  },
  {
   "cell_type": "markdown",
   "metadata": {},
   "source": [
    "**Rolling Windows**"
   ]
  },
  {
   "cell_type": "code",
   "execution_count": 152,
   "metadata": {},
   "outputs": [
    {
     "data": {
      "text/plain": [
       "Date\n",
       "2005-01-03    7.860000\n",
       "2005-01-04    7.490000\n",
       "2005-01-05    7.560000\n",
       "2005-01-06    7.486667\n",
       "2005-01-07    7.343333\n",
       "Freq: D, Name: Close, dtype: float64"
      ]
     },
     "execution_count": 152,
     "metadata": {},
     "output_type": "execute_result"
    }
   ],
   "source": [
    "nvidia_d.head()"
   ]
  },
  {
   "cell_type": "code",
   "execution_count": 153,
   "metadata": {},
   "outputs": [
    {
     "data": {
      "text/plain": [
       "Date\n",
       "2005-01-03         NaN\n",
       "2005-01-04         NaN\n",
       "2005-01-05    7.636667\n",
       "2005-01-06    7.512222\n",
       "2005-01-07    7.463333\n",
       "Freq: D, Name: Close, dtype: float64"
      ]
     },
     "execution_count": 153,
     "metadata": {},
     "output_type": "execute_result"
    }
   ],
   "source": [
    "roll = nvidia_d.rolling(3,center=False).mean() # basically moving average\n",
    "roll.head()"
   ]
  },
  {
   "cell_type": "code",
   "execution_count": 154,
   "metadata": {},
   "outputs": [
    {
     "data": {
      "image/png": "[encoded data removed]",
      "text/plain": [
       "<Figure size 432x288 with 1 Axes>"
      ]
     },
     "metadata": {
      "needs_background": "light"
     },
     "output_type": "display_data"
    }
   ],
   "source": [
    "nvidia_d.plot(label = 'orig')\n",
    "nvidia_d.rolling(3,center=False).mean().plot(style = '--', label = '3-day')\n",
    "nvidia_d.rolling(100,center=False).mean().plot(style = ':', label = '100-day')\n",
    "plt.legend()\n",
    "plt.show()"
   ]
  },
  {
   "cell_type": "markdown",
   "metadata": {},
   "source": [
    "## 2. Exploratory Data Analytics"
   ]
  },
  {
   "cell_type": "code",
   "execution_count": 157,
   "metadata": {},
   "outputs": [
    {
     "data": {
      "text/html": [
       "<div>\n",
       "<style scoped>\n",
       "    .dataframe tbody tr th:only-of-type {\n",
       "        vertical-align: middle;\n",
       "    }\n",
       "\n",
       "    .dataframe tbody tr th {\n",
       "        vertical-align: top;\n",
       "    }\n",
       "\n",
       "    .dataframe thead th {\n",
       "        text-align: right;\n",
       "    }\n",
       "</style>\n",
       "<table border=\"1\" class=\"dataframe\">\n",
       "  <thead>\n",
       "    <tr style=\"text-align: right;\">\n",
       "      <th></th>\n",
       "      <th>Date</th>\n",
       "      <th>Fremont Bridge East Sidewalk</th>\n",
       "      <th>Fremont Bridge West Sidewalk</th>\n",
       "    </tr>\n",
       "  </thead>\n",
       "  <tbody>\n",
       "    <tr>\n",
       "      <th>0</th>\n",
       "      <td>04/30/2019 11:00:00 PM</td>\n",
       "      <td>8.0</td>\n",
       "      <td>16.0</td>\n",
       "    </tr>\n",
       "    <tr>\n",
       "      <th>1</th>\n",
       "      <td>04/30/2019 10:00:00 PM</td>\n",
       "      <td>15.0</td>\n",
       "      <td>29.0</td>\n",
       "    </tr>\n",
       "    <tr>\n",
       "      <th>2</th>\n",
       "      <td>04/30/2019 09:00:00 PM</td>\n",
       "      <td>17.0</td>\n",
       "      <td>54.0</td>\n",
       "    </tr>\n",
       "    <tr>\n",
       "      <th>3</th>\n",
       "      <td>04/30/2019 08:00:00 PM</td>\n",
       "      <td>58.0</td>\n",
       "      <td>91.0</td>\n",
       "    </tr>\n",
       "    <tr>\n",
       "      <th>4</th>\n",
       "      <td>04/30/2019 07:00:00 PM</td>\n",
       "      <td>106.0</td>\n",
       "      <td>175.0</td>\n",
       "    </tr>\n",
       "  </tbody>\n",
       "</table>\n",
       "</div>"
      ],
      "text/plain": [
       "                     Date  Fremont Bridge East Sidewalk  \\\n",
       "0  04/30/2019 11:00:00 PM                           8.0   \n",
       "1  04/30/2019 10:00:00 PM                          15.0   \n",
       "2  04/30/2019 09:00:00 PM                          17.0   \n",
       "3  04/30/2019 08:00:00 PM                          58.0   \n",
       "4  04/30/2019 07:00:00 PM                         106.0   \n",
       "\n",
       "   Fremont Bridge West Sidewalk  \n",
       "0                          16.0  \n",
       "1                          29.0  \n",
       "2                          54.0  \n",
       "3                          91.0  \n",
       "4                         175.0  "
      ]
     },
     "execution_count": 157,
     "metadata": {},
     "output_type": "execute_result"
    }
   ],
   "source": [
    "bicycle = pd.read_csv('Bicycle.csv')\n",
    "bicycle.head()"
   ]
  },
  {
   "cell_type": "code",
   "execution_count": 158,
   "metadata": {},
   "outputs": [
    {
     "data": {
      "text/plain": [
       "str"
      ]
     },
     "execution_count": 158,
     "metadata": {},
     "output_type": "execute_result"
    }
   ],
   "source": [
    "type(bicycle['Date'][0]) #dates are stored as strings. "
   ]
  },
  {
   "cell_type": "code",
   "execution_count": 159,
   "metadata": {},
   "outputs": [
    {
     "data": {
      "text/html": [
       "<div>\n",
       "<style scoped>\n",
       "    .dataframe tbody tr th:only-of-type {\n",
       "        vertical-align: middle;\n",
       "    }\n",
       "\n",
       "    .dataframe tbody tr th {\n",
       "        vertical-align: top;\n",
       "    }\n",
       "\n",
       "    .dataframe thead th {\n",
       "        text-align: right;\n",
       "    }\n",
       "</style>\n",
       "<table border=\"1\" class=\"dataframe\">\n",
       "  <thead>\n",
       "    <tr style=\"text-align: right;\">\n",
       "      <th></th>\n",
       "      <th>Fremont Bridge East Sidewalk</th>\n",
       "      <th>Fremont Bridge West Sidewalk</th>\n",
       "    </tr>\n",
       "    <tr>\n",
       "      <th>Date</th>\n",
       "      <th></th>\n",
       "      <th></th>\n",
       "    </tr>\n",
       "  </thead>\n",
       "  <tbody>\n",
       "    <tr>\n",
       "      <th>2019-04-30 23:00:00</th>\n",
       "      <td>8.0</td>\n",
       "      <td>16.0</td>\n",
       "    </tr>\n",
       "    <tr>\n",
       "      <th>2019-04-30 22:00:00</th>\n",
       "      <td>15.0</td>\n",
       "      <td>29.0</td>\n",
       "    </tr>\n",
       "    <tr>\n",
       "      <th>2019-04-30 21:00:00</th>\n",
       "      <td>17.0</td>\n",
       "      <td>54.0</td>\n",
       "    </tr>\n",
       "    <tr>\n",
       "      <th>2019-04-30 20:00:00</th>\n",
       "      <td>58.0</td>\n",
       "      <td>91.0</td>\n",
       "    </tr>\n",
       "    <tr>\n",
       "      <th>2019-04-30 19:00:00</th>\n",
       "      <td>106.0</td>\n",
       "      <td>175.0</td>\n",
       "    </tr>\n",
       "  </tbody>\n",
       "</table>\n",
       "</div>"
      ],
      "text/plain": [
       "                     Fremont Bridge East Sidewalk  \\\n",
       "Date                                                \n",
       "2019-04-30 23:00:00                           8.0   \n",
       "2019-04-30 22:00:00                          15.0   \n",
       "2019-04-30 21:00:00                          17.0   \n",
       "2019-04-30 20:00:00                          58.0   \n",
       "2019-04-30 19:00:00                         106.0   \n",
       "\n",
       "                     Fremont Bridge West Sidewalk  \n",
       "Date                                               \n",
       "2019-04-30 23:00:00                          16.0  \n",
       "2019-04-30 22:00:00                          29.0  \n",
       "2019-04-30 21:00:00                          54.0  \n",
       "2019-04-30 20:00:00                          91.0  \n",
       "2019-04-30 19:00:00                         175.0  "
      ]
     },
     "execution_count": 159,
     "metadata": {},
     "output_type": "execute_result"
    }
   ],
   "source": [
    "bicycle = pd.read_csv('Bicycle.csv', index_col = 'Date', parse_dates=True)\n",
    "bicycle.head()"
   ]
  },
  {
   "cell_type": "code",
   "execution_count": 160,
   "metadata": {},
   "outputs": [
    {
     "data": {
      "text/plain": [
       "DatetimeIndex(['2019-04-30 23:00:00', '2019-04-30 22:00:00',\n",
       "               '2019-04-30 21:00:00', '2019-04-30 20:00:00',\n",
       "               '2019-04-30 19:00:00', '2019-04-30 18:00:00',\n",
       "               '2019-04-30 17:00:00', '2019-04-30 16:00:00',\n",
       "               '2019-04-30 15:00:00', '2019-04-30 14:00:00',\n",
       "               ...\n",
       "               '2012-10-03 09:00:00', '2012-10-03 08:00:00',\n",
       "               '2012-10-03 07:00:00', '2012-10-03 06:00:00',\n",
       "               '2012-10-03 05:00:00', '2012-10-03 04:00:00',\n",
       "               '2012-10-03 03:00:00', '2012-10-03 02:00:00',\n",
       "               '2012-10-03 01:00:00', '2012-10-03 00:00:00'],\n",
       "              dtype='datetime64[ns]', name='Date', length=57624, freq=None)"
      ]
     },
     "execution_count": 160,
     "metadata": {},
     "output_type": "execute_result"
    }
   ],
   "source": [
    "bicycle.index # now the index is a DatetimeIndex, which is what we want"
   ]
  },
  {
   "cell_type": "code",
   "execution_count": 161,
   "metadata": {},
   "outputs": [
    {
     "data": {
      "text/plain": [
       "(57624, 2)"
      ]
     },
     "execution_count": 161,
     "metadata": {},
     "output_type": "execute_result"
    }
   ],
   "source": [
    "bicycle.shape"
   ]
  },
  {
   "cell_type": "code",
   "execution_count": 162,
   "metadata": {},
   "outputs": [
    {
     "data": {
      "text/plain": [
       "PeriodIndex(['2019', '2019', '2019', '2019', '2019', '2019', '2019', '2019',\n",
       "             '2019', '2019',\n",
       "             ...\n",
       "             '2012', '2012', '2012', '2012', '2012', '2012', '2012', '2012',\n",
       "             '2012', '2012'],\n",
       "            dtype='period[A-DEC]', name='Date', length=57624, freq='A-DEC')"
      ]
     },
     "execution_count": 162,
     "metadata": {},
     "output_type": "execute_result"
    }
   ],
   "source": [
    "bicycle.index.to_period('Y')"
   ]
  },
  {
   "cell_type": "markdown",
   "metadata": {},
   "source": [
    "**Lets do simple preprocessing**"
   ]
  },
  {
   "cell_type": "code",
   "execution_count": 163,
   "metadata": {},
   "outputs": [
    {
     "data": {
      "text/html": [
       "<div>\n",
       "<style scoped>\n",
       "    .dataframe tbody tr th:only-of-type {\n",
       "        vertical-align: middle;\n",
       "    }\n",
       "\n",
       "    .dataframe tbody tr th {\n",
       "        vertical-align: top;\n",
       "    }\n",
       "\n",
       "    .dataframe thead th {\n",
       "        text-align: right;\n",
       "    }\n",
       "</style>\n",
       "<table border=\"1\" class=\"dataframe\">\n",
       "  <thead>\n",
       "    <tr style=\"text-align: right;\">\n",
       "      <th></th>\n",
       "      <th>East</th>\n",
       "      <th>West</th>\n",
       "    </tr>\n",
       "    <tr>\n",
       "      <th>Date</th>\n",
       "      <th></th>\n",
       "      <th></th>\n",
       "    </tr>\n",
       "  </thead>\n",
       "  <tbody>\n",
       "    <tr>\n",
       "      <th>2019-04-30 23:00:00</th>\n",
       "      <td>8.0</td>\n",
       "      <td>16.0</td>\n",
       "    </tr>\n",
       "    <tr>\n",
       "      <th>2019-04-30 22:00:00</th>\n",
       "      <td>15.0</td>\n",
       "      <td>29.0</td>\n",
       "    </tr>\n",
       "    <tr>\n",
       "      <th>2019-04-30 21:00:00</th>\n",
       "      <td>17.0</td>\n",
       "      <td>54.0</td>\n",
       "    </tr>\n",
       "  </tbody>\n",
       "</table>\n",
       "</div>"
      ],
      "text/plain": [
       "                     East  West\n",
       "Date                           \n",
       "2019-04-30 23:00:00   8.0  16.0\n",
       "2019-04-30 22:00:00  15.0  29.0\n",
       "2019-04-30 21:00:00  17.0  54.0"
      ]
     },
     "execution_count": 163,
     "metadata": {},
     "output_type": "execute_result"
    }
   ],
   "source": [
    "bicycle.columns = ['East', 'West']\n",
    "bicycle.head(3)"
   ]
  },
  {
   "cell_type": "code",
   "execution_count": 164,
   "metadata": {},
   "outputs": [
    {
     "data": {
      "text/html": [
       "<div>\n",
       "<style scoped>\n",
       "    .dataframe tbody tr th:only-of-type {\n",
       "        vertical-align: middle;\n",
       "    }\n",
       "\n",
       "    .dataframe tbody tr th {\n",
       "        vertical-align: top;\n",
       "    }\n",
       "\n",
       "    .dataframe thead th {\n",
       "        text-align: right;\n",
       "    }\n",
       "</style>\n",
       "<table border=\"1\" class=\"dataframe\">\n",
       "  <thead>\n",
       "    <tr style=\"text-align: right;\">\n",
       "      <th></th>\n",
       "      <th>East</th>\n",
       "      <th>West</th>\n",
       "      <th>Total</th>\n",
       "    </tr>\n",
       "    <tr>\n",
       "      <th>Date</th>\n",
       "      <th></th>\n",
       "      <th></th>\n",
       "      <th></th>\n",
       "    </tr>\n",
       "  </thead>\n",
       "  <tbody>\n",
       "    <tr>\n",
       "      <th>2019-04-30 23:00:00</th>\n",
       "      <td>8.0</td>\n",
       "      <td>16.0</td>\n",
       "      <td>24.0</td>\n",
       "    </tr>\n",
       "    <tr>\n",
       "      <th>2019-04-30 22:00:00</th>\n",
       "      <td>15.0</td>\n",
       "      <td>29.0</td>\n",
       "      <td>44.0</td>\n",
       "    </tr>\n",
       "    <tr>\n",
       "      <th>2019-04-30 21:00:00</th>\n",
       "      <td>17.0</td>\n",
       "      <td>54.0</td>\n",
       "      <td>71.0</td>\n",
       "    </tr>\n",
       "  </tbody>\n",
       "</table>\n",
       "</div>"
      ],
      "text/plain": [
       "                     East  West  Total\n",
       "Date                                  \n",
       "2019-04-30 23:00:00   8.0  16.0   24.0\n",
       "2019-04-30 22:00:00  15.0  29.0   44.0\n",
       "2019-04-30 21:00:00  17.0  54.0   71.0"
      ]
     },
     "execution_count": 164,
     "metadata": {},
     "output_type": "execute_result"
    }
   ],
   "source": [
    "bicycle['Total'] = bicycle['East']+bicycle['West']\n",
    "bicycle.head(3)"
   ]
  },
  {
   "cell_type": "markdown",
   "metadata": {},
   "source": [
    "### 2.1 Visualizing the data"
   ]
  },
  {
   "cell_type": "code",
   "execution_count": 165,
   "metadata": {},
   "outputs": [
    {
     "data": {
      "text/html": [
       "<div>\n",
       "<style scoped>\n",
       "    .dataframe tbody tr th:only-of-type {\n",
       "        vertical-align: middle;\n",
       "    }\n",
       "\n",
       "    .dataframe tbody tr th {\n",
       "        vertical-align: top;\n",
       "    }\n",
       "\n",
       "    .dataframe thead th {\n",
       "        text-align: right;\n",
       "    }\n",
       "</style>\n",
       "<table border=\"1\" class=\"dataframe\">\n",
       "  <thead>\n",
       "    <tr style=\"text-align: right;\">\n",
       "      <th></th>\n",
       "      <th>East</th>\n",
       "      <th>West</th>\n",
       "      <th>Total</th>\n",
       "    </tr>\n",
       "    <tr>\n",
       "      <th>Date</th>\n",
       "      <th></th>\n",
       "      <th></th>\n",
       "      <th></th>\n",
       "    </tr>\n",
       "  </thead>\n",
       "  <tbody>\n",
       "    <tr>\n",
       "      <th>2019-04-30 23:00:00</th>\n",
       "      <td>8.0</td>\n",
       "      <td>16.0</td>\n",
       "      <td>24.0</td>\n",
       "    </tr>\n",
       "    <tr>\n",
       "      <th>2019-04-30 22:00:00</th>\n",
       "      <td>15.0</td>\n",
       "      <td>29.0</td>\n",
       "      <td>44.0</td>\n",
       "    </tr>\n",
       "    <tr>\n",
       "      <th>2019-04-30 21:00:00</th>\n",
       "      <td>17.0</td>\n",
       "      <td>54.0</td>\n",
       "      <td>71.0</td>\n",
       "    </tr>\n",
       "  </tbody>\n",
       "</table>\n",
       "</div>"
      ],
      "text/plain": [
       "                     East  West  Total\n",
       "Date                                  \n",
       "2019-04-30 23:00:00   8.0  16.0   24.0\n",
       "2019-04-30 22:00:00  15.0  29.0   44.0\n",
       "2019-04-30 21:00:00  17.0  54.0   71.0"
      ]
     },
     "execution_count": 165,
     "metadata": {},
     "output_type": "execute_result"
    }
   ],
   "source": [
    "bicycle.head(3)"
   ]
  },
  {
   "cell_type": "code",
   "execution_count": 166,
   "metadata": {},
   "outputs": [
    {
     "data": {
      "image/png": "[encoded data removed]",
      "text/plain": [
       "<Figure size 1440x720 with 1 Axes>"
      ]
     },
     "metadata": {
      "needs_background": "light"
     },
     "output_type": "display_data"
    }
   ],
   "source": [
    "plt.rcParams.update({'figure.figsize':(20,10)})\n",
    "\n",
    "bicycle.plot() # hard to see the data since there are too many observations\n",
    "plt.ylabel('Hourly bicycle count')\n",
    "plt.show()\n",
    "# hard to see the data since there are too many observations"
   ]
  },
  {
   "cell_type": "markdown",
   "metadata": {},
   "source": [
    "**Lets resample the data by weekly sum**"
   ]
  },
  {
   "cell_type": "code",
   "execution_count": 167,
   "metadata": {},
   "outputs": [
    {
     "data": {
      "text/plain": [
       "(344, 3)"
      ]
     },
     "execution_count": 167,
     "metadata": {},
     "output_type": "execute_result"
    }
   ],
   "source": [
    "bicycle_weekly = bicycle.resample('W').sum()\n",
    "bicycle_weekly.shape "
   ]
  },
  {
   "cell_type": "code",
   "execution_count": 168,
   "metadata": {},
   "outputs": [
    {
     "data": {
      "text/html": [
       "<div>\n",
       "<style scoped>\n",
       "    .dataframe tbody tr th:only-of-type {\n",
       "        vertical-align: middle;\n",
       "    }\n",
       "\n",
       "    .dataframe tbody tr th {\n",
       "        vertical-align: top;\n",
       "    }\n",
       "\n",
       "    .dataframe thead th {\n",
       "        text-align: right;\n",
       "    }\n",
       "</style>\n",
       "<table border=\"1\" class=\"dataframe\">\n",
       "  <thead>\n",
       "    <tr style=\"text-align: right;\">\n",
       "      <th></th>\n",
       "      <th>East</th>\n",
       "      <th>West</th>\n",
       "      <th>Total</th>\n",
       "    </tr>\n",
       "    <tr>\n",
       "      <th>Date</th>\n",
       "      <th></th>\n",
       "      <th></th>\n",
       "      <th></th>\n",
       "    </tr>\n",
       "  </thead>\n",
       "  <tbody>\n",
       "    <tr>\n",
       "      <th>2012-10-07</th>\n",
       "      <td>7297.0</td>\n",
       "      <td>6995.0</td>\n",
       "      <td>14292.0</td>\n",
       "    </tr>\n",
       "    <tr>\n",
       "      <th>2012-10-14</th>\n",
       "      <td>8679.0</td>\n",
       "      <td>8116.0</td>\n",
       "      <td>16795.0</td>\n",
       "    </tr>\n",
       "    <tr>\n",
       "      <th>2012-10-21</th>\n",
       "      <td>7946.0</td>\n",
       "      <td>7563.0</td>\n",
       "      <td>15509.0</td>\n",
       "    </tr>\n",
       "  </tbody>\n",
       "</table>\n",
       "</div>"
      ],
      "text/plain": [
       "              East    West    Total\n",
       "Date                               \n",
       "2012-10-07  7297.0  6995.0  14292.0\n",
       "2012-10-14  8679.0  8116.0  16795.0\n",
       "2012-10-21  7946.0  7563.0  15509.0"
      ]
     },
     "execution_count": 168,
     "metadata": {},
     "output_type": "execute_result"
    }
   ],
   "source": [
    "bicycle_weekly.head(3)"
   ]
  },
  {
   "cell_type": "code",
   "execution_count": 169,
   "metadata": {},
   "outputs": [
    {
     "data": {
      "image/png": "[encoded data removed]",
      "text/plain": [
       "<Figure size 720x360 with 1 Axes>"
      ]
     },
     "metadata": {
      "needs_background": "light"
     },
     "output_type": "display_data"
    }
   ],
   "source": [
    "bicycle_weekly.plot(style = [':', '--', '-'], figsize = (10,5))\n",
    "plt.ylabel('Weekly bicycle count')\n",
    "plt.title('Weekly bicycle crossings')\n",
    "plt.show()"
   ]
  },
  {
   "cell_type": "markdown",
   "metadata": {},
   "source": [
    "**Rolling mean can be leveraged for smoothing**"
   ]
  },
  {
   "cell_type": "code",
   "execution_count": 173,
   "metadata": {},
   "outputs": [
    {
     "data": {
      "image/png": "[encoded data removed]",
      "text/plain": [
       "<Figure size 720x360 with 1 Axes>"
      ]
     },
     "metadata": {
      "needs_background": "light"
     },
     "output_type": "display_data"
    }
   ],
   "source": [
    "bicycle_daily = bicycle.resample('D').sum() # resampling by day\n",
    "bicycle_daily.rolling(50, center=True).mean().plot(style = [':', '--', '-'], figsize = (10,5))\n",
    "plt.ylabel('Daily bicycle count - 30 day MA')\n",
    "plt.show()"
   ]
  },
  {
   "cell_type": "code",
   "execution_count": 178,
   "metadata": {},
   "outputs": [
    {
     "data": {
      "text/html": [
       "<div>\n",
       "<style scoped>\n",
       "    .dataframe tbody tr th:only-of-type {\n",
       "        vertical-align: middle;\n",
       "    }\n",
       "\n",
       "    .dataframe tbody tr th {\n",
       "        vertical-align: top;\n",
       "    }\n",
       "\n",
       "    .dataframe thead th {\n",
       "        text-align: right;\n",
       "    }\n",
       "</style>\n",
       "<table border=\"1\" class=\"dataframe\">\n",
       "  <thead>\n",
       "    <tr style=\"text-align: right;\">\n",
       "      <th></th>\n",
       "      <th>East</th>\n",
       "      <th>West</th>\n",
       "      <th>Total</th>\n",
       "    </tr>\n",
       "    <tr>\n",
       "      <th>Date</th>\n",
       "      <th></th>\n",
       "      <th></th>\n",
       "      <th></th>\n",
       "    </tr>\n",
       "  </thead>\n",
       "  <tbody>\n",
       "    <tr>\n",
       "      <th>2019-04-30 23:00:00</th>\n",
       "      <td>8.0</td>\n",
       "      <td>16.0</td>\n",
       "      <td>24.0</td>\n",
       "    </tr>\n",
       "    <tr>\n",
       "      <th>2019-04-30 22:00:00</th>\n",
       "      <td>15.0</td>\n",
       "      <td>29.0</td>\n",
       "      <td>44.0</td>\n",
       "    </tr>\n",
       "    <tr>\n",
       "      <th>2019-04-30 21:00:00</th>\n",
       "      <td>17.0</td>\n",
       "      <td>54.0</td>\n",
       "      <td>71.0</td>\n",
       "    </tr>\n",
       "    <tr>\n",
       "      <th>2019-04-30 20:00:00</th>\n",
       "      <td>58.0</td>\n",
       "      <td>91.0</td>\n",
       "      <td>149.0</td>\n",
       "    </tr>\n",
       "    <tr>\n",
       "      <th>2019-04-30 19:00:00</th>\n",
       "      <td>106.0</td>\n",
       "      <td>175.0</td>\n",
       "      <td>281.0</td>\n",
       "    </tr>\n",
       "    <tr>\n",
       "      <th>2019-04-30 18:00:00</th>\n",
       "      <td>142.0</td>\n",
       "      <td>371.0</td>\n",
       "      <td>513.0</td>\n",
       "    </tr>\n",
       "    <tr>\n",
       "      <th>2019-04-30 17:00:00</th>\n",
       "      <td>214.0</td>\n",
       "      <td>587.0</td>\n",
       "      <td>801.0</td>\n",
       "    </tr>\n",
       "    <tr>\n",
       "      <th>2019-04-30 16:00:00</th>\n",
       "      <td>113.0</td>\n",
       "      <td>346.0</td>\n",
       "      <td>459.0</td>\n",
       "    </tr>\n",
       "    <tr>\n",
       "      <th>2019-04-30 15:00:00</th>\n",
       "      <td>68.0</td>\n",
       "      <td>113.0</td>\n",
       "      <td>181.0</td>\n",
       "    </tr>\n",
       "    <tr>\n",
       "      <th>2019-04-30 14:00:00</th>\n",
       "      <td>59.0</td>\n",
       "      <td>88.0</td>\n",
       "      <td>147.0</td>\n",
       "    </tr>\n",
       "    <tr>\n",
       "      <th>2019-04-30 13:00:00</th>\n",
       "      <td>39.0</td>\n",
       "      <td>78.0</td>\n",
       "      <td>117.0</td>\n",
       "    </tr>\n",
       "    <tr>\n",
       "      <th>2019-04-30 12:00:00</th>\n",
       "      <td>52.0</td>\n",
       "      <td>47.0</td>\n",
       "      <td>99.0</td>\n",
       "    </tr>\n",
       "    <tr>\n",
       "      <th>2019-04-30 11:00:00</th>\n",
       "      <td>49.0</td>\n",
       "      <td>53.0</td>\n",
       "      <td>102.0</td>\n",
       "    </tr>\n",
       "    <tr>\n",
       "      <th>2019-04-30 10:00:00</th>\n",
       "      <td>64.0</td>\n",
       "      <td>74.0</td>\n",
       "      <td>138.0</td>\n",
       "    </tr>\n",
       "    <tr>\n",
       "      <th>2019-04-30 09:00:00</th>\n",
       "      <td>148.0</td>\n",
       "      <td>195.0</td>\n",
       "      <td>343.0</td>\n",
       "    </tr>\n",
       "    <tr>\n",
       "      <th>2019-04-30 08:00:00</th>\n",
       "      <td>318.0</td>\n",
       "      <td>399.0</td>\n",
       "      <td>717.0</td>\n",
       "    </tr>\n",
       "    <tr>\n",
       "      <th>2019-04-30 07:00:00</th>\n",
       "      <td>234.0</td>\n",
       "      <td>254.0</td>\n",
       "      <td>488.0</td>\n",
       "    </tr>\n",
       "    <tr>\n",
       "      <th>2019-04-30 06:00:00</th>\n",
       "      <td>96.0</td>\n",
       "      <td>82.0</td>\n",
       "      <td>178.0</td>\n",
       "    </tr>\n",
       "    <tr>\n",
       "      <th>2019-04-30 05:00:00</th>\n",
       "      <td>31.0</td>\n",
       "      <td>21.0</td>\n",
       "      <td>52.0</td>\n",
       "    </tr>\n",
       "    <tr>\n",
       "      <th>2019-04-30 04:00:00</th>\n",
       "      <td>7.0</td>\n",
       "      <td>3.0</td>\n",
       "      <td>10.0</td>\n",
       "    </tr>\n",
       "    <tr>\n",
       "      <th>2019-04-30 03:00:00</th>\n",
       "      <td>1.0</td>\n",
       "      <td>2.0</td>\n",
       "      <td>3.0</td>\n",
       "    </tr>\n",
       "    <tr>\n",
       "      <th>2019-04-30 02:00:00</th>\n",
       "      <td>1.0</td>\n",
       "      <td>0.0</td>\n",
       "      <td>1.0</td>\n",
       "    </tr>\n",
       "    <tr>\n",
       "      <th>2019-04-30 01:00:00</th>\n",
       "      <td>2.0</td>\n",
       "      <td>2.0</td>\n",
       "      <td>4.0</td>\n",
       "    </tr>\n",
       "    <tr>\n",
       "      <th>2019-04-30 00:00:00</th>\n",
       "      <td>2.0</td>\n",
       "      <td>4.0</td>\n",
       "      <td>6.0</td>\n",
       "    </tr>\n",
       "  </tbody>\n",
       "</table>\n",
       "</div>"
      ],
      "text/plain": [
       "                      East   West  Total\n",
       "Date                                    \n",
       "2019-04-30 23:00:00    8.0   16.0   24.0\n",
       "2019-04-30 22:00:00   15.0   29.0   44.0\n",
       "2019-04-30 21:00:00   17.0   54.0   71.0\n",
       "2019-04-30 20:00:00   58.0   91.0  149.0\n",
       "2019-04-30 19:00:00  106.0  175.0  281.0\n",
       "2019-04-30 18:00:00  142.0  371.0  513.0\n",
       "2019-04-30 17:00:00  214.0  587.0  801.0\n",
       "2019-04-30 16:00:00  113.0  346.0  459.0\n",
       "2019-04-30 15:00:00   68.0  113.0  181.0\n",
       "2019-04-30 14:00:00   59.0   88.0  147.0\n",
       "2019-04-30 13:00:00   39.0   78.0  117.0\n",
       "2019-04-30 12:00:00   52.0   47.0   99.0\n",
       "2019-04-30 11:00:00   49.0   53.0  102.0\n",
       "2019-04-30 10:00:00   64.0   74.0  138.0\n",
       "2019-04-30 09:00:00  148.0  195.0  343.0\n",
       "2019-04-30 08:00:00  318.0  399.0  717.0\n",
       "2019-04-30 07:00:00  234.0  254.0  488.0\n",
       "2019-04-30 06:00:00   96.0   82.0  178.0\n",
       "2019-04-30 05:00:00   31.0   21.0   52.0\n",
       "2019-04-30 04:00:00    7.0    3.0   10.0\n",
       "2019-04-30 03:00:00    1.0    2.0    3.0\n",
       "2019-04-30 02:00:00    1.0    0.0    1.0\n",
       "2019-04-30 01:00:00    2.0    2.0    4.0\n",
       "2019-04-30 00:00:00    2.0    4.0    6.0"
      ]
     },
     "execution_count": 178,
     "metadata": {},
     "output_type": "execute_result"
    }
   ],
   "source": [
    "bicycle.head(24)"
   ]
  },
  {
   "cell_type": "markdown",
   "metadata": {},
   "source": [
    "**Grouping on Datetime Index**"
   ]
  },
  {
   "cell_type": "code",
   "execution_count": 175,
   "metadata": {},
   "outputs": [
    {
     "data": {
      "text/html": [
       "<div>\n",
       "<style scoped>\n",
       "    .dataframe tbody tr th:only-of-type {\n",
       "        vertical-align: middle;\n",
       "    }\n",
       "\n",
       "    .dataframe tbody tr th {\n",
       "        vertical-align: top;\n",
       "    }\n",
       "\n",
       "    .dataframe thead th {\n",
       "        text-align: right;\n",
       "    }\n",
       "</style>\n",
       "<table border=\"1\" class=\"dataframe\">\n",
       "  <thead>\n",
       "    <tr style=\"text-align: right;\">\n",
       "      <th></th>\n",
       "      <th>East</th>\n",
       "      <th>West</th>\n",
       "      <th>Total</th>\n",
       "    </tr>\n",
       "  </thead>\n",
       "  <tbody>\n",
       "    <tr>\n",
       "      <th>00:00:00</th>\n",
       "      <td>4.980008</td>\n",
       "      <td>6.605581</td>\n",
       "      <td>11.585589</td>\n",
       "    </tr>\n",
       "    <tr>\n",
       "      <th>01:00:00</th>\n",
       "      <td>2.770929</td>\n",
       "      <td>3.327780</td>\n",
       "      <td>6.098709</td>\n",
       "    </tr>\n",
       "    <tr>\n",
       "      <th>02:00:00</th>\n",
       "      <td>1.990818</td>\n",
       "      <td>2.074290</td>\n",
       "      <td>4.065109</td>\n",
       "    </tr>\n",
       "    <tr>\n",
       "      <th>03:00:00</th>\n",
       "      <td>1.558517</td>\n",
       "      <td>1.427738</td>\n",
       "      <td>2.986256</td>\n",
       "    </tr>\n",
       "    <tr>\n",
       "      <th>04:00:00</th>\n",
       "      <td>3.521866</td>\n",
       "      <td>3.055394</td>\n",
       "      <td>6.577259</td>\n",
       "    </tr>\n",
       "    <tr>\n",
       "      <th>05:00:00</th>\n",
       "      <td>16.246147</td>\n",
       "      <td>9.552270</td>\n",
       "      <td>25.798417</td>\n",
       "    </tr>\n",
       "    <tr>\n",
       "      <th>06:00:00</th>\n",
       "      <td>56.058726</td>\n",
       "      <td>34.042066</td>\n",
       "      <td>90.100791</td>\n",
       "    </tr>\n",
       "    <tr>\n",
       "      <th>07:00:00</th>\n",
       "      <td>146.492711</td>\n",
       "      <td>79.658892</td>\n",
       "      <td>226.151603</td>\n",
       "    </tr>\n",
       "    <tr>\n",
       "      <th>08:00:00</th>\n",
       "      <td>197.052062</td>\n",
       "      <td>121.780092</td>\n",
       "      <td>318.832153</td>\n",
       "    </tr>\n",
       "    <tr>\n",
       "      <th>09:00:00</th>\n",
       "      <td>105.874167</td>\n",
       "      <td>80.383333</td>\n",
       "      <td>186.257500</td>\n",
       "    </tr>\n",
       "    <tr>\n",
       "      <th>10:00:00</th>\n",
       "      <td>52.764167</td>\n",
       "      <td>44.440417</td>\n",
       "      <td>97.204583</td>\n",
       "    </tr>\n",
       "    <tr>\n",
       "      <th>11:00:00</th>\n",
       "      <td>45.285417</td>\n",
       "      <td>39.710833</td>\n",
       "      <td>84.996250</td>\n",
       "    </tr>\n",
       "    <tr>\n",
       "      <th>12:00:00</th>\n",
       "      <td>46.862917</td>\n",
       "      <td>42.946667</td>\n",
       "      <td>89.809583</td>\n",
       "    </tr>\n",
       "    <tr>\n",
       "      <th>13:00:00</th>\n",
       "      <td>49.124531</td>\n",
       "      <td>46.885881</td>\n",
       "      <td>96.010412</td>\n",
       "    </tr>\n",
       "    <tr>\n",
       "      <th>14:00:00</th>\n",
       "      <td>51.017909</td>\n",
       "      <td>53.194086</td>\n",
       "      <td>104.211995</td>\n",
       "    </tr>\n",
       "    <tr>\n",
       "      <th>15:00:00</th>\n",
       "      <td>60.163265</td>\n",
       "      <td>72.606830</td>\n",
       "      <td>132.770096</td>\n",
       "    </tr>\n",
       "    <tr>\n",
       "      <th>16:00:00</th>\n",
       "      <td>81.030820</td>\n",
       "      <td>139.730945</td>\n",
       "      <td>220.761766</td>\n",
       "    </tr>\n",
       "    <tr>\n",
       "      <th>17:00:00</th>\n",
       "      <td>111.613078</td>\n",
       "      <td>268.703040</td>\n",
       "      <td>380.316118</td>\n",
       "    </tr>\n",
       "    <tr>\n",
       "      <th>18:00:00</th>\n",
       "      <td>89.546022</td>\n",
       "      <td>172.064973</td>\n",
       "      <td>261.610995</td>\n",
       "    </tr>\n",
       "    <tr>\n",
       "      <th>19:00:00</th>\n",
       "      <td>48.961266</td>\n",
       "      <td>78.752603</td>\n",
       "      <td>127.713869</td>\n",
       "    </tr>\n",
       "    <tr>\n",
       "      <th>20:00:00</th>\n",
       "      <td>30.098292</td>\n",
       "      <td>43.331945</td>\n",
       "      <td>73.430237</td>\n",
       "    </tr>\n",
       "    <tr>\n",
       "      <th>21:00:00</th>\n",
       "      <td>20.644315</td>\n",
       "      <td>26.425656</td>\n",
       "      <td>47.069971</td>\n",
       "    </tr>\n",
       "    <tr>\n",
       "      <th>22:00:00</th>\n",
       "      <td>13.637651</td>\n",
       "      <td>17.668471</td>\n",
       "      <td>31.306122</td>\n",
       "    </tr>\n",
       "    <tr>\n",
       "      <th>23:00:00</th>\n",
       "      <td>8.624323</td>\n",
       "      <td>12.139525</td>\n",
       "      <td>20.763848</td>\n",
       "    </tr>\n",
       "  </tbody>\n",
       "</table>\n",
       "</div>"
      ],
      "text/plain": [
       "                East        West       Total\n",
       "00:00:00    4.980008    6.605581   11.585589\n",
       "01:00:00    2.770929    3.327780    6.098709\n",
       "02:00:00    1.990818    2.074290    4.065109\n",
       "03:00:00    1.558517    1.427738    2.986256\n",
       "04:00:00    3.521866    3.055394    6.577259\n",
       "05:00:00   16.246147    9.552270   25.798417\n",
       "06:00:00   56.058726   34.042066   90.100791\n",
       "07:00:00  146.492711   79.658892  226.151603\n",
       "08:00:00  197.052062  121.780092  318.832153\n",
       "09:00:00  105.874167   80.383333  186.257500\n",
       "10:00:00   52.764167   44.440417   97.204583\n",
       "11:00:00   45.285417   39.710833   84.996250\n",
       "12:00:00   46.862917   42.946667   89.809583\n",
       "13:00:00   49.124531   46.885881   96.010412\n",
       "14:00:00   51.017909   53.194086  104.211995\n",
       "15:00:00   60.163265   72.606830  132.770096\n",
       "16:00:00   81.030820  139.730945  220.761766\n",
       "17:00:00  111.613078  268.703040  380.316118\n",
       "18:00:00   89.546022  172.064973  261.610995\n",
       "19:00:00   48.961266   78.752603  127.713869\n",
       "20:00:00   30.098292   43.331945   73.430237\n",
       "21:00:00   20.644315   26.425656   47.069971\n",
       "22:00:00   13.637651   17.668471   31.306122\n",
       "23:00:00    8.624323   12.139525   20.763848"
      ]
     },
     "execution_count": 175,
     "metadata": {},
     "output_type": "execute_result"
    }
   ],
   "source": [
    "bicycle.groupby(bicycle.index.time).mean()\n",
    "# average number of bicycle counts at different times (for the 24 hours)"
   ]
  },
  {
   "cell_type": "markdown",
   "metadata": {},
   "source": [
    "**Plotting the same**"
   ]
  },
  {
   "cell_type": "code",
   "execution_count": 176,
   "metadata": {},
   "outputs": [
    {
     "data": {
      "image/png": "[encoded data removed]",
      "text/plain": [
       "<Figure size 1440x720 with 1 Axes>"
      ]
     },
     "metadata": {
      "needs_background": "light"
     },
     "output_type": "display_data"
    }
   ],
   "source": [
    "bicycle.groupby(bicycle.index.time).mean().plot()\n",
    "plt.ylabel('Average hourly bicycle counts')\n",
    "plt.show()\n",
    "#early morning around 8.00 AM and 5 PM is the heaviest traffic."
   ]
  },
  {
   "cell_type": "code",
   "execution_count": 177,
   "metadata": {},
   "outputs": [
    {
     "data": {
      "text/html": [
       "<div>\n",
       "<style scoped>\n",
       "    .dataframe tbody tr th:only-of-type {\n",
       "        vertical-align: middle;\n",
       "    }\n",
       "\n",
       "    .dataframe tbody tr th {\n",
       "        vertical-align: top;\n",
       "    }\n",
       "\n",
       "    .dataframe thead th {\n",
       "        text-align: right;\n",
       "    }\n",
       "</style>\n",
       "<table border=\"1\" class=\"dataframe\">\n",
       "  <thead>\n",
       "    <tr style=\"text-align: right;\">\n",
       "      <th></th>\n",
       "      <th>East</th>\n",
       "      <th>West</th>\n",
       "      <th>Total</th>\n",
       "    </tr>\n",
       "    <tr>\n",
       "      <th>Date</th>\n",
       "      <th></th>\n",
       "      <th></th>\n",
       "      <th></th>\n",
       "    </tr>\n",
       "  </thead>\n",
       "  <tbody>\n",
       "    <tr>\n",
       "      <th>1</th>\n",
       "      <td>36.538018</td>\n",
       "      <td>39.959485</td>\n",
       "      <td>76.497504</td>\n",
       "    </tr>\n",
       "    <tr>\n",
       "      <th>2</th>\n",
       "      <td>35.016497</td>\n",
       "      <td>37.925338</td>\n",
       "      <td>72.941836</td>\n",
       "    </tr>\n",
       "    <tr>\n",
       "      <th>3</th>\n",
       "      <td>43.872189</td>\n",
       "      <td>50.692293</td>\n",
       "      <td>94.564482</td>\n",
       "    </tr>\n",
       "    <tr>\n",
       "      <th>4</th>\n",
       "      <td>53.635570</td>\n",
       "      <td>59.997023</td>\n",
       "      <td>113.632592</td>\n",
       "    </tr>\n",
       "    <tr>\n",
       "      <th>5</th>\n",
       "      <td>74.505376</td>\n",
       "      <td>79.628584</td>\n",
       "      <td>154.133961</td>\n",
       "    </tr>\n",
       "    <tr>\n",
       "      <th>6</th>\n",
       "      <td>71.535201</td>\n",
       "      <td>79.568782</td>\n",
       "      <td>151.103983</td>\n",
       "    </tr>\n",
       "    <tr>\n",
       "      <th>7</th>\n",
       "      <td>74.006048</td>\n",
       "      <td>83.706317</td>\n",
       "      <td>157.712366</td>\n",
       "    </tr>\n",
       "    <tr>\n",
       "      <th>8</th>\n",
       "      <td>68.513889</td>\n",
       "      <td>80.403450</td>\n",
       "      <td>148.917339</td>\n",
       "    </tr>\n",
       "    <tr>\n",
       "      <th>9</th>\n",
       "      <td>60.315972</td>\n",
       "      <td>68.462731</td>\n",
       "      <td>128.778704</td>\n",
       "    </tr>\n",
       "    <tr>\n",
       "      <th>10</th>\n",
       "      <td>51.567829</td>\n",
       "      <td>57.393798</td>\n",
       "      <td>108.961628</td>\n",
       "    </tr>\n",
       "    <tr>\n",
       "      <th>11</th>\n",
       "      <td>37.916071</td>\n",
       "      <td>44.184524</td>\n",
       "      <td>82.100595</td>\n",
       "    </tr>\n",
       "    <tr>\n",
       "      <th>12</th>\n",
       "      <td>27.154378</td>\n",
       "      <td>31.248272</td>\n",
       "      <td>58.402650</td>\n",
       "    </tr>\n",
       "  </tbody>\n",
       "</table>\n",
       "</div>"
      ],
      "text/plain": [
       "           East       West       Total\n",
       "Date                                  \n",
       "1     36.538018  39.959485   76.497504\n",
       "2     35.016497  37.925338   72.941836\n",
       "3     43.872189  50.692293   94.564482\n",
       "4     53.635570  59.997023  113.632592\n",
       "5     74.505376  79.628584  154.133961\n",
       "6     71.535201  79.568782  151.103983\n",
       "7     74.006048  83.706317  157.712366\n",
       "8     68.513889  80.403450  148.917339\n",
       "9     60.315972  68.462731  128.778704\n",
       "10    51.567829  57.393798  108.961628\n",
       "11    37.916071  44.184524   82.100595\n",
       "12    27.154378  31.248272   58.402650"
      ]
     },
     "execution_count": 177,
     "metadata": {},
     "output_type": "execute_result"
    }
   ],
   "source": [
    "bicycle.groupby(bicycle.index.month).mean() #mean monthly averages"
   ]
  },
  {
   "cell_type": "code",
   "execution_count": 179,
   "metadata": {},
   "outputs": [
    {
     "data": {
      "image/png": "[encoded data removed]",
      "text/plain": [
       "<Figure size 1440x720 with 1 Axes>"
      ]
     },
     "metadata": {
      "needs_background": "light"
     },
     "output_type": "display_data"
    }
   ],
   "source": [
    "bicycle.groupby(bicycle.index.month).mean().plot() # for mean monthly variations\n",
    "plt.ylabel('Average monthly bicycle counts')\n",
    "plt.show()"
   ]
  },
  {
   "cell_type": "markdown",
   "metadata": {},
   "source": [
    "**More grouping and plotting (Extras)**"
   ]
  },
  {
   "cell_type": "code",
   "execution_count": 180,
   "metadata": {},
   "outputs": [
    {
     "data": {
      "text/plain": [
       "array(['Weekday', 'Weekend'], dtype='<U7')"
      ]
     },
     "execution_count": 180,
     "metadata": {},
     "output_type": "execute_result"
    }
   ],
   "source": [
    "week = np.where(bicycle.index.weekday < 5, 'Weekday', 'Weekend') \n",
    "np.unique(week)"
   ]
  },
  {
   "cell_type": "code",
   "execution_count": 181,
   "metadata": {},
   "outputs": [],
   "source": [
    "bicycle_time = bicycle.groupby([week, bicycle.index.time]).mean()"
   ]
  },
  {
   "cell_type": "code",
   "execution_count": 182,
   "metadata": {},
   "outputs": [
    {
     "data": {
      "text/html": [
       "<div>\n",
       "<style scoped>\n",
       "    .dataframe tbody tr th:only-of-type {\n",
       "        vertical-align: middle;\n",
       "    }\n",
       "\n",
       "    .dataframe tbody tr th {\n",
       "        vertical-align: top;\n",
       "    }\n",
       "\n",
       "    .dataframe thead th {\n",
       "        text-align: right;\n",
       "    }\n",
       "</style>\n",
       "<table border=\"1\" class=\"dataframe\">\n",
       "  <thead>\n",
       "    <tr style=\"text-align: right;\">\n",
       "      <th></th>\n",
       "      <th></th>\n",
       "      <th>East</th>\n",
       "      <th>West</th>\n",
       "      <th>Total</th>\n",
       "    </tr>\n",
       "  </thead>\n",
       "  <tbody>\n",
       "    <tr>\n",
       "      <th rowspan=\"24\" valign=\"top\">Weekday</th>\n",
       "      <th>00:00:00</th>\n",
       "      <td>4.264723</td>\n",
       "      <td>5.510204</td>\n",
       "      <td>9.774927</td>\n",
       "    </tr>\n",
       "    <tr>\n",
       "      <th>01:00:00</th>\n",
       "      <td>2.210496</td>\n",
       "      <td>2.574344</td>\n",
       "      <td>4.784840</td>\n",
       "    </tr>\n",
       "    <tr>\n",
       "      <th>02:00:00</th>\n",
       "      <td>1.631487</td>\n",
       "      <td>1.612245</td>\n",
       "      <td>3.243732</td>\n",
       "    </tr>\n",
       "    <tr>\n",
       "      <th>03:00:00</th>\n",
       "      <td>1.448980</td>\n",
       "      <td>1.302041</td>\n",
       "      <td>2.751020</td>\n",
       "    </tr>\n",
       "    <tr>\n",
       "      <th>04:00:00</th>\n",
       "      <td>4.259475</td>\n",
       "      <td>3.363848</td>\n",
       "      <td>7.623324</td>\n",
       "    </tr>\n",
       "    <tr>\n",
       "      <th>05:00:00</th>\n",
       "      <td>21.140525</td>\n",
       "      <td>12.062974</td>\n",
       "      <td>33.203499</td>\n",
       "    </tr>\n",
       "    <tr>\n",
       "      <th>06:00:00</th>\n",
       "      <td>75.206997</td>\n",
       "      <td>44.176093</td>\n",
       "      <td>119.383090</td>\n",
       "    </tr>\n",
       "    <tr>\n",
       "      <th>07:00:00</th>\n",
       "      <td>198.321283</td>\n",
       "      <td>105.543440</td>\n",
       "      <td>303.864723</td>\n",
       "    </tr>\n",
       "    <tr>\n",
       "      <th>08:00:00</th>\n",
       "      <td>263.200583</td>\n",
       "      <td>159.452478</td>\n",
       "      <td>422.653061</td>\n",
       "    </tr>\n",
       "    <tr>\n",
       "      <th>09:00:00</th>\n",
       "      <td>131.140607</td>\n",
       "      <td>97.528588</td>\n",
       "      <td>228.669195</td>\n",
       "    </tr>\n",
       "    <tr>\n",
       "      <th>10:00:00</th>\n",
       "      <td>52.835473</td>\n",
       "      <td>44.530922</td>\n",
       "      <td>97.366394</td>\n",
       "    </tr>\n",
       "    <tr>\n",
       "      <th>11:00:00</th>\n",
       "      <td>38.870478</td>\n",
       "      <td>33.998250</td>\n",
       "      <td>72.868728</td>\n",
       "    </tr>\n",
       "    <tr>\n",
       "      <th>12:00:00</th>\n",
       "      <td>38.797550</td>\n",
       "      <td>36.219953</td>\n",
       "      <td>75.017503</td>\n",
       "    </tr>\n",
       "    <tr>\n",
       "      <th>13:00:00</th>\n",
       "      <td>40.948688</td>\n",
       "      <td>40.151603</td>\n",
       "      <td>81.100292</td>\n",
       "    </tr>\n",
       "    <tr>\n",
       "      <th>14:00:00</th>\n",
       "      <td>43.288630</td>\n",
       "      <td>48.701458</td>\n",
       "      <td>91.990087</td>\n",
       "    </tr>\n",
       "    <tr>\n",
       "      <th>15:00:00</th>\n",
       "      <td>56.618076</td>\n",
       "      <td>76.103790</td>\n",
       "      <td>132.721866</td>\n",
       "    </tr>\n",
       "    <tr>\n",
       "      <th>16:00:00</th>\n",
       "      <td>88.268805</td>\n",
       "      <td>171.927697</td>\n",
       "      <td>260.196501</td>\n",
       "    </tr>\n",
       "    <tr>\n",
       "      <th>17:00:00</th>\n",
       "      <td>135.285714</td>\n",
       "      <td>356.065306</td>\n",
       "      <td>491.351020</td>\n",
       "    </tr>\n",
       "    <tr>\n",
       "      <th>18:00:00</th>\n",
       "      <td>108.954519</td>\n",
       "      <td>225.468222</td>\n",
       "      <td>334.422741</td>\n",
       "    </tr>\n",
       "    <tr>\n",
       "      <th>19:00:00</th>\n",
       "      <td>57.787755</td>\n",
       "      <td>99.488047</td>\n",
       "      <td>157.275802</td>\n",
       "    </tr>\n",
       "    <tr>\n",
       "      <th>20:00:00</th>\n",
       "      <td>34.585423</td>\n",
       "      <td>52.442566</td>\n",
       "      <td>87.027988</td>\n",
       "    </tr>\n",
       "    <tr>\n",
       "      <th>21:00:00</th>\n",
       "      <td>23.579009</td>\n",
       "      <td>30.919534</td>\n",
       "      <td>54.498542</td>\n",
       "    </tr>\n",
       "    <tr>\n",
       "      <th>22:00:00</th>\n",
       "      <td>15.153936</td>\n",
       "      <td>19.913703</td>\n",
       "      <td>35.067638</td>\n",
       "    </tr>\n",
       "    <tr>\n",
       "      <th>23:00:00</th>\n",
       "      <td>9.172012</td>\n",
       "      <td>12.932362</td>\n",
       "      <td>22.104373</td>\n",
       "    </tr>\n",
       "    <tr>\n",
       "      <th rowspan=\"24\" valign=\"top\">Weekend</th>\n",
       "      <th>00:00:00</th>\n",
       "      <td>6.768222</td>\n",
       "      <td>9.344023</td>\n",
       "      <td>16.112245</td>\n",
       "    </tr>\n",
       "    <tr>\n",
       "      <th>01:00:00</th>\n",
       "      <td>4.172012</td>\n",
       "      <td>5.211370</td>\n",
       "      <td>9.383382</td>\n",
       "    </tr>\n",
       "    <tr>\n",
       "      <th>02:00:00</th>\n",
       "      <td>2.895742</td>\n",
       "      <td>3.237885</td>\n",
       "      <td>6.133627</td>\n",
       "    </tr>\n",
       "    <tr>\n",
       "      <th>03:00:00</th>\n",
       "      <td>1.832362</td>\n",
       "      <td>1.741983</td>\n",
       "      <td>3.574344</td>\n",
       "    </tr>\n",
       "    <tr>\n",
       "      <th>04:00:00</th>\n",
       "      <td>1.677843</td>\n",
       "      <td>2.284257</td>\n",
       "      <td>3.962099</td>\n",
       "    </tr>\n",
       "    <tr>\n",
       "      <th>05:00:00</th>\n",
       "      <td>4.010204</td>\n",
       "      <td>3.275510</td>\n",
       "      <td>7.285714</td>\n",
       "    </tr>\n",
       "    <tr>\n",
       "      <th>06:00:00</th>\n",
       "      <td>8.188047</td>\n",
       "      <td>8.706997</td>\n",
       "      <td>16.895044</td>\n",
       "    </tr>\n",
       "    <tr>\n",
       "      <th>07:00:00</th>\n",
       "      <td>16.921283</td>\n",
       "      <td>14.947522</td>\n",
       "      <td>31.868805</td>\n",
       "    </tr>\n",
       "    <tr>\n",
       "      <th>08:00:00</th>\n",
       "      <td>31.680758</td>\n",
       "      <td>27.599125</td>\n",
       "      <td>59.279883</td>\n",
       "    </tr>\n",
       "    <tr>\n",
       "      <th>09:00:00</th>\n",
       "      <td>42.744898</td>\n",
       "      <td>37.545190</td>\n",
       "      <td>80.290087</td>\n",
       "    </tr>\n",
       "    <tr>\n",
       "      <th>10:00:00</th>\n",
       "      <td>52.586006</td>\n",
       "      <td>44.214286</td>\n",
       "      <td>96.800292</td>\n",
       "    </tr>\n",
       "    <tr>\n",
       "      <th>11:00:00</th>\n",
       "      <td>61.313411</td>\n",
       "      <td>53.983965</td>\n",
       "      <td>115.297376</td>\n",
       "    </tr>\n",
       "    <tr>\n",
       "      <th>12:00:00</th>\n",
       "      <td>67.014577</td>\n",
       "      <td>59.753644</td>\n",
       "      <td>126.768222</td>\n",
       "    </tr>\n",
       "    <tr>\n",
       "      <th>13:00:00</th>\n",
       "      <td>69.564140</td>\n",
       "      <td>63.721574</td>\n",
       "      <td>133.285714</td>\n",
       "    </tr>\n",
       "    <tr>\n",
       "      <th>14:00:00</th>\n",
       "      <td>70.341108</td>\n",
       "      <td>64.425656</td>\n",
       "      <td>134.766764</td>\n",
       "    </tr>\n",
       "    <tr>\n",
       "      <th>15:00:00</th>\n",
       "      <td>69.026239</td>\n",
       "      <td>63.864431</td>\n",
       "      <td>132.890671</td>\n",
       "    </tr>\n",
       "    <tr>\n",
       "      <th>16:00:00</th>\n",
       "      <td>62.935860</td>\n",
       "      <td>59.239067</td>\n",
       "      <td>122.174927</td>\n",
       "    </tr>\n",
       "    <tr>\n",
       "      <th>17:00:00</th>\n",
       "      <td>52.431487</td>\n",
       "      <td>50.297376</td>\n",
       "      <td>102.728863</td>\n",
       "    </tr>\n",
       "    <tr>\n",
       "      <th>18:00:00</th>\n",
       "      <td>41.024781</td>\n",
       "      <td>38.556851</td>\n",
       "      <td>79.581633</td>\n",
       "    </tr>\n",
       "    <tr>\n",
       "      <th>19:00:00</th>\n",
       "      <td>26.895044</td>\n",
       "      <td>26.913994</td>\n",
       "      <td>53.809038</td>\n",
       "    </tr>\n",
       "    <tr>\n",
       "      <th>20:00:00</th>\n",
       "      <td>18.880466</td>\n",
       "      <td>20.555394</td>\n",
       "      <td>39.435860</td>\n",
       "    </tr>\n",
       "    <tr>\n",
       "      <th>21:00:00</th>\n",
       "      <td>13.307580</td>\n",
       "      <td>15.190962</td>\n",
       "      <td>28.498542</td>\n",
       "    </tr>\n",
       "    <tr>\n",
       "      <th>22:00:00</th>\n",
       "      <td>9.846939</td>\n",
       "      <td>12.055394</td>\n",
       "      <td>21.902332</td>\n",
       "    </tr>\n",
       "    <tr>\n",
       "      <th>23:00:00</th>\n",
       "      <td>7.255102</td>\n",
       "      <td>10.157434</td>\n",
       "      <td>17.412536</td>\n",
       "    </tr>\n",
       "  </tbody>\n",
       "</table>\n",
       "</div>"
      ],
      "text/plain": [
       "                        East        West       Total\n",
       "Weekday 00:00:00    4.264723    5.510204    9.774927\n",
       "        01:00:00    2.210496    2.574344    4.784840\n",
       "        02:00:00    1.631487    1.612245    3.243732\n",
       "        03:00:00    1.448980    1.302041    2.751020\n",
       "        04:00:00    4.259475    3.363848    7.623324\n",
       "        05:00:00   21.140525   12.062974   33.203499\n",
       "        06:00:00   75.206997   44.176093  119.383090\n",
       "        07:00:00  198.321283  105.543440  303.864723\n",
       "        08:00:00  263.200583  159.452478  422.653061\n",
       "        09:00:00  131.140607   97.528588  228.669195\n",
       "        10:00:00   52.835473   44.530922   97.366394\n",
       "        11:00:00   38.870478   33.998250   72.868728\n",
       "        12:00:00   38.797550   36.219953   75.017503\n",
       "        13:00:00   40.948688   40.151603   81.100292\n",
       "        14:00:00   43.288630   48.701458   91.990087\n",
       "        15:00:00   56.618076   76.103790  132.721866\n",
       "        16:00:00   88.268805  171.927697  260.196501\n",
       "        17:00:00  135.285714  356.065306  491.351020\n",
       "        18:00:00  108.954519  225.468222  334.422741\n",
       "        19:00:00   57.787755   99.488047  157.275802\n",
       "        20:00:00   34.585423   52.442566   87.027988\n",
       "        21:00:00   23.579009   30.919534   54.498542\n",
       "        22:00:00   15.153936   19.913703   35.067638\n",
       "        23:00:00    9.172012   12.932362   22.104373\n",
       "Weekend 00:00:00    6.768222    9.344023   16.112245\n",
       "        01:00:00    4.172012    5.211370    9.383382\n",
       "        02:00:00    2.895742    3.237885    6.133627\n",
       "        03:00:00    1.832362    1.741983    3.574344\n",
       "        04:00:00    1.677843    2.284257    3.962099\n",
       "        05:00:00    4.010204    3.275510    7.285714\n",
       "        06:00:00    8.188047    8.706997   16.895044\n",
       "        07:00:00   16.921283   14.947522   31.868805\n",
       "        08:00:00   31.680758   27.599125   59.279883\n",
       "        09:00:00   42.744898   37.545190   80.290087\n",
       "        10:00:00   52.586006   44.214286   96.800292\n",
       "        11:00:00   61.313411   53.983965  115.297376\n",
       "        12:00:00   67.014577   59.753644  126.768222\n",
       "        13:00:00   69.564140   63.721574  133.285714\n",
       "        14:00:00   70.341108   64.425656  134.766764\n",
       "        15:00:00   69.026239   63.864431  132.890671\n",
       "        16:00:00   62.935860   59.239067  122.174927\n",
       "        17:00:00   52.431487   50.297376  102.728863\n",
       "        18:00:00   41.024781   38.556851   79.581633\n",
       "        19:00:00   26.895044   26.913994   53.809038\n",
       "        20:00:00   18.880466   20.555394   39.435860\n",
       "        21:00:00   13.307580   15.190962   28.498542\n",
       "        22:00:00    9.846939   12.055394   21.902332\n",
       "        23:00:00    7.255102   10.157434   17.412536"
      ]
     },
     "execution_count": 182,
     "metadata": {},
     "output_type": "execute_result"
    }
   ],
   "source": [
    "bicycle_time"
   ]
  },
  {
   "cell_type": "code",
   "execution_count": 183,
   "metadata": {},
   "outputs": [
    {
     "data": {
      "image/png": "[encoded data removed]",
      "text/plain": [
       "<Figure size 1080x360 with 2 Axes>"
      ]
     },
     "metadata": {
      "needs_background": "light"
     },
     "output_type": "display_data"
    }
   ],
   "source": [
    "fig, ax = plt.subplots(1,2, figsize = (15,5))\n",
    "bicycle_time.loc['Weekday'].plot(ax=ax[0])\n",
    "bicycle_time.loc['Weekend'].plot(ax=ax[1])\n",
    "plt.show()"
   ]
  },
  {
   "cell_type": "markdown",
   "metadata": {},
   "source": [
    "**TimeZones (Extras)**"
   ]
  },
  {
   "cell_type": "code",
   "execution_count": null,
   "metadata": {},
   "outputs": [],
   "source": [
    "import pytz "
   ]
  },
  {
   "cell_type": "code",
   "execution_count": null,
   "metadata": {},
   "outputs": [],
   "source": [
    "pytz.common_timezones[-5:] # US time zones"
   ]
  },
  {
   "cell_type": "code",
   "execution_count": null,
   "metadata": {},
   "outputs": [],
   "source": [
    "pd.date_range('05 15 2019 8:30:30', periods = 14, freq='D', tz = 'UTC') # To explicilty define TZ"
   ]
  },
  {
   "cell_type": "code",
   "execution_count": null,
   "metadata": {},
   "outputs": [],
   "source": [
    "dates = pd.date_range('05 15 2019 8:30:30', periods = 14, freq='D')\n",
    "dates = dates.tz_localize('US/Pacific')\n",
    "dates\n",
    "# if time zone was not first defined, then tz-localize() can be used to define a time zone"
   ]
  },
  {
   "cell_type": "code",
   "execution_count": null,
   "metadata": {},
   "outputs": [],
   "source": [
    "dates.tz_convert('US/Eastern')"
   ]
  },
  {
   "cell_type": "code",
   "execution_count": null,
   "metadata": {},
   "outputs": [],
   "source": [
    "print (pytz.common_timezones)"
   ]
  }
 ],
 "metadata": {
  "kernelspec": {
   "display_name": "Python 3",
   "language": "python",
   "name": "python3"
  },
  "language_info": {
   "codemirror_mode": {
    "name": "ipython",
    "version": 3
   },
   "file_extension": ".py",
   "mimetype": "text/x-python",
   "name": "python",
   "nbconvert_exporter": "python",
   "pygments_lexer": "ipython3",
   "version": "3.7.1"
  }
 },
 "nbformat": 4,
 "nbformat_minor": 2
}
