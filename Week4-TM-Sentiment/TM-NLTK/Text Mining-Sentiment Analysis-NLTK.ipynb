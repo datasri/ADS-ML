{
 "cells": [
  {
   "cell_type": "markdown",
   "metadata": {},
   "source": [
    "<img style=\"float: left;\" src=\"pic2.png\">\n"
   ]
  },
  {
   "cell_type": "markdown",
   "metadata": {},
   "source": [
    "### Sridhar Palle, Ph.D, spalle@emory.edu (Applied ML & DS with Python Program)"
   ]
  },
  {
   "cell_type": "markdown",
   "metadata": {},
   "source": [
    "# Text Mining & Sentiment Analysis with NLTK and Sklearn"
   ]
  },
  {
   "cell_type": "markdown",
   "metadata": {},
   "source": [
    "**Import the libraries and dependencies**"
   ]
  },
  {
   "cell_type": "code",
   "execution_count": 1,
   "metadata": {},
   "outputs": [],
   "source": [
    "import pandas as pd\n",
    "import numpy as np\n",
    "import matplotlib.pyplot as plt\n",
    "import seaborn as sns\n",
    "import re\n",
    "from bs4 import BeautifulSoup\n",
    "import nltk\n",
    "import contractions\n",
    "%matplotlib inline"
   ]
  },
  {
   "cell_type": "code",
   "execution_count": 2,
   "metadata": {},
   "outputs": [],
   "source": [
    "#nltk.download('all', halt_on_error=False) # do this only once if never done before"
   ]
  },
  {
   "cell_type": "markdown",
   "metadata": {},
   "source": [
    "## 1. Load the Dataset "
   ]
  },
  {
   "cell_type": "markdown",
   "metadata": {},
   "source": [
    "**Lets load it and store it in imdb_big**"
   ]
  },
  {
   "cell_type": "code",
   "execution_count": 3,
   "metadata": {},
   "outputs": [],
   "source": [
    "imdb_big = pd.read_csv('movie_reviews.csv')"
   ]
  },
  {
   "cell_type": "code",
   "execution_count": 4,
   "metadata": {},
   "outputs": [
    {
     "data": {
      "text/html": [
       "<div>\n",
       "<style scoped>\n",
       "    .dataframe tbody tr th:only-of-type {\n",
       "        vertical-align: middle;\n",
       "    }\n",
       "\n",
       "    .dataframe tbody tr th {\n",
       "        vertical-align: top;\n",
       "    }\n",
       "\n",
       "    .dataframe thead th {\n",
       "        text-align: right;\n",
       "    }\n",
       "</style>\n",
       "<table border=\"1\" class=\"dataframe\">\n",
       "  <thead>\n",
       "    <tr style=\"text-align: right;\">\n",
       "      <th></th>\n",
       "      <th>review</th>\n",
       "      <th>sentiment</th>\n",
       "    </tr>\n",
       "  </thead>\n",
       "  <tbody>\n",
       "    <tr>\n",
       "      <th>0</th>\n",
       "      <td>One of the other reviewers has mentioned that ...</td>\n",
       "      <td>positive</td>\n",
       "    </tr>\n",
       "    <tr>\n",
       "      <th>1</th>\n",
       "      <td>A wonderful little production. &lt;br /&gt;&lt;br /&gt;The...</td>\n",
       "      <td>positive</td>\n",
       "    </tr>\n",
       "    <tr>\n",
       "      <th>2</th>\n",
       "      <td>I thought this was a wonderful way to spend ti...</td>\n",
       "      <td>positive</td>\n",
       "    </tr>\n",
       "  </tbody>\n",
       "</table>\n",
       "</div>"
      ],
      "text/plain": [
       "                                              review sentiment\n",
       "0  One of the other reviewers has mentioned that ...  positive\n",
       "1  A wonderful little production. <br /><br />The...  positive\n",
       "2  I thought this was a wonderful way to spend ti...  positive"
      ]
     },
     "execution_count": 4,
     "metadata": {},
     "output_type": "execute_result"
    }
   ],
   "source": [
    "imdb_big.head(3)"
   ]
  },
  {
   "cell_type": "code",
   "execution_count": 5,
   "metadata": {},
   "outputs": [
    {
     "data": {
      "text/plain": [
       "(50000, 2)"
      ]
     },
     "execution_count": 5,
     "metadata": {},
     "output_type": "execute_result"
    }
   ],
   "source": [
    "imdb_big.shape"
   ]
  },
  {
   "cell_type": "code",
   "execution_count": 6,
   "metadata": {},
   "outputs": [
    {
     "data": {
      "text/plain": [
       "count                                                 50000\n",
       "unique                                                49582\n",
       "top       Loved today's show!!! It was a variety and not...\n",
       "freq                                                      5\n",
       "Name: review, dtype: object"
      ]
     },
     "execution_count": 6,
     "metadata": {},
     "output_type": "execute_result"
    }
   ],
   "source": [
    "imdb_big['review'].describe()"
   ]
  },
  {
   "cell_type": "code",
   "execution_count": 7,
   "metadata": {},
   "outputs": [
    {
     "data": {
      "text/plain": [
       "0    One of the other reviewers has mentioned that ...\n",
       "1    A wonderful little production. <br /><br />The...\n",
       "2    I thought this was a wonderful way to spend ti...\n",
       "3    Basically there's a family where a little boy ...\n",
       "4    Petter Mattei's \"Love in the Time of Money\" is...\n",
       "Name: review, dtype: object"
      ]
     },
     "execution_count": 7,
     "metadata": {},
     "output_type": "execute_result"
    }
   ],
   "source": [
    "imdb_big['review'][0:5]"
   ]
  },
  {
   "cell_type": "code",
   "execution_count": 8,
   "metadata": {},
   "outputs": [
    {
     "data": {
      "text/plain": [
       "negative    25000\n",
       "positive    25000\n",
       "Name: sentiment, dtype: int64"
      ]
     },
     "execution_count": 8,
     "metadata": {},
     "output_type": "execute_result"
    }
   ],
   "source": [
    "imdb_big['sentiment'].value_counts()"
   ]
  },
  {
   "cell_type": "markdown",
   "metadata": {},
   "source": [
    "**Q. How to find the longest review**"
   ]
  },
  {
   "cell_type": "code",
   "execution_count": null,
   "metadata": {},
   "outputs": [],
   "source": []
  },
  {
   "cell_type": "markdown",
   "metadata": {},
   "source": [
    "## 2. Sentiment Analysis just with Sklearn (with basic preprocessing)"
   ]
  },
  {
   "cell_type": "markdown",
   "metadata": {},
   "source": [
    "### 2.1 Bag of Words Approach"
   ]
  },
  {
   "cell_type": "code",
   "execution_count": 9,
   "metadata": {},
   "outputs": [],
   "source": [
    "from sklearn.feature_extraction.text import CountVectorizer\n",
    "from sklearn.feature_extraction.text import TfidfTransformer"
   ]
  },
  {
   "cell_type": "code",
   "execution_count": 10,
   "metadata": {},
   "outputs": [
    {
     "data": {
      "text/plain": [
       "(50000, 101895)"
      ]
     },
     "execution_count": 10,
     "metadata": {},
     "output_type": "execute_result"
    }
   ],
   "source": [
    "cv = CountVectorizer()\n",
    "bow = cv.fit_transform(imdb_big['review'])\n",
    "bow.shape"
   ]
  },
  {
   "cell_type": "code",
   "execution_count": 11,
   "metadata": {},
   "outputs": [
    {
     "data": {
      "text/plain": [
       "(50000, 101583)"
      ]
     },
     "execution_count": 11,
     "metadata": {},
     "output_type": "execute_result"
    }
   ],
   "source": [
    "cv = CountVectorizer(stop_words='english')\n",
    "bow = cv.fit_transform(imdb_big['review'])\n",
    "bow.shape"
   ]
  },
  {
   "cell_type": "markdown",
   "metadata": {},
   "source": [
    "**We have chosen deafult Preprocessing in Countvectorizer. It has built-in arguments for common pre-processing text options**\n",
    "* lowercase = True\n",
    "* stop_words = 'english'\n",
    "* token_pattern - takes care of punctuation"
   ]
  },
  {
   "cell_type": "markdown",
   "metadata": {},
   "source": [
    "**Lets check a small review to see what Countvectorizer has achieved**"
   ]
  },
  {
   "cell_type": "code",
   "execution_count": 12,
   "metadata": {},
   "outputs": [
    {
     "data": {
      "text/plain": [
       "27521    32\n",
       "31072    41\n",
       "40817    49\n",
       "28920    51\n",
       "19874    52\n",
       "Name: review, dtype: int64"
      ]
     },
     "execution_count": 12,
     "metadata": {},
     "output_type": "execute_result"
    }
   ],
   "source": [
    "imdb_big['review'].str.len().sort_values().head() # first five reviews based on length"
   ]
  },
  {
   "cell_type": "code",
   "execution_count": 13,
   "metadata": {},
   "outputs": [
    {
     "data": {
      "text/plain": [
       "'What a script, what a story, what a mess!'"
      ]
     },
     "execution_count": 13,
     "metadata": {},
     "output_type": "execute_result"
    }
   ],
   "source": [
    "imdb_big['review'][31072]"
   ]
  },
  {
   "cell_type": "code",
   "execution_count": 14,
   "metadata": {},
   "outputs": [
    {
     "name": "stdout",
     "output_type": "stream",
     "text": [
      "  (0, 79154)\t1\n",
      "  (0, 85982)\t1\n",
      "  (0, 57605)\t1\n"
     ]
    }
   ],
   "source": [
    "print (bow[31072]) # if we just print it, we can see in which column words are present"
   ]
  },
  {
   "cell_type": "code",
   "execution_count": 15,
   "metadata": {},
   "outputs": [
    {
     "data": {
      "text/plain": [
       "array([79154, 85982, 57605])"
      ]
     },
     "execution_count": 15,
     "metadata": {},
     "output_type": "execute_result"
    }
   ],
   "source": [
    "rows, col = bow[31072].nonzero() \n",
    "# it also has a non-zero method which directly show which column indices have non-zero values\n",
    "col"
   ]
  },
  {
   "cell_type": "code",
   "execution_count": 16,
   "metadata": {},
   "outputs": [
    {
     "data": {
      "text/plain": [
       "{'reviewers': 75307,\n",
       " 'mentioned': 57407,\n",
       " 'watching': 97949,\n",
       " 'just': 48334,\n",
       " 'oz': 65272,\n",
       " 'episode': 30033,\n",
       " 'll': 53078,\n",
       " 'hooked': 42725,\n",
       " 'right': 75711,\n",
       " 'exactly': 30888,\n",
       " 'happened': 40335,\n",
       " 'br': 11989,\n",
       " 'thing': 90149,\n",
       " 'struck': 86368,\n",
       " 'brutality': 12922,\n",
       " 'unflinching': 94350,\n",
       " 'scenes': 78541,\n",
       " 'violence': 96866,\n",
       " 'set': 80101,\n",
       " 'word': 99790,\n",
       " 'trust': 92697,\n",
       " 'faint': 31830,\n",
       " 'hearted': 41057,\n",
       " 'timid': 90720,\n",
       " 'pulls': 71391,\n",
       " 'punches': 71438,\n",
       " 'regards': 73904,\n",
       " 'drugs': 27374,\n",
       " 'sex': 80196,\n",
       " 'hardcore': 40397,\n",
       " 'classic': 17478,\n",
       " 'use': 95543,\n",
       " 'called': 14048,\n",
       " 'nickname': 62053,\n",
       " 'given': 37368,\n",
       " 'oswald': 64572,\n",
       " 'maximum': 56385,\n",
       " 'security': 79484,\n",
       " 'state': 85330,\n",
       " 'penitentary': 66873,\n",
       " 'focuses': 34150,\n",
       " 'mainly': 54835,\n",
       " 'emerald': 29180,\n",
       " 'city': 17324,\n",
       " 'experimental': 31282,\n",
       " 'section': 79463,\n",
       " 'prison': 70404,\n",
       " 'cells': 15522,\n",
       " 'glass': 37444,\n",
       " 'fronts': 35325,\n",
       " 'face': 31709,\n",
       " 'inwards': 46429,\n",
       " 'privacy': 70420,\n",
       " 'high': 41839,\n",
       " 'agenda': 3017,\n",
       " 'em': 29064,\n",
       " 'home': 42508,\n",
       " 'aryans': 6130,\n",
       " 'muslims': 60621,\n",
       " 'gangstas': 36110,\n",
       " 'latinos': 51439,\n",
       " 'christians': 16909,\n",
       " 'italians': 46774,\n",
       " 'irish': 46512,\n",
       " 'scuffles': 79224,\n",
       " 'death': 22908,\n",
       " 'stares': 85241,\n",
       " 'dodgy': 26313,\n",
       " 'dealings': 22878,\n",
       " 'shady': 80321,\n",
       " 'agreements': 3123,\n",
       " 'far': 32122,\n",
       " 'away': 7192,\n",
       " 'say': 78321,\n",
       " 'main': 54821,\n",
       " 'appeal': 5321,\n",
       " 'fact': 31754,\n",
       " 'goes': 37806,\n",
       " 'shows': 81257,\n",
       " 'wouldn': 99942,\n",
       " 'dare': 22540,\n",
       " 'forget': 34482,\n",
       " 'pretty': 70247,\n",
       " 'pictures': 67917,\n",
       " 'painted': 65477,\n",
       " 'mainstream': 54845,\n",
       " 'audiences': 6796,\n",
       " 'charm': 16061,\n",
       " 'romance': 76354,\n",
       " 'doesn': 26329,\n",
       " 'mess': 57605,\n",
       " 'saw': 78290,\n",
       " 'nasty': 61231,\n",
       " 'surreal': 87591,\n",
       " 'couldn': 20547,\n",
       " 'ready': 73108,\n",
       " 'watched': 97942,\n",
       " 'developed': 24556,\n",
       " 'taste': 88955,\n",
       " 'got': 38194,\n",
       " 'accustomed': 2168,\n",
       " 'levels': 52288,\n",
       " 'graphic': 38495,\n",
       " 'injustice': 45489,\n",
       " 'crooked': 21389,\n",
       " 'guards': 39203,\n",
       " 'sold': 83481,\n",
       " 'nickel': 62034,\n",
       " 'inmates': 45510,\n",
       " 'kill': 49489,\n",
       " 'order': 64294,\n",
       " 'mannered': 55378,\n",
       " 'middle': 57931,\n",
       " 'class': 17474,\n",
       " 'turned': 93010,\n",
       " 'bitches': 10305,\n",
       " 'lack': 50808,\n",
       " 'street': 86184,\n",
       " 'skills': 82225,\n",
       " 'experience': 31274,\n",
       " 'comfortable': 18576,\n",
       " 'uncomfortable': 93828,\n",
       " 'viewing': 96687,\n",
       " 'thats': 89911,\n",
       " 'touch': 91511,\n",
       " 'darker': 22564,\n",
       " 'wonderful': 99642,\n",
       " 'little': 52995,\n",
       " 'production': 70570,\n",
       " 'filming': 33173,\n",
       " 'technique': 89219,\n",
       " 'unassuming': 93671,\n",
       " 'old': 63804,\n",
       " 'time': 90676,\n",
       " 'bbc': 8698,\n",
       " 'fashion': 32272,\n",
       " 'gives': 37371,\n",
       " 'comforting': 18579,\n",
       " 'discomforting': 25462,\n",
       " 'sense': 79821,\n",
       " 'realism': 73137,\n",
       " 'entire': 29859,\n",
       " 'piece': 67938,\n",
       " 'actors': 2359,\n",
       " 'extremely': 31555,\n",
       " 'chosen': 16852,\n",
       " 'michael': 57834,\n",
       " 'sheen': 80659,\n",
       " 'polari': 68940,\n",
       " 'voices': 97153,\n",
       " 'pat': 66268,\n",
       " 'truly': 92668,\n",
       " 'seamless': 79322,\n",
       " 'editing': 28375,\n",
       " 'guided': 39284,\n",
       " 'references': 73776,\n",
       " 'williams': 99112,\n",
       " 'diary': 24817,\n",
       " 'entries': 29909,\n",
       " 'worth': 99920,\n",
       " 'terrificly': 89685,\n",
       " 'written': 100084,\n",
       " 'performed': 67060,\n",
       " 'masterful': 56073,\n",
       " 'great': 38631,\n",
       " 'master': 56065,\n",
       " 'comedy': 18551,\n",
       " 'life': 52509,\n",
       " 'really': 73161,\n",
       " 'comes': 18564,\n",
       " 'things': 90158,\n",
       " 'fantasy': 32104,\n",
       " 'guard': 39191,\n",
       " 'traditional': 91725,\n",
       " 'dream': 27138,\n",
       " 'techniques': 89220,\n",
       " 'remains': 74299,\n",
       " 'solid': 83516,\n",
       " 'disappears': 25356,\n",
       " 'plays': 68563,\n",
       " 'knowledge': 50011,\n",
       " 'senses': 79827,\n",
       " 'particularly': 66121,\n",
       " 'concerning': 19085,\n",
       " 'orton': 64488,\n",
       " 'halliwell': 40005,\n",
       " 'sets': 80118,\n",
       " 'flat': 33677,\n",
       " 'murals': 60499,\n",
       " 'decorating': 23154,\n",
       " 'surface': 87524,\n",
       " 'terribly': 89678,\n",
       " 'thought': 90283,\n",
       " 'way': 98056,\n",
       " 'spend': 84315,\n",
       " 'hot': 43008,\n",
       " 'summer': 87108,\n",
       " 'weekend': 98212,\n",
       " 'sitting': 82059,\n",
       " 'air': 3264,\n",
       " 'conditioned': 19188,\n",
       " 'theater': 89936,\n",
       " 'light': 52554,\n",
       " 'plot': 68681,\n",
       " 'simplistic': 81830,\n",
       " 'dialogue': 24772,\n",
       " 'witty': 99498,\n",
       " 'characters': 15986,\n",
       " 'likable': 52600,\n",
       " 'bread': 12240,\n",
       " 'suspected': 87671,\n",
       " 'serial': 80014,\n",
       " 'killer': 49500,\n",
       " 'disappointed': 25359,\n",
       " 'realize': 73150,\n",
       " 'match': 56134,\n",
       " 'point': 68876,\n",
       " 'risk': 75879,\n",
       " 'addiction': 2453,\n",
       " 'proof': 70780,\n",
       " 'woody': 99721,\n",
       " 'allen': 3742,\n",
       " 'fully': 35509,\n",
       " 'control': 19906,\n",
       " 'style': 86557,\n",
       " 'grown': 39064,\n",
       " 'love': 53697,\n",
       " 'laughed': 51490,\n",
       " 'comedies': 18548,\n",
       " 'years': 100551,\n",
       " 'decade': 23006,\n",
       " 've': 96113,\n",
       " 'impressed': 44552,\n",
       " 'scarlet': 78470,\n",
       " 'johanson': 47860,\n",
       " 'managed': 55161,\n",
       " 'tone': 91197,\n",
       " 'sexy': 80241,\n",
       " 'image': 44200,\n",
       " 'jumped': 48253,\n",
       " 'average': 7087,\n",
       " 'spirited': 84463,\n",
       " 'young': 100799,\n",
       " 'woman': 99614,\n",
       " 'crown': 21477,\n",
       " 'jewel': 47613,\n",
       " 'career': 14638,\n",
       " 'wittier': 99491,\n",
       " 'devil': 24598,\n",
       " 'wears': 98129,\n",
       " 'prada': 69747,\n",
       " 'interesting': 45975,\n",
       " 'superman': 87329,\n",
       " 'friends': 35196,\n",
       " 'basically': 8439,\n",
       " 'family': 31994,\n",
       " 'boy': 11946,\n",
       " 'jake': 47078,\n",
       " 'thinks': 90167,\n",
       " 'zombie': 101378,\n",
       " 'closet': 17826,\n",
       " 'parents': 65964,\n",
       " 'fighting': 33064,\n",
       " 'movie': 60055,\n",
       " 'slower': 82716,\n",
       " 'soap': 83269,\n",
       " 'opera': 64102,\n",
       " 'suddenly': 86906,\n",
       " 'decides': 23077,\n",
       " 'rambo': 72578,\n",
       " 'ok': 63745,\n",
       " 'going': 37834,\n",
       " 'make': 54907,\n",
       " 'film': 33134,\n",
       " 'decide': 23072,\n",
       " 'thriller': 90352,\n",
       " 'drama': 27046,\n",
       " 'watchable': 97936,\n",
       " 'divorcing': 26135,\n",
       " 'arguing': 5732,\n",
       " 'like': 52602,\n",
       " 'real': 73125,\n",
       " 'totally': 91479,\n",
       " 'ruins': 76976,\n",
       " 'expected': 31239,\n",
       " 'boogeyman': 11466,\n",
       " 'similar': 81771,\n",
       " 'instead': 45742,\n",
       " 'meaningless': 56870,\n",
       " 'spots': 84688,\n",
       " '10': 57,\n",
       " 'playing': 68549,\n",
       " 'descent': 24217,\n",
       " 'dialogs': 24771,\n",
       " 'shots': 81187,\n",
       " 'ignore': 44054,\n",
       " 'petter': 67438,\n",
       " 'mattei': 56257,\n",
       " 'money': 59273,\n",
       " 'visually': 97009,\n",
       " 'stunning': 86493,\n",
       " 'watch': 97933,\n",
       " 'mr': 60143,\n",
       " 'offers': 63618,\n",
       " 'vivid': 97071,\n",
       " 'portrait': 69415,\n",
       " 'human': 43343,\n",
       " 'relations': 74177,\n",
       " 'telling': 89412,\n",
       " 'power': 69679,\n",
       " 'success': 86841,\n",
       " 'people': 66940,\n",
       " 'different': 24957,\n",
       " 'situations': 82066,\n",
       " 'encounter': 29441,\n",
       " 'variation': 96010,\n",
       " 'arthur': 6049,\n",
       " 'schnitzler': 78738,\n",
       " 'play': 68522,\n",
       " 'theme': 89990,\n",
       " 'director': 25281,\n",
       " 'transfers': 91881,\n",
       " 'action': 2326,\n",
       " 'present': 70133,\n",
       " 'new': 61870,\n",
       " 'york': 100755,\n",
       " 'meet': 57063,\n",
       " 'connect': 19423,\n",
       " 'connected': 19424,\n",
       " 'person': 67235,\n",
       " 'know': 50003,\n",
       " 'previous': 70276,\n",
       " 'contact': 19708,\n",
       " 'stylishly': 86567,\n",
       " 'sophisticated': 83748,\n",
       " 'luxurious': 54153,\n",
       " 'look': 53434,\n",
       " 'taken': 88548,\n",
       " 'live': 53012,\n",
       " 'world': 99856,\n",
       " 'habitat': 39728,\n",
       " 'gets': 36918,\n",
       " 'souls': 83886,\n",
       " 'picture': 67915,\n",
       " 'stages': 85032,\n",
       " 'loneliness': 53367,\n",
       " 'inhabits': 45414,\n",
       " 'big': 9984,\n",
       " 'best': 9700,\n",
       " 'place': 68360,\n",
       " 'fulfillment': 35488,\n",
       " 'discerns': 25425,\n",
       " 'case': 14982,\n",
       " 'acting': 2321,\n",
       " 'good': 37983,\n",
       " 'direction': 25272,\n",
       " 'steve': 85653,\n",
       " 'buscemi': 13523,\n",
       " 'rosario': 76536,\n",
       " 'dawson': 22769,\n",
       " 'carol': 14795,\n",
       " 'kane': 48623,\n",
       " 'imperioli': 44424,\n",
       " 'adrian': 2679,\n",
       " 'grenier': 38743,\n",
       " 'rest': 74996,\n",
       " 'talented': 88588,\n",
       " 'cast': 15060,\n",
       " 'come': 18537,\n",
       " 'alive': 3703,\n",
       " 'wish': 99384,\n",
       " 'luck': 53873,\n",
       " 'await': 7168,\n",
       " 'anxiously': 5127,\n",
       " 'work': 99815,\n",
       " 'probably': 70471,\n",
       " 'favorite': 32415,\n",
       " 'story': 85982,\n",
       " 'selflessness': 79677,\n",
       " 'sacrifice': 77364,\n",
       " 'dedication': 23195,\n",
       " 'noble': 62394,\n",
       " 'cause': 15315,\n",
       " 'preachy': 69829,\n",
       " 'boring': 11670,\n",
       " 'despite': 24353,\n",
       " 'having': 40815,\n",
       " 'seen': 79554,\n",
       " '15': 234,\n",
       " 'times': 90702,\n",
       " '25': 770,\n",
       " 'paul': 66425,\n",
       " 'lukas': 53949,\n",
       " 'performance': 67056,\n",
       " 'brings': 12550,\n",
       " 'tears': 89182,\n",
       " 'eyes': 31623,\n",
       " 'bette': 9757,\n",
       " 'davis': 22743,\n",
       " 'sympathetic': 88169,\n",
       " 'roles': 76308,\n",
       " 'delight': 23605,\n",
       " 'kids': 49426,\n",
       " 'grandma': 38445,\n",
       " 'says': 78338,\n",
       " 'dressed': 27210,\n",
       " 'midgets': 57952,\n",
       " 'children': 16576,\n",
       " 'makes': 54917,\n",
       " 'fun': 35533,\n",
       " 'mother': 59888,\n",
       " 'slow': 82711,\n",
       " 'awakening': 7175,\n",
       " 'happening': 40337,\n",
       " 'roof': 76450,\n",
       " 'believable': 9242,\n",
       " 'startling': 85307,\n",
       " 'dozen': 26968,\n",
       " 'thumbs': 90447,\n",
       " 'sure': 87512,\n",
       " 'resurrection': 75069,\n",
       " 'dated': 22675,\n",
       " 'seahunt': 79306,\n",
       " 'series': 80021,\n",
       " 'tech': 89200,\n",
       " 'today': 90996,\n",
       " 'bring': 12545,\n",
       " 'kid': 49391,\n",
       " 'excitement': 30993,\n",
       " 'grew': 38761,\n",
       " 'black': 10386,\n",
       " 'white': 98762,\n",
       " 'tv': 93104,\n",
       " 'gunsmoke': 39483,\n",
       " 'hero': 41591,\n",
       " 'week': 98209,\n",
       " 'vote': 97272,\n",
       " 'comeback': 18538,\n",
       " 'sea': 79279,\n",
       " 'hunt': 43497,\n",
       " 'need': 61540,\n",
       " 'change': 15881,\n",
       " 'pace': 65324,\n",
       " 'water': 97962,\n",
       " 'adventure': 2730,\n",
       " 'oh': 63691,\n",
       " 'thank': 89883,\n",
       " 'outlet': 64737,\n",
       " 'view': 96679,\n",
       " 'viewpoints': 96691,\n",
       " 'movies': 60085,\n",
       " 'ole': 63827,\n",
       " 'believe': 9244,\n",
       " 'wanna': 97731,\n",
       " 'nice': 62005,\n",
       " 'read': 73086,\n",
       " 'plus': 68768,\n",
       " 'points': 68892,\n",
       " 'rhymes': 75501,\n",
       " 'lines': 52773,\n",
       " 'let': 52222,\n",
       " 'submit': 86692,\n",
       " 'leave': 51781,\n",
       " 'doubt': 26836,\n",
       " 'quit': 72121,\n",
       " 'lets': 52243,\n",
       " 'amazing': 4107,\n",
       " 'fresh': 35121,\n",
       " 'innovative': 45555,\n",
       " 'idea': 43898,\n",
       " '70': 1242,\n",
       " 'aired': 3278,\n",
       " 'brilliant': 12525,\n",
       " 'dropped': 27326,\n",
       " '1990': 565,\n",
       " 'funny': 35605,\n",
       " 'anymore': 5139,\n",
       " 'continued': 19815,\n",
       " 'decline': 23120,\n",
       " 'complete': 18882,\n",
       " 'waste': 97913,\n",
       " 'disgraceful': 25597,\n",
       " 'fallen': 31921,\n",
       " 'writing': 100081,\n",
       " 'painfully': 65465,\n",
       " 'bad': 7551,\n",
       " 'performances': 67057,\n",
       " 'mildly': 58106,\n",
       " 'entertaining': 29827,\n",
       " 'respite': 74964,\n",
       " 'guest': 39253,\n",
       " 'hosts': 43007,\n",
       " 'hard': 40387,\n",
       " 'creator': 21059,\n",
       " 'hand': 40158,\n",
       " 'selected': 79657,\n",
       " 'original': 64396,\n",
       " 'chose': 16851,\n",
       " 'band': 7954,\n",
       " 'hacks': 39765,\n",
       " 'followed': 34233,\n",
       " 'recognize': 73431,\n",
       " 'brilliance': 12523,\n",
       " 'fit': 33492,\n",
       " 'replace': 74615,\n",
       " 'mediocrity': 57006,\n",
       " 'felt': 32680,\n",
       " 'stars': 85290,\n",
       " 'respect': 74946,\n",
       " 'huge': 43284,\n",
       " 'awful': 7210,\n",
       " 'encouraged': 29448,\n",
       " 'positive': 69473,\n",
       " 'comments': 18664,\n",
       " 'looking': 53442,\n",
       " 'forward': 34633,\n",
       " 'mistake': 58775,\n",
       " '950': 1401,\n",
       " 'films': 33198,\n",
       " 'worst': 99918,\n",
       " 'pacing': 65353,\n",
       " 'storyline': 85993,\n",
       " 'soundtrack': 83916,\n",
       " 'song': 83667,\n",
       " 'lame': 51021,\n",
       " 'country': 20634,\n",
       " 'tune': 92912,\n",
       " 'played': 68532,\n",
       " 'looks': 53447,\n",
       " 'cheap': 16196,\n",
       " 'extreme': 31553,\n",
       " 'rarely': 72796,\n",
       " 'happy': 40352,\n",
       " 'end': 29474,\n",
       " 'credits': 21084,\n",
       " 'prevents': 70269,\n",
       " 'giving': 37373,\n",
       " 'score': 78966,\n",
       " 'harvey': 40628,\n",
       " 'keitel': 49071,\n",
       " 'making': 54927,\n",
       " 'bit': 10301,\n",
       " 'effort': 28522,\n",
       " 'obsessives': 63359,\n",
       " 'gut': 39541,\n",
       " 'wrenching': 100023,\n",
       " 'laughter': 51501,\n",
       " 'hell': 41320,\n",
       " 'mom': 59210,\n",
       " 'liked': 52606,\n",
       " 'camp': 14189,\n",
       " 'phil': 67601,\n",
       " 'alien': 3658,\n",
       " 'quirky': 72114,\n",
       " 'humour': 43429,\n",
       " 'based': 8405,\n",
       " 'oddness': 63525,\n",
       " 'actual': 2366,\n",
       " 'punchlines': 71443,\n",
       " 'odd': 63515,\n",
       " 'progressed': 70665,\n",
       " 'didn': 24913,\n",
       " 'jokes': 47914,\n",
       " 'low': 53746,\n",
       " 'budget': 13070,\n",
       " 'problem': 70489,\n",
       " 'eventually': 30731,\n",
       " 'lost': 53589,\n",
       " 'imagine': 44216,\n",
       " 'stoner': 85896,\n",
       " 'currently': 21880,\n",
       " 'partaking': 66086,\n",
       " 'better': 9758,\n",
       " 'try': 92718,\n",
       " 'brother': 12790,\n",
       " 'planet': 68423,\n",
       " '12': 151,\n",
       " 'came': 14132,\n",
       " 'recall': 73312,\n",
       " 'scariest': 78462,\n",
       " 'scene': 78534,\n",
       " 'bird': 10218,\n",
       " 'eating': 28174,\n",
       " 'men': 57305,\n",
       " 'dangling': 22452,\n",
       " 'helplessly': 41390,\n",
       " 'parachutes': 65824,\n",
       " 'horror': 42905,\n",
       " 'cheesy': 16308,\n",
       " 'saturday': 78181,\n",
       " 'afternoons': 2977,\n",
       " 'tired': 90828,\n",
       " 'formula': 34547,\n",
       " 'monster': 59406,\n",
       " 'type': 93267,\n",
       " 'usually': 95581,\n",
       " 'included': 44789,\n",
       " 'beautiful': 8865,\n",
       " 'daughter': 22697,\n",
       " 'professor': 70602,\n",
       " 'resolution': 74913,\n",
       " 'died': 24918,\n",
       " 'care': 14631,\n",
       " 'romantic': 76371,\n",
       " 'angle': 4678,\n",
       " 'year': 100539,\n",
       " 'predictable': 69926,\n",
       " 'plots': 68691,\n",
       " 'unintentional': 94573,\n",
       " 'humor': 43419,\n",
       " 'later': 51411,\n",
       " 'psycho': 71188,\n",
       " 'loved': 53706,\n",
       " 'star': 85215,\n",
       " 'janet': 47148,\n",
       " 'leigh': 51982,\n",
       " 'bumped': 13287,\n",
       " 'early': 28079,\n",
       " 'sat': 78095,\n",
       " 'took': 91241,\n",
       " 'notice': 62775,\n",
       " 'screenwriters': 79116,\n",
       " 'scary': 78488,\n",
       " 'possible': 69504,\n",
       " 'worn': 99886,\n",
       " 'rules': 76991,\n",
       " 'im': 44196,\n",
       " 'fan': 32006,\n",
       " 'boll': 11272,\n",
       " 'enjoyed': 29666,\n",
       " 'postal': 69509,\n",
       " 'maybe': 56401,\n",
       " 'apparently': 5312,\n",
       " 'bought': 11812,\n",
       " 'rights': 75727,\n",
       " 'long': 53379,\n",
       " 'ago': 3091,\n",
       " 'game': 36033,\n",
       " 'finsished': 33352,\n",
       " 'killing': 49507,\n",
       " 'mercs': 57467,\n",
       " 'infiltrating': 45267,\n",
       " 'secret': 79443,\n",
       " 'research': 74810,\n",
       " 'labs': 50783,\n",
       " 'located': 53184,\n",
       " 'tropical': 92554,\n",
       " 'island': 46697,\n",
       " 'warned': 97818,\n",
       " 'schemed': 78610,\n",
       " 'legion': 51927,\n",
       " 'schmucks': 78724,\n",
       " 'feeling': 32575,\n",
       " 'loneley': 53364,\n",
       " 'invites': 46403,\n",
       " 'countrymen': 20637,\n",
       " 'players': 68534,\n",
       " 'names': 61049,\n",
       " 'til': 90634,\n",
       " 'schweiger': 78872,\n",
       " 'udo': 93389,\n",
       " 'kier': 49439,\n",
       " 'ralf': 72548,\n",
       " 'moeller': 59073,\n",
       " 'actually': 2372,\n",
       " 'selfs': 79680,\n",
       " 'biz': 10341,\n",
       " 'tale': 88585,\n",
       " 'jack': 46941,\n",
       " 'carver': 14955,\n",
       " 'yes': 100623,\n",
       " 'german': 36840,\n",
       " 'hail': 39870,\n",
       " 'bratwurst': 12179,\n",
       " 'dudes': 27526,\n",
       " 'tils': 90653,\n",
       " 'badass': 7557,\n",
       " 'complained': 18867,\n",
       " 'staying': 85397,\n",
       " 'true': 92645,\n",
       " 'perspective': 67271,\n",
       " 'don': 26515,\n",
       " 'looked': 53437,\n",
       " 'kicking': 49386,\n",
       " 'demented': 23724,\n",
       " 'evil': 30807,\n",
       " 'mad': 54513,\n",
       " 'scientist': 78900,\n",
       " 'dr': 26984,\n",
       " 'krieger': 50387,\n",
       " 'genetically': 36660,\n",
       " 'mutated': 60668,\n",
       " 'soldiers': 83490,\n",
       " 'gms': 37663,\n",
       " 'performing': 67063,\n",
       " 'reminds': 74360,\n",
       " 'spoiler': 84573,\n",
       " 'vancouver': 95899,\n",
       " 'reason': 73213,\n",
       " 'palm': 65581,\n",
       " 'trees': 92181,\n",
       " 'rich': 75545,\n",
       " 'lumberjack': 53974,\n",
       " 'woods': 99705,\n",
       " 'haven': 40803,\n",
       " 'gone': 37958,\n",
       " 'started': 85299,\n",
       " 'mehehe': 57119,\n",
       " 'stay': 85393,\n",
       " 'bolls': 11283,\n",
       " 'shenanigans': 80742,\n",
       " 'delivers': 23638,\n",
       " 'meaning': 56864,\n",
       " 'suck': 86874,\n",
       " 'mentioning': 57408,\n",
       " 'imply': 44498,\n",
       " 'did': 24896,\n",
       " 'areas': 5682,\n",
       " 'boat': 11032,\n",
       " 'cromed': 21365,\n",
       " 'albino': 3506,\n",
       " 'squad': 84822,\n",
       " 'enters': 29817,\n",
       " 'laugh': 51487,\n",
       " 'reeks': 73730,\n",
       " 'scheisse': 78599,\n",
       " 'poop': 69217,\n",
       " 'simpletons': 81819,\n",
       " 'fa': 31666,\n",
       " 'wiff': 99000,\n",
       " 'ahead': 3166,\n",
       " 'btw': 12976,\n",
       " 'annoying': 4867,\n",
       " 'sidekick': 81536,\n",
       " 'shoot': 81105,\n",
       " 'minutes': 58454,\n",
       " 'screen': 79096,\n",
       " 'shakespeare': 80365,\n",
       " 'appreciate': 5426,\n",
       " 'trying': 92723,\n",
       " 'masses': 56039,\n",
       " 'ruin': 76969,\n",
       " 'scottish': 79005,\n",
       " 'certain': 15656,\n",
       " 'rev': 75225,\n",
       " 'bowdler': 11890,\n",
       " 'bowdlerization': 11893,\n",
       " 'tried': 92342,\n",
       " 'victorian': 96586,\n",
       " 'era': 30125,\n",
       " 'words': 99803,\n",
       " 'improve': 44590,\n",
       " 'perfection': 67033,\n",
       " 'write': 100069,\n",
       " 'text': 89821,\n",
       " 'english': 29614,\n",
       " 'composition': 18951,\n",
       " 'forte': 34592,\n",
       " 'saying': 78330,\n",
       " 'does': 26327,\n",
       " 'cut': 21971,\n",
       " 'fantastic': 32095,\n",
       " 'prisoners': 70407,\n",
       " 'famous': 32004,\n",
       " 'george': 36783,\n",
       " 'clooney': 17813,\n",
       " 'roll': 76313,\n",
       " 'man': 55157,\n",
       " 'constant': 19626,\n",
       " 'sorrow': 83823,\n",
       " 'recommand': 73456,\n",
       " 'everybody': 30769,\n",
       " 'greetings': 38715,\n",
       " 'bart': 8359,\n",
       " 'kind': 49567,\n",
       " 'drawn': 27115,\n",
       " 'erotic': 30228,\n",
       " 'amateurish': 4087,\n",
       " 'unbelievable': 93720,\n",
       " 'bits': 10320,\n",
       " 'sort': 83828,\n",
       " 'school': 78764,\n",
       " 'project': 70686,\n",
       " 'rosanna': 76533,\n",
       " 'arquette': 5929,\n",
       " 'thinking': 90166,\n",
       " 'stock': 85827,\n",
       " 'bizarre': 10343,\n",
       " 'supposed': 87454,\n",
       " 'midwest': 57989,\n",
       " 'town': 91600,\n",
       " 'involved': 46418,\n",
       " 'lessons': 52212,\n",
       " 'learned': 51745,\n",
       " 'insights': 45661,\n",
       " 'stilted': 85741,\n",
       " 'quite': 72122,\n",
       " 'ridiculous': 75636,\n",
       " 'lots': 53608,\n",
       " 'skin': 82240,\n",
       " 'intrigues': 46246,\n",
       " 'videotaped': 96631,\n",
       " 'nonsense': 62569,\n",
       " 'bisexual': 10276,\n",
       " 'relationship': 74178,\n",
       " 'heterosexual': 41701,\n",
       " 'encounters': 29445,\n",
       " 'absurd': 1959,\n",
       " 'dance': 22397,\n",
       " 'stereotyped': 85614,\n",
       " 'pass': 66188,\n",
       " 'million': 58203,\n",
       " 'miles': 58115,\n",
       " 'wasted': 97915,\n",
       " 'spent': 84323,\n",
       " 'starving': 85317,\n",
       " 'aids': 3214,\n",
       " 'africa': 2947,\n",
       " 'simply': 81832,\n",
       " 'remade': 74289,\n",
       " 'fails': 31825,\n",
       " 'capture': 14546,\n",
       " 'flavor': 33723,\n",
       " 'terror': 89701,\n",
       " '1963': 521,\n",
       " 'title': 90883,\n",
       " 'liam': 52375,\n",
       " 'neeson': 61562,\n",
       " 'excellent': 30952,\n",
       " 'holds': 42372,\n",
       " 'exception': 30962,\n",
       " 'owen': 65228,\n",
       " 'wilson': 99153,\n",
       " 'feel': 32571,\n",
       " 'character': 15964,\n",
       " 'luke': 53951,\n",
       " 'major': 54888,\n",
       " 'fault': 32382,\n",
       " 'version': 96417,\n",
       " 'strayed': 86160,\n",
       " 'shirley': 80970,\n",
       " 'jackson': 46978,\n",
       " 'attempts': 6690,\n",
       " 'grandiose': 38439,\n",
       " 'thrill': 90350,\n",
       " 'earlier': 28074,\n",
       " 'trade': 91711,\n",
       " 'snazzier': 83056,\n",
       " 'special': 84187,\n",
       " 'effects': 28497,\n",
       " 'enjoy': 29662,\n",
       " 'friction': 35164,\n",
       " 'older': 63809,\n",
       " 'horrible': 42884,\n",
       " 'wasn': 97901,\n",
       " 'continuous': 19822,\n",
       " 'minute': 58450,\n",
       " 'fight': 33058,\n",
       " 'chance': 15852,\n",
       " 'development': 24561,\n",
       " 'busy': 13597,\n",
       " 'running': 77056,\n",
       " 'sword': 88065,\n",
       " 'emotional': 29276,\n",
       " 'attachment': 6666,\n",
       " 'machine': 54420,\n",
       " 'wanted': 97741,\n",
       " 'destroy': 24396,\n",
       " 'blatantly': 10575,\n",
       " 'stolen': 85868,\n",
       " 'lotr': 53607,\n",
       " 'wars': 97857,\n",
       " 'matrix': 56240,\n",
       " 'examples': 30920,\n",
       " 'ghost': 36992,\n",
       " 'final': 33236,\n",
       " 'yoda': 100693,\n",
       " 'obee': 63218,\n",
       " 'vader': 95719,\n",
       " 'spider': 84366,\n",
       " 'beginning': 9099,\n",
       " 'frodo': 35284,\n",
       " 'attacked': 6672,\n",
       " 'return': 75197,\n",
       " 'kings': 49621,\n",
       " 'elijah': 28898,\n",
       " 'wood': 99670,\n",
       " 'victim': 96570,\n",
       " 'wait': 97540,\n",
       " 'hypnotizes': 43734,\n",
       " 'stings': 85764,\n",
       " 'wraps': 99999,\n",
       " 'uh': 93440,\n",
       " 'hello': 41349,\n",
       " 'vs': 97324,\n",
       " 'humans': 43376,\n",
       " 'terminator': 89643,\n",
       " 'tell': 89406,\n",
       " 'nazi': 61412,\n",
       " 'juvenile': 48369,\n",
       " 'line': 52756,\n",
       " 'rushed': 77091,\n",
       " 'conclusion': 19119,\n",
       " 'adult': 2698,\n",
       " 'disappointment': 25362,\n",
       " 'save': 78254,\n",
       " 'remember': 74338,\n",
       " 'cinema': 17168,\n",
       " 'dark': 22557,\n",
       " 'places': 68369,\n",
       " 'nervous': 61750,\n",
       " '74': 1271,\n",
       " '75': 1278,\n",
       " 'dad': 22179,\n",
       " 'sister': 82027,\n",
       " 'newbury': 61880,\n",
       " 'berkshire': 9574,\n",
       " 'england': 29606,\n",
       " 'tigers': 90606,\n",
       " 'snow': 83199,\n",
       " 'appearance': 5327,\n",
       " 'grizzly': 38925,\n",
       " 'adams': 2418,\n",
       " 'actor': 2356,\n",
       " 'dan': 22391,\n",
       " 'haggery': 39831,\n",
       " 'think': 90160,\n",
       " 'shot': 81181,\n",
       " 'dies': 24934,\n",
       " 'knows': 50021,\n",
       " 'dvd': 27889,\n",
       " 'fitness': 33496,\n",
       " 'club': 17884,\n",
       " 'shame': 80424,\n",
       " 'nearest': 61458,\n",
       " '20': 609,\n",
       " 'hear': 41022,\n",
       " 'stinkers': 85777,\n",
       " 'nominated': 62493,\n",
       " 'golden': 37862,\n",
       " 'globe': 37570,\n",
       " 'female': 32683,\n",
       " 'renaissance': 74420,\n",
       " 'painter': 65478,\n",
       " 'mangled': 55266,\n",
       " 'recognition': 73427,\n",
       " 'complaint': 18872,\n",
       " 'liberties': 52419,\n",
       " 'facts': 31772,\n",
       " 'perfectly': 67038,\n",
       " 'fine': 33271,\n",
       " 'accounts': 2134,\n",
       " 'artist': 6088,\n",
       " 'dishwater': 25638,\n",
       " 'dull': 27607,\n",
       " 'script': 79154,\n",
       " 'suppose': 87452,\n",
       " 'weren': 98417,\n",
       " 'naked': 61022,\n",
       " 'factual': 31773,\n",
       " 'hurriedly': 43540,\n",
       " 'capped': 14488,\n",
       " 'summary': 87105,\n",
       " 'saved': 78255,\n",
       " 'couple': 20651,\n",
       " 'hours': 43072,\n",
       " 'favored': 32411,\n",
       " 'brevity': 12398,\n",
       " 'die': 24916,\n",
       " 'sequels': 79941,\n",
       " 'surprise': 87584,\n",
       " '1990s': 567,\n",
       " 'glut': 37643,\n",
       " 'cashed': 14996,\n",
       " 'wrong': 100088,\n",
       " 'guy': 39569,\n",
       " 'concept': 19066,\n",
       " 'cliffhanger': 17691,\n",
       " 'mountain': 59984,\n",
       " 'rescue': 74803,\n",
       " 'sly': 82781,\n",
       " 'stop': 85929,\n",
       " 'stallone': 85121,\n",
       " 'nit': 62330,\n",
       " 'pickers': 67875,\n",
       " 'especially': 30384,\n",
       " 'expert': 31291,\n",
       " 'climbing': 17719,\n",
       " 'base': 8402,\n",
       " 'jumping': 48259,\n",
       " 'aviation': 7113,\n",
       " 'facial': 31732,\n",
       " 'expressions': 31426,\n",
       " 'excuses': 31055,\n",
       " 'dismiss': 25715,\n",
       " 'overblown': 64902,\n",
       " 'pile': 68025,\n",
       " 'junk': 48291,\n",
       " 'acted': 2315,\n",
       " 'horse': 42925,\n",
       " ...}"
      ]
     },
     "execution_count": 16,
     "metadata": {},
     "output_type": "execute_result"
    }
   ],
   "source": [
    "cv.vocabulary_ # lets look at the vocabulary to see the mapping of column indices and names"
   ]
  },
  {
   "cell_type": "code",
   "execution_count": 17,
   "metadata": {},
   "outputs": [
    {
     "data": {
      "text/plain": [
       "'What a script, what a story, what a mess!'"
      ]
     },
     "execution_count": 17,
     "metadata": {},
     "output_type": "execute_result"
    }
   ],
   "source": [
    "imdb_big['review'][31072]"
   ]
  },
  {
   "cell_type": "code",
   "execution_count": 18,
   "metadata": {},
   "outputs": [
    {
     "data": {
      "text/plain": [
       "['mess', 'story', 'script']"
      ]
     },
     "execution_count": 18,
     "metadata": {},
     "output_type": "execute_result"
    }
   ],
   "source": [
    "[k for k,v in cv.vocabulary_.items() if v in col]"
   ]
  },
  {
   "cell_type": "markdown",
   "metadata": {},
   "source": [
    "### 2.2 Tfidf"
   ]
  },
  {
   "cell_type": "code",
   "execution_count": 19,
   "metadata": {},
   "outputs": [
    {
     "data": {
      "text/plain": [
       "(50000, 101583)"
      ]
     },
     "execution_count": 19,
     "metadata": {},
     "output_type": "execute_result"
    }
   ],
   "source": [
    "from sklearn.feature_extraction.text import TfidfTransformer\n",
    "\n",
    "tf = TfidfTransformer()\n",
    "tfidf = tf.fit_transform(bow)\n",
    "tfidf.shape"
   ]
  },
  {
   "cell_type": "code",
   "execution_count": 20,
   "metadata": {},
   "outputs": [
    {
     "data": {
      "text/plain": [
       "<50000x101583 sparse matrix of type '<class 'numpy.float64'>'\n",
       "\twith 4434500 stored elements in Compressed Sparse Row format>"
      ]
     },
     "execution_count": 20,
     "metadata": {},
     "output_type": "execute_result"
    }
   ],
   "source": [
    "tfidf # it is also a sparse matrix"
   ]
  },
  {
   "cell_type": "markdown",
   "metadata": {},
   "source": [
    "**For analyzing the sentiment, we can fit the ML algorithm on either bow or tfidf**"
   ]
  },
  {
   "cell_type": "markdown",
   "metadata": {},
   "source": [
    "### 2.3 Test/Train Split"
   ]
  },
  {
   "cell_type": "code",
   "execution_count": 29,
   "metadata": {},
   "outputs": [],
   "source": [
    "from sklearn.model_selection import train_test_split\n",
    "X_train, X_test, y_train, y_test = train_test_split(tfidf,imdb_big['sentiment'], test_size = 0.2, random_state=30)"
   ]
  },
  {
   "cell_type": "code",
   "execution_count": 30,
   "metadata": {},
   "outputs": [
    {
     "data": {
      "text/plain": [
       "(40000, 101583)"
      ]
     },
     "execution_count": 30,
     "metadata": {},
     "output_type": "execute_result"
    }
   ],
   "source": [
    "X_train.shape"
   ]
  },
  {
   "cell_type": "code",
   "execution_count": 31,
   "metadata": {},
   "outputs": [
    {
     "data": {
      "text/plain": [
       "(10000, 101583)"
      ]
     },
     "execution_count": 31,
     "metadata": {},
     "output_type": "execute_result"
    }
   ],
   "source": [
    "X_test.shape"
   ]
  },
  {
   "cell_type": "code",
   "execution_count": 32,
   "metadata": {},
   "outputs": [
    {
     "data": {
      "text/plain": [
       "scipy.sparse.csr.csr_matrix"
      ]
     },
     "execution_count": 32,
     "metadata": {},
     "output_type": "execute_result"
    }
   ],
   "source": [
    "type(X_train)"
   ]
  },
  {
   "cell_type": "markdown",
   "metadata": {},
   "source": [
    "### 2.4  Fitting a logistic Regression Model directly on this sparse matrix"
   ]
  },
  {
   "cell_type": "code",
   "execution_count": 33,
   "metadata": {},
   "outputs": [],
   "source": [
    "from sklearn.linear_model import LogisticRegression\n",
    "from sklearn.metrics import confusion_matrix, classification_report"
   ]
  },
  {
   "cell_type": "code",
   "execution_count": 34,
   "metadata": {},
   "outputs": [
    {
     "data": {
      "text/plain": [
       "LogisticRegression(C=1.0, class_weight=None, dual=False, fit_intercept=True,\n",
       "          intercept_scaling=1, max_iter=100, multi_class='warn',\n",
       "          n_jobs=None, penalty='l2', random_state=0, solver='warn',\n",
       "          tol=0.0001, verbose=0, warm_start=False)"
      ]
     },
     "execution_count": 34,
     "metadata": {},
     "output_type": "execute_result"
    }
   ],
   "source": [
    "logr = LogisticRegression(random_state=0)\n",
    "logr.fit(X_train, y_train)"
   ]
  },
  {
   "cell_type": "markdown",
   "metadata": {},
   "source": [
    "####  Predictions on the training and test data sets"
   ]
  },
  {
   "cell_type": "code",
   "execution_count": 35,
   "metadata": {},
   "outputs": [
    {
     "name": "stdout",
     "output_type": "stream",
     "text": [
      "Predictions on training data for the first 3 reviews : ['negative' 'positive' 'negative']\n",
      "Predictions on the test data for the first 3 reviews : ['positive' 'positive' 'positive']\n"
     ]
    }
   ],
   "source": [
    "ypred_train = logr.predict(X_train)\n",
    "ypred_test = logr.predict(X_test)\n",
    "print ('Predictions on training data for the first 3 reviews :', ypred_train[0:3])\n",
    "print ('Predictions on the test data for the first 3 reviews :',ypred_test[0:3])"
   ]
  },
  {
   "cell_type": "markdown",
   "metadata": {},
   "source": [
    "#### Confusion matrix and accuracies on training and test data"
   ]
  },
  {
   "cell_type": "code",
   "execution_count": 36,
   "metadata": {},
   "outputs": [
    {
     "name": "stdout",
     "output_type": "stream",
     "text": [
      "Confusion Matrix and Accuracies for Training Data\n",
      "[[18568  1455]\n",
      " [ 1135 18842]]\n",
      "0.93525 \n",
      "\n",
      "Confusion Matrix and Accuracies for Test Data\n",
      "[[4349  628]\n",
      " [ 439 4584]]\n",
      "0.8933 \n",
      "\n"
     ]
    }
   ],
   "source": [
    "print ('Confusion Matrix and Accuracies for Training Data')\n",
    "print (confusion_matrix(y_train, ypred_train))\n",
    "print (logr.score(X_train, y_train), '\\n')\n",
    "\n",
    "print ('Confusion Matrix and Accuracies for Test Data')\n",
    "print (confusion_matrix(y_test, ypred_test))\n",
    "print (logr.score(X_test, y_test), '\\n')"
   ]
  },
  {
   "cell_type": "markdown",
   "metadata": {},
   "source": [
    "**Lets look at the cross-val score**"
   ]
  },
  {
   "cell_type": "code",
   "execution_count": 37,
   "metadata": {},
   "outputs": [
    {
     "name": "stderr",
     "output_type": "stream",
     "text": [
      "C:\\Users\\palle\\Anaconda3\\lib\\site-packages\\sklearn\\linear_model\\logistic.py:433: FutureWarning: Default solver will be changed to 'lbfgs' in 0.22. Specify a solver to silence this warning.\n",
      "  FutureWarning)\n"
     ]
    },
    {
     "data": {
      "text/plain": [
       "0.8947800000000001"
      ]
     },
     "execution_count": 37,
     "metadata": {},
     "output_type": "execute_result"
    }
   ],
   "source": [
    "from sklearn.model_selection import cross_val_score\n",
    "\n",
    "cross_val_score(logr,tfidf,imdb_big['sentiment'],cv=5).mean()"
   ]
  },
  {
   "cell_type": "markdown",
   "metadata": {},
   "source": [
    "## 3. Sentiment Analysis with both NLTK and Sklearn"
   ]
  },
  {
   "cell_type": "markdown",
   "metadata": {},
   "source": [
    "**Text Normalization or preprocessing steps**\n",
    "    - Converting to lowercase\n",
    "    - Remove html tags\n",
    "    - Expanding contractions\n",
    "    - Removing punctuation\n",
    "    - Removing stop words\n",
    "    - Stemming or lemmatization"
   ]
  },
  {
   "cell_type": "markdown",
   "metadata": {},
   "source": [
    "We have already defined functions which can perform these steps. All these functions\n",
    "are in text_preprocessing.py file. We can directly import the functions from this file."
   ]
  },
  {
   "cell_type": "code",
   "execution_count": 38,
   "metadata": {},
   "outputs": [],
   "source": [
    "from Text_Preprocessing import lower_case,html_parser,replace_contractions\n",
    "from Text_Preprocessing import remove_special, remove_stopwords, word_stem\n",
    "\n",
    "# remember we are importing from .py file  not .pynb"
   ]
  },
  {
   "cell_type": "markdown",
   "metadata": {},
   "source": [
    "**Preprocessing with the above imported functions**"
   ]
  },
  {
   "cell_type": "code",
   "execution_count": 39,
   "metadata": {},
   "outputs": [],
   "source": [
    "def text_preprocess(text):\n",
    "    text = lower_case(text) # convert to lower case\n",
    "    text = html_parser(text) # remove html tags\n",
    "    text = replace_contractions(text) # replace contractions Ex: haven't  to have not\n",
    "    text = remove_special(text) # remove special characters @, #, %, $ etc..\n",
    "    text = remove_stopwords(text) # remove stop words. Ex: and, the\n",
    "    text = word_stem(text, 'lemmatize') # stem or lemmatize\n",
    "    return text"
   ]
  },
  {
   "cell_type": "code",
   "execution_count": 41,
   "metadata": {},
   "outputs": [
    {
     "data": {
      "text/html": [
       "<div>\n",
       "<style scoped>\n",
       "    .dataframe tbody tr th:only-of-type {\n",
       "        vertical-align: middle;\n",
       "    }\n",
       "\n",
       "    .dataframe tbody tr th {\n",
       "        vertical-align: top;\n",
       "    }\n",
       "\n",
       "    .dataframe thead th {\n",
       "        text-align: right;\n",
       "    }\n",
       "</style>\n",
       "<table border=\"1\" class=\"dataframe\">\n",
       "  <thead>\n",
       "    <tr style=\"text-align: right;\">\n",
       "      <th></th>\n",
       "      <th>review</th>\n",
       "      <th>sentiment</th>\n",
       "    </tr>\n",
       "  </thead>\n",
       "  <tbody>\n",
       "    <tr>\n",
       "      <th>0</th>\n",
       "      <td>One of the other reviewers has mentioned that ...</td>\n",
       "      <td>positive</td>\n",
       "    </tr>\n",
       "    <tr>\n",
       "      <th>1</th>\n",
       "      <td>A wonderful little production. &lt;br /&gt;&lt;br /&gt;The...</td>\n",
       "      <td>positive</td>\n",
       "    </tr>\n",
       "    <tr>\n",
       "      <th>2</th>\n",
       "      <td>I thought this was a wonderful way to spend ti...</td>\n",
       "      <td>positive</td>\n",
       "    </tr>\n",
       "  </tbody>\n",
       "</table>\n",
       "</div>"
      ],
      "text/plain": [
       "                                              review sentiment\n",
       "0  One of the other reviewers has mentioned that ...  positive\n",
       "1  A wonderful little production. <br /><br />The...  positive\n",
       "2  I thought this was a wonderful way to spend ti...  positive"
      ]
     },
     "execution_count": 41,
     "metadata": {},
     "output_type": "execute_result"
    }
   ],
   "source": [
    "imdb_big.head(3)"
   ]
  },
  {
   "cell_type": "code",
   "execution_count": 42,
   "metadata": {},
   "outputs": [
    {
     "data": {
      "text/html": [
       "<div>\n",
       "<style scoped>\n",
       "    .dataframe tbody tr th:only-of-type {\n",
       "        vertical-align: middle;\n",
       "    }\n",
       "\n",
       "    .dataframe tbody tr th {\n",
       "        vertical-align: top;\n",
       "    }\n",
       "\n",
       "    .dataframe thead th {\n",
       "        text-align: right;\n",
       "    }\n",
       "</style>\n",
       "<table border=\"1\" class=\"dataframe\">\n",
       "  <thead>\n",
       "    <tr style=\"text-align: right;\">\n",
       "      <th></th>\n",
       "      <th>review</th>\n",
       "      <th>sentiment</th>\n",
       "      <th>prep_review</th>\n",
       "    </tr>\n",
       "  </thead>\n",
       "  <tbody>\n",
       "    <tr>\n",
       "      <th>0</th>\n",
       "      <td>One of the other reviewers has mentioned that ...</td>\n",
       "      <td>positive</td>\n",
       "      <td>one reviewer mentioned watching 1 oz episode h...</td>\n",
       "    </tr>\n",
       "    <tr>\n",
       "      <th>1</th>\n",
       "      <td>A wonderful little production. &lt;br /&gt;&lt;br /&gt;The...</td>\n",
       "      <td>positive</td>\n",
       "      <td>wonderful little production filming technique ...</td>\n",
       "    </tr>\n",
       "    <tr>\n",
       "      <th>2</th>\n",
       "      <td>I thought this was a wonderful way to spend ti...</td>\n",
       "      <td>positive</td>\n",
       "      <td>thought wonderful way spend time hot summer we...</td>\n",
       "    </tr>\n",
       "    <tr>\n",
       "      <th>3</th>\n",
       "      <td>Basically there's a family where a little boy ...</td>\n",
       "      <td>negative</td>\n",
       "      <td>basically family little boy jake think zombie ...</td>\n",
       "    </tr>\n",
       "    <tr>\n",
       "      <th>4</th>\n",
       "      <td>Petter Mattei's \"Love in the Time of Money\" is...</td>\n",
       "      <td>positive</td>\n",
       "      <td>petter mattei love time money visually stunnin...</td>\n",
       "    </tr>\n",
       "  </tbody>\n",
       "</table>\n",
       "</div>"
      ],
      "text/plain": [
       "                                              review sentiment  \\\n",
       "0  One of the other reviewers has mentioned that ...  positive   \n",
       "1  A wonderful little production. <br /><br />The...  positive   \n",
       "2  I thought this was a wonderful way to spend ti...  positive   \n",
       "3  Basically there's a family where a little boy ...  negative   \n",
       "4  Petter Mattei's \"Love in the Time of Money\" is...  positive   \n",
       "\n",
       "                                         prep_review  \n",
       "0  one reviewer mentioned watching 1 oz episode h...  \n",
       "1  wonderful little production filming technique ...  \n",
       "2  thought wonderful way spend time hot summer we...  \n",
       "3  basically family little boy jake think zombie ...  \n",
       "4  petter mattei love time money visually stunnin...  "
      ]
     },
     "execution_count": 42,
     "metadata": {},
     "output_type": "execute_result"
    }
   ],
   "source": [
    "prep_review = []\n",
    "for rev in imdb_big['review']:\n",
    "    prep_review.append(text_preprocess(rev))\n",
    "    \n",
    "imdb_big['prep_review'] = prep_review\n",
    "imdb_big.head()"
   ]
  },
  {
   "cell_type": "markdown",
   "metadata": {},
   "source": [
    "### 3.1 Bag of Words"
   ]
  },
  {
   "cell_type": "code",
   "execution_count": 43,
   "metadata": {},
   "outputs": [],
   "source": [
    "# We are still going to leverage sklearn for creating a bag of words sparse matrix.\n",
    "# The difference from the previous scenario (section 2) is that we have preprocessed the reviews using our custom functions\n",
    "# we will pass the newly created prep_review column to the CountVectorizer transformation."
   ]
  },
  {
   "cell_type": "code",
   "execution_count": 44,
   "metadata": {},
   "outputs": [
    {
     "data": {
      "text/plain": [
       "(50000, 94065)"
      ]
     },
     "execution_count": 44,
     "metadata": {},
     "output_type": "execute_result"
    }
   ],
   "source": [
    "from sklearn.feature_extraction.text import CountVectorizer\n",
    "cv_prep = CountVectorizer()\n",
    "bow_prep = cv_prep.fit_transform(imdb_big['prep_review'])\n",
    "bow_prep.shape"
   ]
  },
  {
   "cell_type": "markdown",
   "metadata": {},
   "source": [
    "### 3.1 TFidf"
   ]
  },
  {
   "cell_type": "code",
   "execution_count": 45,
   "metadata": {},
   "outputs": [
    {
     "data": {
      "text/plain": [
       "(50000, 94065)"
      ]
     },
     "execution_count": 45,
     "metadata": {},
     "output_type": "execute_result"
    }
   ],
   "source": [
    "from sklearn.feature_extraction.text import TfidfTransformer\n",
    "\n",
    "tf_prep = TfidfTransformer()\n",
    "tfidf_prep = tf_prep.fit_transform(bow_prep)\n",
    "tfidf_prep.shape"
   ]
  },
  {
   "cell_type": "markdown",
   "metadata": {},
   "source": [
    "**For analyzing the sentiment, we can again fit the ML algorithm on either bow_prep or tfidf_prep**"
   ]
  },
  {
   "cell_type": "markdown",
   "metadata": {},
   "source": [
    "### 3.2 Test/Train Split"
   ]
  },
  {
   "cell_type": "code",
   "execution_count": 46,
   "metadata": {},
   "outputs": [],
   "source": [
    "from sklearn.model_selection import train_test_split\n",
    "X_train_prep, X_test_prep, y_train_prep, y_test_prep = train_test_split(tfidf_prep,imdb_big['sentiment'], test_size = 0.2, random_state=30)"
   ]
  },
  {
   "cell_type": "code",
   "execution_count": 47,
   "metadata": {},
   "outputs": [
    {
     "data": {
      "text/plain": [
       "(40000, 94065)"
      ]
     },
     "execution_count": 47,
     "metadata": {},
     "output_type": "execute_result"
    }
   ],
   "source": [
    "X_train_prep.shape"
   ]
  },
  {
   "cell_type": "code",
   "execution_count": 48,
   "metadata": {},
   "outputs": [
    {
     "data": {
      "text/plain": [
       "(10000, 94065)"
      ]
     },
     "execution_count": 48,
     "metadata": {},
     "output_type": "execute_result"
    }
   ],
   "source": [
    "X_test_prep.shape"
   ]
  },
  {
   "cell_type": "code",
   "execution_count": 49,
   "metadata": {},
   "outputs": [
    {
     "data": {
      "text/plain": [
       "scipy.sparse.csr.csr_matrix"
      ]
     },
     "execution_count": 49,
     "metadata": {},
     "output_type": "execute_result"
    }
   ],
   "source": [
    "type(X_train_prep)"
   ]
  },
  {
   "cell_type": "markdown",
   "metadata": {},
   "source": [
    "### 3.3 Fitting a logistic Regression Model directly on this sparse matrix"
   ]
  },
  {
   "cell_type": "code",
   "execution_count": 50,
   "metadata": {},
   "outputs": [],
   "source": [
    "from sklearn.linear_model import LogisticRegression\n",
    "from sklearn.metrics import confusion_matrix, accuracy_score"
   ]
  },
  {
   "cell_type": "code",
   "execution_count": 51,
   "metadata": {},
   "outputs": [
    {
     "data": {
      "text/plain": [
       "LogisticRegression(C=1.0, class_weight=None, dual=False, fit_intercept=True,\n",
       "          intercept_scaling=1, max_iter=100, multi_class='warn',\n",
       "          n_jobs=None, penalty='l2', random_state=0, solver='warn',\n",
       "          tol=0.0001, verbose=0, warm_start=False)"
      ]
     },
     "execution_count": 51,
     "metadata": {},
     "output_type": "execute_result"
    }
   ],
   "source": [
    "logr_prep = LogisticRegression(random_state=0)\n",
    "logr_prep.fit(X_train_prep, y_train_prep)"
   ]
  },
  {
   "cell_type": "markdown",
   "metadata": {},
   "source": [
    "**Predictions on the training and test data sets**"
   ]
  },
  {
   "cell_type": "code",
   "execution_count": 52,
   "metadata": {},
   "outputs": [
    {
     "name": "stdout",
     "output_type": "stream",
     "text": [
      "Predictions on training data for the first 3 reviews : ['negative' 'positive' 'negative']\n",
      "Predictions on the test data for the first 3 reviews : ['positive' 'positive' 'positive']\n"
     ]
    }
   ],
   "source": [
    "ypred_train_prep = logr_prep.predict(X_train_prep)\n",
    "ypred_test_prep = logr_prep.predict(X_test_prep)\n",
    "print ('Predictions on training data for the first 3 reviews :', ypred_train_prep[0:3])\n",
    "print ('Predictions on the test data for the first 3 reviews :',ypred_test_prep[0:3])"
   ]
  },
  {
   "cell_type": "markdown",
   "metadata": {},
   "source": [
    "**Confusion matrix and accuracies on training and test data**"
   ]
  },
  {
   "cell_type": "code",
   "execution_count": 53,
   "metadata": {},
   "outputs": [
    {
     "name": "stdout",
     "output_type": "stream",
     "text": [
      "Confusion Matrix and Accuracies for Training Data\n",
      "[[18511  1512]\n",
      " [ 1168 18809]]\n",
      "0.933 \n",
      "\n",
      "Confusion Matrix and Accuracies for Test Data\n",
      "[[4357  620]\n",
      " [ 435 4588]]\n",
      "0.8945 \n",
      "\n"
     ]
    }
   ],
   "source": [
    "print ('Confusion Matrix and Accuracies for Training Data')\n",
    "print (confusion_matrix(y_train_prep, ypred_train_prep))\n",
    "print (accuracy_score(y_train_prep, ypred_train_prep), '\\n')\n",
    "\n",
    "print ('Confusion Matrix and Accuracies for Test Data')\n",
    "print (confusion_matrix(y_test_prep, ypred_test_prep))\n",
    "print (accuracy_score(y_test_prep, ypred_test_prep), '\\n')"
   ]
  },
  {
   "cell_type": "code",
   "execution_count": 54,
   "metadata": {},
   "outputs": [
    {
     "name": "stderr",
     "output_type": "stream",
     "text": [
      "C:\\Users\\palle\\Anaconda3\\lib\\site-packages\\sklearn\\linear_model\\logistic.py:433: FutureWarning: Default solver will be changed to 'lbfgs' in 0.22. Specify a solver to silence this warning.\n",
      "  FutureWarning)\n"
     ]
    },
    {
     "data": {
      "text/plain": [
       "0.8948599999999999"
      ]
     },
     "execution_count": 54,
     "metadata": {},
     "output_type": "execute_result"
    }
   ],
   "source": [
    "from sklearn.model_selection import cross_val_score\n",
    "\n",
    "cross_val_score(logr_prep,tfidf_prep,imdb_big['sentiment'],cv=5).mean()"
   ]
  },
  {
   "cell_type": "markdown",
   "metadata": {},
   "source": [
    "### 3.4 Improving the accuracy of the models (Optional)"
   ]
  },
  {
   "cell_type": "markdown",
   "metadata": {},
   "source": [
    "Options\n",
    "* More text preprocessing (ngrams, correcting spellings)\n",
    "* More data instances (more examples or reviews. We have only 50000.)\n",
    "* Investigate different ML models\n",
    "* Regularization\n",
    "* Hyperparameter Tuning"
   ]
  },
  {
   "cell_type": "markdown",
   "metadata": {},
   "source": [
    "**RandomForest**"
   ]
  },
  {
   "cell_type": "code",
   "execution_count": 55,
   "metadata": {},
   "outputs": [],
   "source": [
    "from sklearn.ensemble import RandomForestClassifier"
   ]
  },
  {
   "cell_type": "code",
   "execution_count": 56,
   "metadata": {},
   "outputs": [
    {
     "name": "stderr",
     "output_type": "stream",
     "text": [
      "C:\\Users\\palle\\Anaconda3\\lib\\site-packages\\sklearn\\ensemble\\forest.py:246: FutureWarning: The default value of n_estimators will change from 10 in version 0.20 to 100 in 0.22.\n",
      "  \"10 in version 0.20 to 100 in 0.22.\", FutureWarning)\n"
     ]
    },
    {
     "data": {
      "text/plain": [
       "RandomForestClassifier(bootstrap=True, class_weight=None, criterion='gini',\n",
       "            max_depth=None, max_features='auto', max_leaf_nodes=None,\n",
       "            min_impurity_decrease=0.0, min_impurity_split=None,\n",
       "            min_samples_leaf=1, min_samples_split=2,\n",
       "            min_weight_fraction_leaf=0.0, n_estimators=10, n_jobs=None,\n",
       "            oob_score=False, random_state=None, verbose=0,\n",
       "            warm_start=False)"
      ]
     },
     "execution_count": 56,
     "metadata": {},
     "output_type": "execute_result"
    }
   ],
   "source": [
    "rf = RandomForestClassifier()\n",
    "rf.fit(X_train_prep, y_train_prep)"
   ]
  },
  {
   "cell_type": "code",
   "execution_count": 57,
   "metadata": {},
   "outputs": [
    {
     "name": "stdout",
     "output_type": "stream",
     "text": [
      "Predictions on training data for the first 3 reviews : ['negative' 'positive' 'negative']\n",
      "Predictions on the test data for the first 3 reviews : ['positive' 'positive' 'positive']\n"
     ]
    }
   ],
   "source": [
    "ypred_train_rf = rf.predict(X_train_prep)\n",
    "ypred_test_rf = rf.predict(X_test_prep)\n",
    "print ('Predictions on training data for the first 3 reviews :', ypred_train_rf[0:3])\n",
    "print ('Predictions on the test data for the first 3 reviews :',ypred_test_rf[0:3])"
   ]
  },
  {
   "cell_type": "code",
   "execution_count": 58,
   "metadata": {},
   "outputs": [
    {
     "name": "stdout",
     "output_type": "stream",
     "text": [
      "Confusion Matrix and Accuracies for Training Data\n",
      "[[19978    45]\n",
      " [  202 19775]]\n",
      "0.993825 \n",
      "\n",
      "Confusion Matrix and Accuracies for Test Data\n",
      "[[4135  842]\n",
      " [1443 3580]]\n",
      "0.7715 \n",
      "\n"
     ]
    }
   ],
   "source": [
    "print ('Confusion Matrix and Accuracies for Training Data')\n",
    "print (confusion_matrix(y_train_prep, ypred_train_rf))\n",
    "print (accuracy_score(y_train_prep, ypred_train_rf), '\\n')\n",
    "\n",
    "print ('Confusion Matrix and Accuracies for Test Data')\n",
    "print (confusion_matrix(y_test_prep, ypred_test_rf))\n",
    "print (accuracy_score(y_test_prep, ypred_test_rf), '\\n')"
   ]
  },
  {
   "cell_type": "markdown",
   "metadata": {},
   "source": [
    "**Evaluating cross-val score with RandomForest**"
   ]
  },
  {
   "cell_type": "code",
   "execution_count": null,
   "metadata": {},
   "outputs": [],
   "source": [
    "cross_val_score(rf,tfidf_prep,imdb_big['sentiment'],cv=5).mean()"
   ]
  },
  {
   "cell_type": "markdown",
   "metadata": {},
   "source": [
    "**GridSearchCV for tuning hyper parameters**"
   ]
  },
  {
   "cell_type": "code",
   "execution_count": null,
   "metadata": {},
   "outputs": [],
   "source": [
    "from sklearn.model_selection import GridSearchCV"
   ]
  },
  {
   "cell_type": "markdown",
   "metadata": {},
   "source": [
    "**GridSearchCV for logistic Regression**"
   ]
  },
  {
   "cell_type": "code",
   "execution_count": null,
   "metadata": {},
   "outputs": [],
   "source": [
    "params = {'C': [0.001, 0.001, 0.01, 0.5, 0.1, 1, 5, 10, 100 ]}\n",
    "logr_gscv = GridSearchCV(logr_prep, params, cv = 5)\n",
    "logr_gscv.fit(tfidf_prep,imdb_big['sentiment'])"
   ]
  },
  {
   "cell_type": "code",
   "execution_count": null,
   "metadata": {},
   "outputs": [],
   "source": [
    "logr_gscv.best_score_ # Best score"
   ]
  },
  {
   "cell_type": "code",
   "execution_count": null,
   "metadata": {},
   "outputs": [],
   "source": [
    "logr_gscv.best_params_ #best params"
   ]
  },
  {
   "cell_type": "markdown",
   "metadata": {},
   "source": [
    "**GridSearchCV for Random Forest**"
   ]
  },
  {
   "cell_type": "code",
   "execution_count": null,
   "metadata": {},
   "outputs": [],
   "source": [
    "params_rf = {'n_estimators':[100, 500, 1000], 'max_depth': [3, 5, 8, 10]}\n",
    "rf_gscv = GridSearchCV(rf, params_rf, cv = 5)\n",
    "rf_gscv.fit(tfidf_prep,imdb_big['sentiment'])"
   ]
  },
  {
   "cell_type": "code",
   "execution_count": null,
   "metadata": {},
   "outputs": [],
   "source": [
    "rf_gscv.best_score_ # Best score"
   ]
  },
  {
   "cell_type": "code",
   "execution_count": null,
   "metadata": {},
   "outputs": [],
   "source": [
    "rf_gscv.best_params_ #best params"
   ]
  }
 ],
 "metadata": {
  "kernelspec": {
   "display_name": "Python 3",
   "language": "python",
   "name": "python3"
  },
  "language_info": {
   "codemirror_mode": {
    "name": "ipython",
    "version": 3
   },
   "file_extension": ".py",
   "mimetype": "text/x-python",
   "name": "python",
   "nbconvert_exporter": "python",
   "pygments_lexer": "ipython3",
   "version": "3.7.1"
  }
 },
 "nbformat": 4,
 "nbformat_minor": 2
}
