{
 "cells": [
  {
   "cell_type": "markdown",
   "metadata": {},
   "source": [
    "<img style=\"float: left;\" src=\"pic2.png\">"
   ]
  },
  {
   "cell_type": "markdown",
   "metadata": {},
   "source": [
    "### Sridhar Palle, Ph.D, spalle@emory.edu (Applied ML & DS with Python Program)"
   ]
  },
  {
   "cell_type": "markdown",
   "metadata": {},
   "source": [
    "# Text Preprocessing"
   ]
  },
  {
   "cell_type": "markdown",
   "metadata": {},
   "source": [
    "**Import the libraries and dependencies**"
   ]
  },
  {
   "cell_type": "code",
   "execution_count": 1,
   "metadata": {},
   "outputs": [],
   "source": [
    "import pandas as pd\n",
    "import numpy as np\n",
    "import matplotlib.pyplot as plt\n",
    "import seaborn as sns\n",
    "import re\n",
    "from bs4 import BeautifulSoup\n",
    "import nltk\n",
    "import contractions\n",
    "%matplotlib inline"
   ]
  },
  {
   "cell_type": "code",
   "execution_count": 2,
   "metadata": {},
   "outputs": [],
   "source": [
    "#nltk.download('all', halt_on_error=False) # do this only once if never done before"
   ]
  },
  {
   "cell_type": "markdown",
   "metadata": {},
   "source": [
    "## 1. Regex operations"
   ]
  },
  {
   "cell_type": "markdown",
   "metadata": {},
   "source": [
    "* re.match() - matches pattern at the begnining of the string\n",
    "* re.search() - match patterns occuring at any position\n",
    "* re.findall() - returns all non-verlapping matches of a specifief regex pattern\n",
    "* re.sub() - replaces a pattern with another string"
   ]
  },
  {
   "cell_type": "code",
   "execution_count": 3,
   "metadata": {},
   "outputs": [
    {
     "data": {
      "text/plain": [
       "'Learning is a repetitive process. Best way of learning anything in life is to actualllly do it, @@data science wisdom <br> <br>.but what about difficulty in understanding???. Again $ when we take baby steps**,everything becomes easier'"
      ]
     },
     "execution_count": 3,
     "metadata": {},
     "output_type": "execute_result"
    }
   ],
   "source": [
    "sample_text = \"Learning is a repetitive process. Best way of learning anything in life is to actualllly do it, @@data science wisdom <br> <br>.but what about difficulty in understanding???. Again $ when we take baby steps**,everything becomes easier\"\n",
    "sample_text"
   ]
  },
  {
   "cell_type": "code",
   "execution_count": 4,
   "metadata": {},
   "outputs": [
    {
     "data": {
      "text/plain": [
       "<re.Match object; span=(0, 8), match='Learning'>"
      ]
     },
     "execution_count": 4,
     "metadata": {},
     "output_type": "execute_result"
    }
   ],
   "source": [
    "re.match('Learning', sample_text)"
   ]
  },
  {
   "cell_type": "code",
   "execution_count": 5,
   "metadata": {},
   "outputs": [
    {
     "data": {
      "text/plain": [
       "(0, 8)"
      ]
     },
     "execution_count": 5,
     "metadata": {},
     "output_type": "execute_result"
    }
   ],
   "source": [
    "re.match('Learning', sample_text).span()"
   ]
  },
  {
   "cell_type": "code",
   "execution_count": 6,
   "metadata": {},
   "outputs": [],
   "source": [
    "re.match('Best', sample_text) #match only works for matching a pattern at the begining"
   ]
  },
  {
   "cell_type": "markdown",
   "metadata": {},
   "source": [
    "**re.search()**"
   ]
  },
  {
   "cell_type": "code",
   "execution_count": 7,
   "metadata": {},
   "outputs": [
    {
     "data": {
      "text/plain": [
       "'Learning is a repetitive process. Best way of learning anything in life is to actualllly do it, @@data science wisdom <br> <br>.but what about difficulty in understanding???. Again $ when we take baby steps**,everything becomes easier'"
      ]
     },
     "execution_count": 7,
     "metadata": {},
     "output_type": "execute_result"
    }
   ],
   "source": [
    "sample_text"
   ]
  },
  {
   "cell_type": "code",
   "execution_count": 8,
   "metadata": {},
   "outputs": [
    {
     "data": {
      "text/plain": [
       "<re.Match object; span=(34, 38), match='Best'>"
      ]
     },
     "execution_count": 8,
     "metadata": {},
     "output_type": "execute_result"
    }
   ],
   "source": [
    "re.search('Best', sample_text) #search works to match pattern at any position"
   ]
  },
  {
   "cell_type": "markdown",
   "metadata": {},
   "source": [
    "**re.findall()**"
   ]
  },
  {
   "cell_type": "code",
   "execution_count": 9,
   "metadata": {},
   "outputs": [
    {
     "data": {
      "text/plain": [
       "'Learning is a repetitive process. Best way of learning anything in life is to actualllly do it, @@data science wisdom <br> <br>.but what about difficulty in understanding???. Again $ when we take baby steps**,everything becomes easier'"
      ]
     },
     "execution_count": 9,
     "metadata": {},
     "output_type": "execute_result"
    }
   ],
   "source": [
    "sample_text"
   ]
  },
  {
   "cell_type": "code",
   "execution_count": 10,
   "metadata": {},
   "outputs": [
    {
     "data": {
      "text/plain": [
       "['Learning', 'learning']"
      ]
     },
     "execution_count": 10,
     "metadata": {},
     "output_type": "execute_result"
    }
   ],
   "source": [
    "re.findall('Learning', sample_text, re.I)"
   ]
  },
  {
   "cell_type": "code",
   "execution_count": 11,
   "metadata": {},
   "outputs": [
    {
     "data": {
      "text/plain": [
       "['is', 'is', 'is']"
      ]
     },
     "execution_count": 11,
     "metadata": {},
     "output_type": "execute_result"
    }
   ],
   "source": [
    "re.findall('is', sample_text)"
   ]
  },
  {
   "cell_type": "code",
   "execution_count": 15,
   "metadata": {},
   "outputs": [
    {
     "data": {
      "text/plain": [
       "['@', '@', '<', '>', '<', '>', '?', '?', '?', '$', '*', '*']"
      ]
     },
     "execution_count": 15,
     "metadata": {},
     "output_type": "execute_result"
    }
   ],
   "source": [
    "re.findall('[^A-Za-z0-9., ]', sample_text) # returns all characters other than A-Za-z0-9."
   ]
  },
  {
   "cell_type": "markdown",
   "metadata": {},
   "source": [
    "**re.sub()**"
   ]
  },
  {
   "cell_type": "code",
   "execution_count": 16,
   "metadata": {},
   "outputs": [
    {
     "data": {
      "text/plain": [
       "'Learning is a repetitive process. Best way of learning anything in life is to actualllly do it, @@data science wisdom <br> <br>.but what about difficulty in understanding???. Again $ when we take baby steps**,everything becomes easier'"
      ]
     },
     "execution_count": 16,
     "metadata": {},
     "output_type": "execute_result"
    }
   ],
   "source": [
    "sample_text"
   ]
  },
  {
   "cell_type": "code",
   "execution_count": 17,
   "metadata": {},
   "outputs": [
    {
     "data": {
      "text/plain": [
       "'Learning is a repetitive process. Super way of learning anything in life is to actualllly do it, @@data science wisdom <br> <br>.but what about difficulty in understanding???. Again $ when we take baby steps**,everything becomes easier'"
      ]
     },
     "execution_count": 17,
     "metadata": {},
     "output_type": "execute_result"
    }
   ],
   "source": [
    "re.sub('Best', 'Super', sample_text) # substitutes a regex pattern in a string with another"
   ]
  },
  {
   "cell_type": "code",
   "execution_count": 18,
   "metadata": {},
   "outputs": [
    {
     "data": {
      "text/plain": [
       "'Learn500g is a repetitive process. Best way of learn500g anyth500g 500 life is to actualllly do it, @@data science wisdom <br> <br>.but what about difficulty 500 understand500g???. Aga500 $ when we take baby steps**,everyth500g becomes easier'"
      ]
     },
     "execution_count": 18,
     "metadata": {},
     "output_type": "execute_result"
    }
   ],
   "source": [
    "re.sub('in', '500', sample_text)"
   ]
  },
  {
   "cell_type": "code",
   "execution_count": 19,
   "metadata": {},
   "outputs": [
    {
     "data": {
      "text/plain": [
       "'Learning is a repetitive process. Super way of learning anything in life is to actualllly do it, @@data science wisdom <br> <br>.but what about difficulty in understanding???. Again $ when we take baby steps**,everything becomes easier'"
      ]
     },
     "execution_count": 19,
     "metadata": {},
     "output_type": "execute_result"
    }
   ],
   "source": [
    "sample_text.replace('Best', 'Super') #.replace on strings achieves the same and is faster."
   ]
  },
  {
   "cell_type": "markdown",
   "metadata": {},
   "source": [
    "### 1.1.1 Regex rules"
   ]
  },
  {
   "cell_type": "markdown",
   "metadata": {},
   "source": [
    "<img style=\"float: left;\" src=\"reg.png\">"
   ]
  },
  {
   "cell_type": "markdown",
   "metadata": {},
   "source": [
    "**. Period**"
   ]
  },
  {
   "cell_type": "code",
   "execution_count": 20,
   "metadata": {},
   "outputs": [
    {
     "data": {
      "text/plain": [
       "'Learning is a repetitive process. Best way of learning anything in life is to actualllly do it, @@data science wisdom <br> <br>.but what about difficulty in understanding???. Again $ when we take baby steps**,everything becomes easier'"
      ]
     },
     "execution_count": 20,
     "metadata": {},
     "output_type": "execute_result"
    }
   ],
   "source": [
    "sample_text"
   ]
  },
  {
   "cell_type": "code",
   "execution_count": 21,
   "metadata": {},
   "outputs": [
    {
     "data": {
      "text/plain": [
       "['Lear', 'lear', ' eas']"
      ]
     },
     "execution_count": 21,
     "metadata": {},
     "output_type": "execute_result"
    }
   ],
   "source": [
    "re.findall('.ea.', sample_text) # for matching any character before or after period"
   ]
  },
  {
   "cell_type": "code",
   "execution_count": 22,
   "metadata": {},
   "outputs": [
    {
     "data": {
      "text/plain": [
       "['lea', 'lif', 'lll', 'ly ', 'lty']"
      ]
     },
     "execution_count": 22,
     "metadata": {},
     "output_type": "execute_result"
    }
   ],
   "source": [
    "re.findall('l..', sample_text)"
   ]
  },
  {
   "cell_type": "markdown",
   "metadata": {},
   "source": [
    "**^**"
   ]
  },
  {
   "cell_type": "code",
   "execution_count": 23,
   "metadata": {},
   "outputs": [
    {
     "data": {
      "text/plain": [
       "'Learning is a repetitive process. Best way of learning anything in life is to actualllly do it, @@data science wisdom <br> <br>.but what about difficulty in understanding???. Again $ when we take baby steps**,everything becomes easier'"
      ]
     },
     "execution_count": 23,
     "metadata": {},
     "output_type": "execute_result"
    }
   ],
   "source": [
    "sample_text"
   ]
  },
  {
   "cell_type": "code",
   "execution_count": 24,
   "metadata": {},
   "outputs": [
    {
     "data": {
      "text/plain": [
       "['L']"
      ]
     },
     "execution_count": 24,
     "metadata": {},
     "output_type": "execute_result"
    }
   ],
   "source": [
    "re.findall('^L', sample_text, re.I) # ^ for matching the start of the string"
   ]
  },
  {
   "cell_type": "markdown",
   "metadata": {},
   "source": [
    "**$**"
   ]
  },
  {
   "cell_type": "code",
   "execution_count": 25,
   "metadata": {},
   "outputs": [
    {
     "data": {
      "text/plain": [
       "['ier']"
      ]
     },
     "execution_count": 25,
     "metadata": {},
     "output_type": "execute_result"
    }
   ],
   "source": [
    "re.findall('..r$', sample_text) # ^ for matching the end of the string"
   ]
  },
  {
   "cell_type": "markdown",
   "metadata": {},
   "source": [
    "**[...]**"
   ]
  },
  {
   "cell_type": "code",
   "execution_count": 26,
   "metadata": {},
   "outputs": [
    {
     "data": {
      "text/plain": [
       "['@', '@']"
      ]
     },
     "execution_count": 26,
     "metadata": {},
     "output_type": "execute_result"
    }
   ],
   "source": [
    "re.findall('[@]', sample_text) # for matching set of characters inside []"
   ]
  },
  {
   "cell_type": "markdown",
   "metadata": {},
   "source": [
    "**[^...]**"
   ]
  },
  {
   "cell_type": "code",
   "execution_count": 27,
   "metadata": {},
   "outputs": [
    {
     "data": {
      "text/plain": [
       "['@', '@', '<', '>', '<', '>', '?', '?', '?', '$', '*', '*']"
      ]
     },
     "execution_count": 27,
     "metadata": {},
     "output_type": "execute_result"
    }
   ],
   "source": [
    "re.findall('[^A-Za-z., ]', sample_text) # for matching any character which is not there after ^ in the [^ ]"
   ]
  },
  {
   "cell_type": "code",
   "execution_count": 28,
   "metadata": {},
   "outputs": [
    {
     "data": {
      "text/plain": [
       "'Learning is a repetitive process. Number 1 way of learning anything in life is to actualllly do it 1000 times, @@data science wisdom <br> <br>.but what about difficulty in understanding???. Again $ when we take baby steps**,everything becomes easier'"
      ]
     },
     "execution_count": 28,
     "metadata": {},
     "output_type": "execute_result"
    }
   ],
   "source": [
    "sample_text2 = \"Learning is a repetitive process. Number 1 way of learning anything in life is to actualllly do it 1000 times, @@data science wisdom <br> <br>.but what about difficulty in understanding???. Again $ when we take baby steps**,everything becomes easier\"\n",
    "sample_text2"
   ]
  },
  {
   "cell_type": "markdown",
   "metadata": {},
   "source": [
    "**\\d**"
   ]
  },
  {
   "cell_type": "code",
   "execution_count": 29,
   "metadata": {},
   "outputs": [
    {
     "data": {
      "text/plain": [
       "['1', '1', '0', '0', '0']"
      ]
     },
     "execution_count": 29,
     "metadata": {},
     "output_type": "execute_result"
    }
   ],
   "source": [
    "re.findall('\\d', sample_text2) # \\d for matching decimal digits depicted by [0-9]"
   ]
  },
  {
   "cell_type": "markdown",
   "metadata": {},
   "source": [
    "**\\D**"
   ]
  },
  {
   "cell_type": "code",
   "execution_count": 30,
   "metadata": {},
   "outputs": [
    {
     "data": {
      "text/plain": [
       "['L', 'e', 'a', 'r', 'n']"
      ]
     },
     "execution_count": 30,
     "metadata": {},
     "output_type": "execute_result"
    }
   ],
   "source": [
    "re.findall('\\D', sample_text2)[0:5] # \\D for matching non-digits"
   ]
  },
  {
   "cell_type": "markdown",
   "metadata": {},
   "source": [
    "**\\s**"
   ]
  },
  {
   "cell_type": "code",
   "execution_count": 31,
   "metadata": {},
   "outputs": [
    {
     "data": {
      "text/plain": [
       "[' ', ' ', ' ', ' ', ' ']"
      ]
     },
     "execution_count": 31,
     "metadata": {},
     "output_type": "execute_result"
    }
   ],
   "source": [
    "re.findall('\\s', sample_text2)[0:5] # \\s for matching whitespaces "
   ]
  },
  {
   "cell_type": "markdown",
   "metadata": {},
   "source": [
    "**\\S**"
   ]
  },
  {
   "cell_type": "code",
   "execution_count": 32,
   "metadata": {},
   "outputs": [
    {
     "data": {
      "text/plain": [
       "'Learningisarepetitiveprocess.Number1wayoflearninganythinginlifeistoactuallllydoit1000times,@@datasciencewisdom<br><br>.butwhataboutdifficultyinunderstanding???.Again$whenwetakebabysteps**,everythingbecomeseasier'"
      ]
     },
     "execution_count": 32,
     "metadata": {},
     "output_type": "execute_result"
    }
   ],
   "source": [
    "''.join(re.findall('\\S', sample_text2)) # \\S for matching non-whitespaces "
   ]
  },
  {
   "cell_type": "markdown",
   "metadata": {},
   "source": [
    "**\\w**"
   ]
  },
  {
   "cell_type": "code",
   "execution_count": 33,
   "metadata": {},
   "outputs": [
    {
     "data": {
      "text/plain": [
       "['L', 'e', 'a', 'r', 'n']"
      ]
     },
     "execution_count": 33,
     "metadata": {},
     "output_type": "execute_result"
    }
   ],
   "source": [
    "re.findall('\\w', sample_text2)[0:5] # \\w for matching alphanumeric characters [a-zA-Z0-9_]"
   ]
  },
  {
   "cell_type": "markdown",
   "metadata": {},
   "source": [
    "**\\W**"
   ]
  },
  {
   "cell_type": "code",
   "execution_count": 34,
   "metadata": {},
   "outputs": [
    {
     "data": {
      "text/plain": [
       "[' ', ' ', ' ', ' ', '.', ' ', ' ', ' ', ' ']"
      ]
     },
     "execution_count": 34,
     "metadata": {},
     "output_type": "execute_result"
    }
   ],
   "source": [
    "re.findall('\\W', sample_text2)[0:9] # \\W for matching non alphanumeric characters. Same as  [^a-zA-Z0-9_]"
   ]
  },
  {
   "cell_type": "markdown",
   "metadata": {},
   "source": [
    "**For more info on regular expressions please see https://docs.python.org/3.4/library/re.html**"
   ]
  },
  {
   "cell_type": "markdown",
   "metadata": {},
   "source": [
    "# 2. Text Preprocessing"
   ]
  },
  {
   "cell_type": "markdown",
   "metadata": {},
   "source": [
    "**Lets Load a  bigger imdb reviews dataset**"
   ]
  },
  {
   "cell_type": "code",
   "execution_count": 35,
   "metadata": {},
   "outputs": [],
   "source": [
    "imdb_big = pd.read_csv('movie_reviews.csv')"
   ]
  },
  {
   "cell_type": "code",
   "execution_count": 36,
   "metadata": {},
   "outputs": [
    {
     "data": {
      "text/html": [
       "<div>\n",
       "<style scoped>\n",
       "    .dataframe tbody tr th:only-of-type {\n",
       "        vertical-align: middle;\n",
       "    }\n",
       "\n",
       "    .dataframe tbody tr th {\n",
       "        vertical-align: top;\n",
       "    }\n",
       "\n",
       "    .dataframe thead th {\n",
       "        text-align: right;\n",
       "    }\n",
       "</style>\n",
       "<table border=\"1\" class=\"dataframe\">\n",
       "  <thead>\n",
       "    <tr style=\"text-align: right;\">\n",
       "      <th></th>\n",
       "      <th>review</th>\n",
       "      <th>sentiment</th>\n",
       "    </tr>\n",
       "  </thead>\n",
       "  <tbody>\n",
       "    <tr>\n",
       "      <th>0</th>\n",
       "      <td>One of the other reviewers has mentioned that ...</td>\n",
       "      <td>positive</td>\n",
       "    </tr>\n",
       "    <tr>\n",
       "      <th>1</th>\n",
       "      <td>A wonderful little production. &lt;br /&gt;&lt;br /&gt;The...</td>\n",
       "      <td>positive</td>\n",
       "    </tr>\n",
       "    <tr>\n",
       "      <th>2</th>\n",
       "      <td>I thought this was a wonderful way to spend ti...</td>\n",
       "      <td>positive</td>\n",
       "    </tr>\n",
       "  </tbody>\n",
       "</table>\n",
       "</div>"
      ],
      "text/plain": [
       "                                              review sentiment\n",
       "0  One of the other reviewers has mentioned that ...  positive\n",
       "1  A wonderful little production. <br /><br />The...  positive\n",
       "2  I thought this was a wonderful way to spend ti...  positive"
      ]
     },
     "execution_count": 36,
     "metadata": {},
     "output_type": "execute_result"
    }
   ],
   "source": [
    "imdb_big.head(3)"
   ]
  },
  {
   "cell_type": "code",
   "execution_count": 37,
   "metadata": {},
   "outputs": [
    {
     "data": {
      "text/plain": [
       "(50000, 2)"
      ]
     },
     "execution_count": 37,
     "metadata": {},
     "output_type": "execute_result"
    }
   ],
   "source": [
    "imdb_big.shape"
   ]
  },
  {
   "cell_type": "code",
   "execution_count": 38,
   "metadata": {},
   "outputs": [
    {
     "data": {
      "text/plain": [
       "count                                                 50000\n",
       "unique                                                49582\n",
       "top       Loved today's show!!! It was a variety and not...\n",
       "freq                                                      5\n",
       "Name: review, dtype: object"
      ]
     },
     "execution_count": 38,
     "metadata": {},
     "output_type": "execute_result"
    }
   ],
   "source": [
    "imdb_big['review'].describe()"
   ]
  },
  {
   "cell_type": "code",
   "execution_count": 39,
   "metadata": {},
   "outputs": [
    {
     "data": {
      "text/plain": [
       "negative    25000\n",
       "positive    25000\n",
       "Name: sentiment, dtype: int64"
      ]
     },
     "execution_count": 39,
     "metadata": {},
     "output_type": "execute_result"
    }
   ],
   "source": [
    "imdb_big['sentiment'].value_counts()"
   ]
  },
  {
   "cell_type": "markdown",
   "metadata": {},
   "source": [
    "### 2.1 Some basic preprocessing methodologies"
   ]
  },
  {
   "cell_type": "markdown",
   "metadata": {},
   "source": [
    "**Lets take a sample review and demonstrate different preprocessing metholodies**"
   ]
  },
  {
   "cell_type": "code",
   "execution_count": 40,
   "metadata": {},
   "outputs": [],
   "source": [
    "# reviews with lot of special characters, 20867, 26791, 37153, 42947, 48952    "
   ]
  },
  {
   "cell_type": "code",
   "execution_count": 41,
   "metadata": {},
   "outputs": [
    {
     "data": {
      "text/plain": [
       "'In a far away Galaxy is a planet called Ceta. It\\'s native people worship cats. But the dog people wage war upon these feline loving people and they have no choice but to go to Earth and grind people up for food. This is one of the stupidest f#@k!ng ideas for a movie I\\'ve seen. Leave it to Ted Mikels to make a movie more incompetent than the already low standard he set in previous films. It\\'s like he enjoying playing in a celluloid game of Limbo. How low can he go? The only losers in the scenario are US the viewer. Mr. Mikels and his silly little handlebar mustache actually has people who STILL buy this crap.<br /><br />My Grade: F <br /><br />DVD Extras: Commentary by Ted Mikels; the Story behind the Making of (9 and a half minutes); 17 minutes, 15 seconds of Behind the scenes footage; Ted Mikels filmography; and Trailers for \"The Worm Eaters\" \"Girl in Gold Boots\", \"the Doll Squad\", \"Ten Violent Women\" (featuring nudity), \"Blood Orgy of the She Devils\", & \"the Corpse Grinders\"'"
      ]
     },
     "execution_count": 41,
     "metadata": {},
     "output_type": "execute_result"
    }
   ],
   "source": [
    "sample_review = imdb_big['review'][42947]\n",
    "sample_review"
   ]
  },
  {
   "cell_type": "markdown",
   "metadata": {},
   "source": [
    "**Text Normalization or preprocessing steps**\n",
    "    - Converting to lowercase\n",
    "    - Remove html tags\n",
    "    - Removing punctuation\n",
    "    - Removing stop words\n",
    "    - Stemming or lemmatization\n",
    "    - Expanding contractions\n",
    "    - Correcting words, spellings\n",
    "    - ngrams"
   ]
  },
  {
   "cell_type": "markdown",
   "metadata": {},
   "source": [
    "**Converting to lowercase**"
   ]
  },
  {
   "cell_type": "code",
   "execution_count": 42,
   "metadata": {},
   "outputs": [
    {
     "data": {
      "text/plain": [
       "'In a far away Galaxy is a planet called Ceta. It\\'s native people worship cats. But the dog people wage war upon these feline loving people and they have no choice but to go to Earth and grind people up for food. This is one of the stupidest f#@k!ng ideas for a movie I\\'ve seen. Leave it to Ted Mikels to make a movie more incompetent than the already low standard he set in previous films. It\\'s like he enjoying playing in a celluloid game of Limbo. How low can he go? The only losers in the scenario are US the viewer. Mr. Mikels and his silly little handlebar mustache actually has people who STILL buy this crap.<br /><br />My Grade: F <br /><br />DVD Extras: Commentary by Ted Mikels; the Story behind the Making of (9 and a half minutes); 17 minutes, 15 seconds of Behind the scenes footage; Ted Mikels filmography; and Trailers for \"The Worm Eaters\" \"Girl in Gold Boots\", \"the Doll Squad\", \"Ten Violent Women\" (featuring nudity), \"Blood Orgy of the She Devils\", & \"the Corpse Grinders\"'"
      ]
     },
     "execution_count": 42,
     "metadata": {},
     "output_type": "execute_result"
    }
   ],
   "source": [
    "sample_review"
   ]
  },
  {
   "cell_type": "code",
   "execution_count": 43,
   "metadata": {},
   "outputs": [],
   "source": [
    "def lower_case(text):\n",
    "    return text.lower()"
   ]
  },
  {
   "cell_type": "code",
   "execution_count": 44,
   "metadata": {},
   "outputs": [
    {
     "data": {
      "text/plain": [
       "'in a far away galaxy is a planet called ceta. it\\'s native people worship cats. but the dog people wage war upon these feline loving people and they have no choice but to go to earth and grind people up for food. this is one of the stupidest f#@k!ng ideas for a movie i\\'ve seen. leave it to ted mikels to make a movie more incompetent than the already low standard he set in previous films. it\\'s like he enjoying playing in a celluloid game of limbo. how low can he go? the only losers in the scenario are us the viewer. mr. mikels and his silly little handlebar mustache actually has people who still buy this crap.<br /><br />my grade: f <br /><br />dvd extras: commentary by ted mikels; the story behind the making of (9 and a half minutes); 17 minutes, 15 seconds of behind the scenes footage; ted mikels filmography; and trailers for \"the worm eaters\" \"girl in gold boots\", \"the doll squad\", \"ten violent women\" (featuring nudity), \"blood orgy of the she devils\", & \"the corpse grinders\"'"
      ]
     },
     "execution_count": 44,
     "metadata": {},
     "output_type": "execute_result"
    }
   ],
   "source": [
    "sample_review = lower_case(sample_review)\n",
    "sample_review"
   ]
  },
  {
   "cell_type": "markdown",
   "metadata": {},
   "source": [
    "**Removing html tags**"
   ]
  },
  {
   "cell_type": "code",
   "execution_count": 45,
   "metadata": {},
   "outputs": [],
   "source": [
    "def html_parser(text):\n",
    "    return BeautifulSoup(text, \"html.parser\").get_text()"
   ]
  },
  {
   "cell_type": "code",
   "execution_count": 46,
   "metadata": {},
   "outputs": [
    {
     "data": {
      "text/plain": [
       "'in a far away galaxy is a planet called ceta. it\\'s native people worship cats. but the dog people wage war upon these feline loving people and they have no choice but to go to earth and grind people up for food. this is one of the stupidest f#@k!ng ideas for a movie i\\'ve seen. leave it to ted mikels to make a movie more incompetent than the already low standard he set in previous films. it\\'s like he enjoying playing in a celluloid game of limbo. how low can he go? the only losers in the scenario are us the viewer. mr. mikels and his silly little handlebar mustache actually has people who still buy this crap.my grade: f dvd extras: commentary by ted mikels; the story behind the making of (9 and a half minutes); 17 minutes, 15 seconds of behind the scenes footage; ted mikels filmography; and trailers for \"the worm eaters\" \"girl in gold boots\", \"the doll squad\", \"ten violent women\" (featuring nudity), \"blood orgy of the she devils\", & \"the corpse grinders\"'"
      ]
     },
     "execution_count": 46,
     "metadata": {},
     "output_type": "execute_result"
    }
   ],
   "source": [
    "sample_review = html_parser(sample_review)\n",
    "sample_review"
   ]
  },
  {
   "cell_type": "markdown",
   "metadata": {},
   "source": [
    "**Expanding contractions**"
   ]
  },
  {
   "cell_type": "code",
   "execution_count": 47,
   "metadata": {},
   "outputs": [],
   "source": [
    "def replace_contractions(text):\n",
    "    \"\"\"Replace contractions in string of text\"\"\"\n",
    "    return contractions.fix(text)"
   ]
  },
  {
   "cell_type": "code",
   "execution_count": 48,
   "metadata": {},
   "outputs": [
    {
     "data": {
      "text/plain": [
       "'in a far away galaxy is a planet called ceta. it is native people worship cats. but the dog people wage war upon these feline loving people and they have no choice but to go to earth and grind people up for food. this is one of the stupidest f#@k!ng ideas for a movie i\\'ve seen. leave it to ted mikels to make a movie more incompetent than the already low standard he set in previous films. it is like he enjoying playing in a celluloid game of limbo. how low can he go? the only losers in the scenario are us the viewer. mr. mikels and his silly little handlebar mustache actually has people who still buy this crap.my grade: f dvd extras: commentary by ted mikels; the story behind the making of (9 and a half minutes); 17 minutes, 15 seconds of behind the scenes footage; ted mikels filmography; and trailers for \"the worm eaters\" \"girl in gold boots\", \"the doll squad\", \"ten violent women\" (featuring nudity), \"blood orgy of the she devils\", & \"the corpse grinders\"'"
      ]
     },
     "execution_count": 48,
     "metadata": {},
     "output_type": "execute_result"
    }
   ],
   "source": [
    "sample_review = replace_contractions(sample_review)\n",
    "sample_review"
   ]
  },
  {
   "cell_type": "markdown",
   "metadata": {},
   "source": [
    "**Removing punctuation and special characters**"
   ]
  },
  {
   "cell_type": "code",
   "execution_count": 49,
   "metadata": {},
   "outputs": [],
   "source": [
    "def remove_special(text):\n",
    "    return re.sub('[^a-zA-Z0-9]', ' ', text)"
   ]
  },
  {
   "cell_type": "code",
   "execution_count": 50,
   "metadata": {},
   "outputs": [
    {
     "data": {
      "text/plain": [
       "'in a far away galaxy is a planet called ceta  it is native people worship cats  but the dog people wage war upon these feline loving people and they have no choice but to go to earth and grind people up for food  this is one of the stupidest f  k ng ideas for a movie i ve seen  leave it to ted mikels to make a movie more incompetent than the already low standard he set in previous films  it is like he enjoying playing in a celluloid game of limbo  how low can he go  the only losers in the scenario are us the viewer  mr  mikels and his silly little handlebar mustache actually has people who still buy this crap my grade  f dvd extras  commentary by ted mikels  the story behind the making of  9 and a half minutes   17 minutes  15 seconds of behind the scenes footage  ted mikels filmography  and trailers for  the worm eaters   girl in gold boots    the doll squad    ten violent women   featuring nudity    blood orgy of the she devils      the corpse grinders '"
      ]
     },
     "execution_count": 50,
     "metadata": {},
     "output_type": "execute_result"
    }
   ],
   "source": [
    "sample_review = remove_special(sample_review)\n",
    "sample_review"
   ]
  },
  {
   "cell_type": "markdown",
   "metadata": {},
   "source": [
    "**Removing stop words**"
   ]
  },
  {
   "cell_type": "code",
   "execution_count": 58,
   "metadata": {},
   "outputs": [],
   "source": [
    "def remove_stopwords(text):\n",
    "    stopword_list = nltk.corpus.stopwords.words('english')\n",
    "    words = nltk.word_tokenize(text)\n",
    "    words = [word.strip() for word in words]\n",
    "    filtered_words = [word for word in words if word not in stopword_list]\n",
    "    return ' '.join(filtered_words)"
   ]
  },
  {
   "cell_type": "code",
   "execution_count": 59,
   "metadata": {},
   "outputs": [
    {
     "data": {
      "text/plain": [
       "'far away galaxy planet called ceta native people worship cats dog people wage war upon feline loving people choice go earth grind people food one stupidest f k ng ideas movie seen leave ted mikels make movie incompetent already low standard set previous films like enjoying playing celluloid game limbo low go losers scenario us viewer mr mikels silly little handlebar mustache actually people still buy crap grade f dvd extras commentary ted mikels story behind making 9 half minutes 17 minutes 15 seconds behind scenes footage ted mikels filmography trailers worm eaters girl gold boots doll squad ten violent women featuring nudity blood orgy devils corpse grinders'"
      ]
     },
     "execution_count": 59,
     "metadata": {},
     "output_type": "execute_result"
    }
   ],
   "source": [
    "sample_review = remove_stopwords(sample_review)\n",
    "sample_review"
   ]
  },
  {
   "cell_type": "markdown",
   "metadata": {},
   "source": [
    "**Stemming or Lemmatization**"
   ]
  },
  {
   "cell_type": "code",
   "execution_count": 60,
   "metadata": {},
   "outputs": [],
   "source": [
    "def word_stem(text, kind='stemming'):\n",
    "        from nltk.stem import WordNetLemmatizer\n",
    "        from nltk.stem import PorterStemmer\n",
    "        wnl = WordNetLemmatizer()\n",
    "        ps = PorterStemmer()\n",
    "\n",
    "        words = nltk.word_tokenize(text)\n",
    "        words = [word.strip() for word in words]\n",
    "        filtered_words = [wnl.lemmatize(word) if (kind == 'lemmatize') else ps.stem(word) for word in words]\n",
    "        return ' '.join(filtered_words)"
   ]
  },
  {
   "cell_type": "code",
   "execution_count": 61,
   "metadata": {},
   "outputs": [
    {
     "data": {
      "text/plain": [
       "'far away galaxi planet call ceta nativ peopl worship cat dog peopl wage war upon felin love peopl choic go earth grind peopl food one stupidest f k ng idea movi seen leav ted mikel make movi incompet alreadi low standard set previou film like enjoy play celluloid game limbo low go loser scenario us viewer mr mikel silli littl handlebar mustach actual peopl still buy crap grade f dvd extra commentari ted mikel stori behind make 9 half minut 17 minut 15 second behind scene footag ted mikel filmographi trailer worm eater girl gold boot doll squad ten violent women featur nuditi blood orgi devil corps grinder'"
      ]
     },
     "execution_count": 61,
     "metadata": {},
     "output_type": "execute_result"
    }
   ],
   "source": [
    "word_stem(sample_review)"
   ]
  },
  {
   "cell_type": "code",
   "execution_count": 62,
   "metadata": {},
   "outputs": [
    {
     "data": {
      "text/plain": [
       "'far away galaxy planet called ceta native people worship cat dog people wage war upon feline loving people choice go earth grind people food one stupidest f k ng idea movie seen leave ted mikels make movie incompetent already low standard set previous film like enjoying playing celluloid game limbo low go loser scenario u viewer mr mikels silly little handlebar mustache actually people still buy crap grade f dvd extra commentary ted mikels story behind making 9 half minute 17 minute 15 second behind scene footage ted mikels filmography trailer worm eater girl gold boot doll squad ten violent woman featuring nudity blood orgy devil corpse grinder'"
      ]
     },
     "execution_count": 62,
     "metadata": {},
     "output_type": "execute_result"
    }
   ],
   "source": [
    "word_stem(sample_review, 'lemmatize')"
   ]
  },
  {
   "cell_type": "code",
   "execution_count": null,
   "metadata": {},
   "outputs": [],
   "source": []
  }
 ],
 "metadata": {
  "kernelspec": {
   "display_name": "Python 3",
   "language": "python",
   "name": "python3"
  },
  "language_info": {
   "codemirror_mode": {
    "name": "ipython",
    "version": 3
   },
   "file_extension": ".py",
   "mimetype": "text/x-python",
   "name": "python",
   "nbconvert_exporter": "python",
   "pygments_lexer": "ipython3",
   "version": "3.7.1"
  }
 },
 "nbformat": 4,
 "nbformat_minor": 2
}
