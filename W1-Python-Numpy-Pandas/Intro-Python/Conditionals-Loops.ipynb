{
 "cells": [
  {
   "cell_type": "markdown",
   "metadata": {},
   "source": [
    "<img style=\"float: left;\" src=\"pic2.png\">"
   ]
  },
  {
   "cell_type": "markdown",
   "metadata": {},
   "source": [
    "### Sridhar Palle, Ph.D, spalle@emory.edu (Applied ML & DS with Python Program)"
   ]
  },
  {
   "cell_type": "markdown",
   "metadata": {},
   "source": [
    "# Conditionals, Loops, and Functions"
   ]
  },
  {
   "cell_type": "markdown",
   "metadata": {},
   "source": [
    "## Basic operators\n",
    "* = assignment\n",
    "* +addition\n",
    "* -substraction\n",
    "* / division\n",
    "* % remainder\n",
    "* // quotient\n",
    "* == equivalent\n",
    "* != not equivalent\n",
    "* <= for less than or equal to\n",
    "* **in, not in** checks for membership\n",
    "* **and** conditional operator\n",
    "* **or** cnditional operator"
   ]
  },
  {
   "cell_type": "markdown",
   "metadata": {},
   "source": [
    "## 1. Conditionals: if, if else, if elif, if elif else:"
   ]
  },
  {
   "cell_type": "code",
   "execution_count": 1,
   "metadata": {},
   "outputs": [
    {
     "name": "stdout",
     "output_type": "stream",
     "text": [
      "Hello\n"
     ]
    }
   ],
   "source": [
    "if 2 <4: \n",
    "    print (\"Hello\")"
   ]
  },
  {
   "cell_type": "code",
   "execution_count": 3,
   "metadata": {},
   "outputs": [
    {
     "name": "stdout",
     "output_type": "stream",
     "text": [
      "9 is Odd number\n"
     ]
    }
   ],
   "source": [
    "num = 9\n",
    "if (num % 2 == 0):\n",
    "    print (str(num) + ' is Even Number')\n",
    "else:\n",
    "    print (str(num) + ' is Odd number')"
   ]
  },
  {
   "cell_type": "code",
   "execution_count": 9,
   "metadata": {},
   "outputs": [
    {
     "name": "stdout",
     "output_type": "stream",
     "text": [
      "5\n"
     ]
    }
   ],
   "source": [
    "# lets look at an example with Movie ticket price conditions\n",
    "age = 70\n",
    "bday = False\n",
    "if (age < 4 or  bday):\n",
    "    price = 0\n",
    "elif (age >= 4 and age <= 60):\n",
    "    price = 15\n",
    "else:\n",
    "    price = 5\n",
    "\n",
    "print (price)"
   ]
  },
  {
   "cell_type": "code",
   "execution_count": 10,
   "metadata": {},
   "outputs": [],
   "source": [
    "language_list = ['python', 'R', 'Java', 'C++']"
   ]
  },
  {
   "cell_type": "code",
   "execution_count": 11,
   "metadata": {},
   "outputs": [
    {
     "name": "stdout",
     "output_type": "stream",
     "text": [
      "R\n"
     ]
    }
   ],
   "source": [
    "language = 'R'\n",
    "if (language in language_list):\n",
    "    print (language)"
   ]
  },
  {
   "cell_type": "markdown",
   "metadata": {},
   "source": [
    "***Extras (Optional)***"
   ]
  },
  {
   "cell_type": "markdown",
   "metadata": {},
   "source": [
    "**if else in one line**\n",
    "* value1 if (condition) else value2**"
   ]
  },
  {
   "cell_type": "code",
   "execution_count": 12,
   "metadata": {},
   "outputs": [
    {
     "data": {
      "text/plain": [
       "'tesla'"
      ]
     },
     "execution_count": 12,
     "metadata": {},
     "output_type": "execute_result"
    }
   ],
   "source": [
    "\"tesla\" if (1<2) else \"everyone else\"  #  .... if (condition) else ....."
   ]
  },
  {
   "cell_type": "markdown",
   "metadata": {},
   "source": [
    "## 2. Loops: for, while"
   ]
  },
  {
   "cell_type": "markdown",
   "metadata": {},
   "source": [
    "### 2.1 for loop"
   ]
  },
  {
   "cell_type": "code",
   "execution_count": 13,
   "metadata": {},
   "outputs": [
    {
     "name": "stdout",
     "output_type": "stream",
     "text": [
      "1\n",
      "2\n",
      "3\n",
      "4\n"
     ]
    }
   ],
   "source": [
    "for x in [1,2,3,4]: # for loop typically iterate over a sequence or any collection of elements\n",
    "    print (x)"
   ]
  },
  {
   "cell_type": "code",
   "execution_count": 14,
   "metadata": {},
   "outputs": [
    {
     "name": "stdout",
     "output_type": "stream",
     "text": [
      "0\n",
      "1\n",
      "2\n",
      "3\n",
      "4\n"
     ]
    }
   ],
   "source": [
    "for i in range(0,5):  # we can iterate directly over range. \n",
    "    print (i)"
   ]
  },
  {
   "cell_type": "markdown",
   "metadata": {
    "collapsed": true
   },
   "source": [
    "**We can also iterate over lists, tuples, strings, and dictionaries**"
   ]
  },
  {
   "cell_type": "code",
   "execution_count": 15,
   "metadata": {},
   "outputs": [],
   "source": [
    "Emory_ECE = ['BI', 'Big Data Analytics', 'Cybersecurity', 'Applied ML-DS', 'AI', 'Data Engineering']"
   ]
  },
  {
   "cell_type": "code",
   "execution_count": 16,
   "metadata": {},
   "outputs": [
    {
     "name": "stdout",
     "output_type": "stream",
     "text": [
      "BI\n",
      "Big Data Analytics\n",
      "Cybersecurity\n",
      "Applied ML-DS\n",
      "AI\n",
      "Data Engineering\n"
     ]
    }
   ],
   "source": [
    "for program in Emory_ECE:\n",
    "    print (program)"
   ]
  },
  {
   "cell_type": "markdown",
   "metadata": {},
   "source": [
    "**Combining loops and conditional statements**"
   ]
  },
  {
   "cell_type": "code",
   "execution_count": 17,
   "metadata": {},
   "outputs": [
    {
     "name": "stdout",
     "output_type": "stream",
     "text": [
      "Emory currently offers: BI\n",
      "Emory currently offers: Big Data Analytics\n",
      "Emory currently offers: Cybersecurity\n",
      "Emory currently offers: Applied ML-DS\n",
      "AI starts in July 13 2019\n",
      "Data Engineering Scheduled for Fall 2019\n"
     ]
    }
   ],
   "source": [
    "for program in Emory_ECE:\n",
    "    if (program == 'Data Engineering'):      \n",
    "        print (program + \" Scheduled for Fall 2019\")\n",
    "    elif(program == 'AI'):\n",
    "        print (program + \" starts in July 13 2019\")\n",
    "    else:\n",
    "        print ('Emory currently offers: ' + program)"
   ]
  },
  {
   "cell_type": "markdown",
   "metadata": {},
   "source": [
    "**Lists, tuples, dictionaries, strings are all iterables**"
   ]
  },
  {
   "cell_type": "code",
   "execution_count": 18,
   "metadata": {},
   "outputs": [],
   "source": [
    "my_list = [\"Elon Musk\", \"Steve Jobs\", \"Jeff Bezos\", \"Jensen Huang\", \"Larry Page\"]\n",
    "my_dict = {\"Elon Musk\":\"Tesla\", \"Steve Jobs\": \"Apple\", \"Jeff Bezos\": \"Amazon\", \"Jensen Huang\": \"Nvdia\", \"Larry Page\": \"Google\"}\n",
    "my_string = \"Innovation\""
   ]
  },
  {
   "cell_type": "code",
   "execution_count": 19,
   "metadata": {},
   "outputs": [
    {
     "name": "stdout",
     "output_type": "stream",
     "text": [
      "Elon Musk\n",
      "Steve Jobs\n",
      "Jeff Bezos\n",
      "Jensen Huang\n",
      "Larry Page\n"
     ]
    }
   ],
   "source": [
    "for ceo in my_list:\n",
    "    print (ceo)"
   ]
  },
  {
   "cell_type": "code",
   "execution_count": 21,
   "metadata": {},
   "outputs": [
    {
     "name": "stdout",
     "output_type": "stream",
     "text": [
      "Elon Musk\n",
      "Steve Jobs\n",
      "Jeff Bezos\n",
      "Jensen Huang\n",
      "Larry Page\n"
     ]
    }
   ],
   "source": [
    "for ceo in my_dict: # by default, its iterating over keys (my-dict.keys())\n",
    "    print (ceo) "
   ]
  },
  {
   "cell_type": "code",
   "execution_count": 22,
   "metadata": {},
   "outputs": [
    {
     "name": "stdout",
     "output_type": "stream",
     "text": [
      "Tesla\n",
      "Apple\n",
      "Amazon\n",
      "Nvdia\n",
      "Google\n"
     ]
    }
   ],
   "source": [
    "for company in my_dict.values(): # if we want to iterate over values\n",
    "    print (company)   "
   ]
  },
  {
   "cell_type": "code",
   "execution_count": 23,
   "metadata": {},
   "outputs": [
    {
     "name": "stdout",
     "output_type": "stream",
     "text": [
      "Elon Musk is the ceo of Tesla\n",
      "Steve Jobs is the ceo of Apple\n",
      "Jeff Bezos is the ceo of Amazon\n",
      "Jensen Huang is the ceo of Nvdia\n",
      "Larry Page is the ceo of Google\n"
     ]
    }
   ],
   "source": [
    "for ceo, comp in my_dict.items(): # or we can directy iterate over both keys and values of a dictionary\n",
    "    print (str(ceo) + \" is the ceo of \" +str(comp))"
   ]
  },
  {
   "cell_type": "code",
   "execution_count": 24,
   "metadata": {},
   "outputs": [
    {
     "name": "stdout",
     "output_type": "stream",
     "text": [
      "I\n",
      "n\n",
      "n\n",
      "o\n",
      "v\n",
      "a\n",
      "t\n",
      "i\n",
      "o\n",
      "n\n"
     ]
    }
   ],
   "source": [
    "for char in my_string: #for iterating over strings\n",
    "    print (char)"
   ]
  },
  {
   "cell_type": "markdown",
   "metadata": {},
   "source": [
    "### Input from user"
   ]
  },
  {
   "cell_type": "markdown",
   "metadata": {},
   "source": [
    "**sometimes in computer programs, we want input from users.**"
   ]
  },
  {
   "cell_type": "code",
   "execution_count": 25,
   "metadata": {},
   "outputs": [
    {
     "name": "stdout",
     "output_type": "stream",
     "text": [
      "Please enter your name: Superman\n",
      "Hello Superman\n"
     ]
    }
   ],
   "source": [
    "string = input(\"Please enter your name: \")\n",
    "print (\"Hello\", string)"
   ]
  },
  {
   "cell_type": "code",
   "execution_count": 26,
   "metadata": {},
   "outputs": [
    {
     "name": "stdout",
     "output_type": "stream",
     "text": [
      "please enter your hobbies: Flying, saving, fighting, loving\n",
      "My hobbies are Flying, saving, fighting, loving\n"
     ]
    }
   ],
   "source": [
    "string = input(\"please enter your hobbies: \")\n",
    "print (\"My hobbies are\", string)"
   ]
  },
  {
   "cell_type": "code",
   "execution_count": 27,
   "metadata": {},
   "outputs": [
    {
     "data": {
      "text/plain": [
       "'Flying, saving, fighting, loving'"
      ]
     },
     "execution_count": 27,
     "metadata": {},
     "output_type": "execute_result"
    }
   ],
   "source": [
    "string"
   ]
  },
  {
   "cell_type": "code",
   "execution_count": 28,
   "metadata": {},
   "outputs": [
    {
     "name": "stdout",
     "output_type": "stream",
     "text": [
      "some num: 100\n"
     ]
    },
    {
     "data": {
      "text/plain": [
       "int"
      ]
     },
     "execution_count": 28,
     "metadata": {},
     "output_type": "execute_result"
    }
   ],
   "source": [
    "s = int(input('some num: ')) # by default it takes the input as a string\n",
    "type(s)"
   ]
  },
  {
   "cell_type": "markdown",
   "metadata": {},
   "source": [
    "### 2.2 while loop"
   ]
  },
  {
   "cell_type": "code",
   "execution_count": 29,
   "metadata": {},
   "outputs": [],
   "source": [
    "#Sometimes we want to keep on iterating until some condition is satisfied. Best to use, while loop for this"
   ]
  },
  {
   "cell_type": "code",
   "execution_count": 30,
   "metadata": {},
   "outputs": [
    {
     "name": "stdout",
     "output_type": "stream",
     "text": [
      "the value of x is :5\n",
      "the value of x is :6\n",
      "the value of x is :7\n",
      "the value of x is :8\n",
      "the value of x is :9\n"
     ]
    }
   ],
   "source": [
    "x = 5\n",
    "while (x < 10): \n",
    "    print ('the value of x is :' + str(x))\n",
    "    x = x+1\n",
    "    "
   ]
  },
  {
   "cell_type": "code",
   "execution_count": 31,
   "metadata": {},
   "outputs": [
    {
     "name": "stdout",
     "output_type": "stream",
     "text": [
      "Lets play a word and character count game. Please enter a word: Superman\n",
      "Total number of characters in the word Superman are:  8\n",
      "Lets play a word and character count game. Please enter a word: Emory\n",
      "Total number of characters in the word Emory are:  5\n",
      "Lets play a word and character count game. Please enter a word: quit\n",
      "Total number of characters in the word quit are:  4\n"
     ]
    }
   ],
   "source": [
    "flag = True\n",
    "while(flag):\n",
    "    s = input(\"Lets play a word and character count game. Please enter a word: \")\n",
    "    if(s == \"quit\"): \n",
    "        flag = False\n",
    "    print (\"Total number of characters in the word \" + s + \" are: \", len(s))"
   ]
  },
  {
   "cell_type": "markdown",
   "metadata": {},
   "source": [
    "### 2.3 loop controls"
   ]
  },
  {
   "cell_type": "markdown",
   "metadata": {},
   "source": [
    "**break** to exit the loop"
   ]
  },
  {
   "cell_type": "code",
   "execution_count": 32,
   "metadata": {},
   "outputs": [
    {
     "name": "stdout",
     "output_type": "stream",
     "text": [
      "0\n",
      "1\n",
      "2\n",
      "3\n",
      "4\n"
     ]
    }
   ],
   "source": [
    "# break exits the for loop\n",
    "for i in range(100):\n",
    "    if (i > 4):\n",
    "        break\n",
    "    print (i)"
   ]
  },
  {
   "cell_type": "markdown",
   "metadata": {},
   "source": [
    "**continue** to skip an iteration"
   ]
  },
  {
   "cell_type": "code",
   "execution_count": 33,
   "metadata": {},
   "outputs": [
    {
     "name": "stdout",
     "output_type": "stream",
     "text": [
      "5\n",
      "6\n",
      "7\n",
      "8\n",
      "9\n"
     ]
    }
   ],
   "source": [
    "# continue terminates that particular iteration and goes to next iteration\n",
    "for i in range(10):\n",
    "    if (i < 5):\n",
    "        continue\n",
    "    print (i)"
   ]
  },
  {
   "cell_type": "markdown",
   "metadata": {},
   "source": [
    "### ***Extras (Optional)***"
   ]
  },
  {
   "cell_type": "markdown",
   "metadata": {},
   "source": [
    "### 2.4 Comprehensions"
   ]
  },
  {
   "cell_type": "markdown",
   "metadata": {},
   "source": [
    "**List Comprehensions**"
   ]
  },
  {
   "cell_type": "code",
   "execution_count": null,
   "metadata": {},
   "outputs": [],
   "source": [
    "# cleaner single line code for for loops. The same output can be achieved by traditional for loops as well\n",
    "[i for i in range(10)]"
   ]
  },
  {
   "cell_type": "code",
   "execution_count": null,
   "metadata": {},
   "outputs": [],
   "source": [
    "Emory_ECE"
   ]
  },
  {
   "cell_type": "code",
   "execution_count": null,
   "metadata": {},
   "outputs": [],
   "source": [
    "[program for program in Emory_ECE]"
   ]
  },
  {
   "cell_type": "code",
   "execution_count": null,
   "metadata": {},
   "outputs": [],
   "source": [
    "%%timeit\n",
    "divtwo = []\n",
    "for i in range(10):\n",
    "    divtwo.append(i/2)"
   ]
  },
  {
   "cell_type": "code",
   "execution_count": null,
   "metadata": {},
   "outputs": [],
   "source": [
    "%timeit divtwo = [i/2 for i in range(10)] #List comprehensions are faster and take less code"
   ]
  },
  {
   "cell_type": "code",
   "execution_count": null,
   "metadata": {},
   "outputs": [],
   "source": [
    "d = dict([(\"a\", 2), (\"b\",3), (\"c\", 9), (\"d\",2), (\"e\", 1)])\n",
    "d"
   ]
  },
  {
   "cell_type": "code",
   "execution_count": null,
   "metadata": {},
   "outputs": [],
   "source": [
    "[k for k,v in d.items() if v < 4] # get keys from values by looping on both keys and values"
   ]
  },
  {
   "cell_type": "markdown",
   "metadata": {},
   "source": [
    "**Dictionary comprehension**"
   ]
  },
  {
   "cell_type": "code",
   "execution_count": null,
   "metadata": {},
   "outputs": [],
   "source": [
    "{k:v for k,v in d.items() if v < 4} # get only those dictionary pairs, where the value is less than 4"
   ]
  },
  {
   "cell_type": "markdown",
   "metadata": {},
   "source": [
    "**Tuple unpacking**"
   ]
  },
  {
   "cell_type": "code",
   "execution_count": null,
   "metadata": {},
   "outputs": [],
   "source": [
    "l = [(1,3), (4,6), (7,9)]"
   ]
  },
  {
   "cell_type": "code",
   "execution_count": null,
   "metadata": {},
   "outputs": [],
   "source": [
    "l"
   ]
  },
  {
   "cell_type": "code",
   "execution_count": null,
   "metadata": {},
   "outputs": [],
   "source": [
    "for el in l:\n",
    "    print (el)"
   ]
  },
  {
   "cell_type": "code",
   "execution_count": null,
   "metadata": {},
   "outputs": [],
   "source": [
    "for a,b in l: #can iterate over elements of a tuple in a list directly\n",
    "    print (a)"
   ]
  },
  {
   "cell_type": "code",
   "execution_count": null,
   "metadata": {},
   "outputs": [],
   "source": [
    "[a for a,b in l]"
   ]
  },
  {
   "cell_type": "markdown",
   "metadata": {
    "collapsed": true
   },
   "source": [
    "**Some very useful functions**\n",
    "* map\n",
    "* lambda\n",
    "* zip\n",
    "* filter"
   ]
  },
  {
   "cell_type": "markdown",
   "metadata": {},
   "source": [
    "### map"
   ]
  },
  {
   "cell_type": "code",
   "execution_count": null,
   "metadata": {},
   "outputs": [],
   "source": [
    "lnum = [1,-2,3,-4,5]   # use map if we want apply a function over all the elements of a list or tuple\n",
    "list (map(abs, lnum))"
   ]
  },
  {
   "cell_type": "code",
   "execution_count": null,
   "metadata": {},
   "outputs": [],
   "source": [
    "list(map(str, lnum))  #convert each element of this list from int to string"
   ]
  },
  {
   "cell_type": "markdown",
   "metadata": {},
   "source": [
    "### lambda"
   ]
  },
  {
   "cell_type": "code",
   "execution_count": null,
   "metadata": {},
   "outputs": [],
   "source": [
    "# Instead of havign a pre-existing function, we can have a function on the go with lambda list\n",
    "list(map(lambda var: var**3, lnum))\n",
    "# lambda var: var**3 is a function we wrote on the go. This function is executed on every element of list l"
   ]
  },
  {
   "cell_type": "markdown",
   "metadata": {},
   "source": [
    "### filter "
   ]
  },
  {
   "cell_type": "code",
   "execution_count": null,
   "metadata": {},
   "outputs": [],
   "source": [
    "# Similar to map . It also uses a function. But this function should return boolean values \n",
    "# and based on these, the filter will return only those elements for which the function evaluates True\n",
    "list(filter(lambda var: var < 2, lnum))"
   ]
  },
  {
   "cell_type": "code",
   "execution_count": null,
   "metadata": {},
   "outputs": [],
   "source": [
    "list(filter(lambda x: x == 3, lnum))"
   ]
  }
 ],
 "metadata": {
  "kernelspec": {
   "display_name": "Python 3",
   "language": "python",
   "name": "python3"
  },
  "language_info": {
   "codemirror_mode": {
    "name": "ipython",
    "version": 3
   },
   "file_extension": ".py",
   "mimetype": "text/x-python",
   "name": "python",
   "nbconvert_exporter": "python",
   "pygments_lexer": "ipython3",
   "version": "3.7.1"
  }
 },
 "nbformat": 4,
 "nbformat_minor": 2
}
